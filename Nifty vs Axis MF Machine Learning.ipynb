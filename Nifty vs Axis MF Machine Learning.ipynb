{
 "cells": [
  {
   "cell_type": "markdown",
   "id": "020d6758",
   "metadata": {},
   "source": [
    "### Importing the Libraries"
   ]
  },
  {
   "cell_type": "code",
   "execution_count": 1,
   "id": "2876a885",
   "metadata": {},
   "outputs": [],
   "source": [
    "import numpy as np\n",
    "import pandas as pd\n",
    "import matplotlib.pyplot as plt"
   ]
  },
  {
   "cell_type": "markdown",
   "id": "31b549ee",
   "metadata": {},
   "source": [
    "### Import Dataset"
   ]
  },
  {
   "cell_type": "code",
   "execution_count": 2,
   "id": "6322e2f3",
   "metadata": {},
   "outputs": [
    {
     "data": {
      "text/html": [
       "<div>\n",
       "<style scoped>\n",
       "    .dataframe tbody tr th:only-of-type {\n",
       "        vertical-align: middle;\n",
       "    }\n",
       "\n",
       "    .dataframe tbody tr th {\n",
       "        vertical-align: top;\n",
       "    }\n",
       "\n",
       "    .dataframe thead th {\n",
       "        text-align: right;\n",
       "    }\n",
       "</style>\n",
       "<table border=\"1\" class=\"dataframe\">\n",
       "  <thead>\n",
       "    <tr style=\"text-align: right;\">\n",
       "      <th></th>\n",
       "      <th>Nifty 50 Change</th>\n",
       "      <th>Net Asset Value Change in ₹</th>\n",
       "    </tr>\n",
       "  </thead>\n",
       "  <tbody>\n",
       "    <tr>\n",
       "      <th>0</th>\n",
       "      <td>0.00</td>\n",
       "      <td>0.00</td>\n",
       "    </tr>\n",
       "    <tr>\n",
       "      <th>1</th>\n",
       "      <td>0.00</td>\n",
       "      <td>0.00</td>\n",
       "    </tr>\n",
       "    <tr>\n",
       "      <th>2</th>\n",
       "      <td>271.65</td>\n",
       "      <td>1.19</td>\n",
       "    </tr>\n",
       "    <tr>\n",
       "      <th>3</th>\n",
       "      <td>179.55</td>\n",
       "      <td>0.86</td>\n",
       "    </tr>\n",
       "    <tr>\n",
       "      <th>4</th>\n",
       "      <td>120.60</td>\n",
       "      <td>0.56</td>\n",
       "    </tr>\n",
       "    <tr>\n",
       "      <th>...</th>\n",
       "      <td>...</td>\n",
       "      <td>...</td>\n",
       "    </tr>\n",
       "    <tr>\n",
       "      <th>312</th>\n",
       "      <td>-45.80</td>\n",
       "      <td>-0.30</td>\n",
       "    </tr>\n",
       "    <tr>\n",
       "      <th>313</th>\n",
       "      <td>-128.80</td>\n",
       "      <td>-0.87</td>\n",
       "    </tr>\n",
       "    <tr>\n",
       "      <th>314</th>\n",
       "      <td>321.50</td>\n",
       "      <td>0.95</td>\n",
       "    </tr>\n",
       "    <tr>\n",
       "      <th>315</th>\n",
       "      <td>0.00</td>\n",
       "      <td>0.00</td>\n",
       "    </tr>\n",
       "    <tr>\n",
       "      <th>316</th>\n",
       "      <td>0.00</td>\n",
       "      <td>0.00</td>\n",
       "    </tr>\n",
       "  </tbody>\n",
       "</table>\n",
       "<p>317 rows × 2 columns</p>\n",
       "</div>"
      ],
      "text/plain": [
       "     Nifty 50 Change  Net Asset Value Change in ₹\n",
       "0               0.00                         0.00\n",
       "1               0.00                         0.00\n",
       "2             271.65                         1.19\n",
       "3             179.55                         0.86\n",
       "4             120.60                         0.56\n",
       "..               ...                          ...\n",
       "312           -45.80                        -0.30\n",
       "313          -128.80                        -0.87\n",
       "314           321.50                         0.95\n",
       "315             0.00                         0.00\n",
       "316             0.00                         0.00\n",
       "\n",
       "[317 rows x 2 columns]"
      ]
     },
     "execution_count": 2,
     "metadata": {},
     "output_type": "execute_result"
    }
   ],
   "source": [
    "axis_dataset=pd.read_csv('nifty_vs_axis_nav.csv')\n",
    "axis_dataset"
   ]
  },
  {
   "cell_type": "markdown",
   "id": "eaab51dc",
   "metadata": {},
   "source": [
    "#### How big is the dataset? (Rows and columns)"
   ]
  },
  {
   "cell_type": "code",
   "execution_count": 3,
   "id": "6edf199e",
   "metadata": {},
   "outputs": [
    {
     "data": {
      "text/plain": [
       "(317, 2)"
      ]
     },
     "execution_count": 3,
     "metadata": {},
     "output_type": "execute_result"
    }
   ],
   "source": [
    "axis_dataset.shape"
   ]
  },
  {
   "cell_type": "code",
   "execution_count": 4,
   "id": "0b231f98",
   "metadata": {},
   "outputs": [
    {
     "name": "stdout",
     "output_type": "stream",
     "text": [
      "<class 'pandas.core.frame.DataFrame'>\n",
      "RangeIndex: 317 entries, 0 to 316\n",
      "Data columns (total 2 columns):\n",
      " #   Column                       Non-Null Count  Dtype  \n",
      "---  ------                       --------------  -----  \n",
      " 0   Nifty 50 Change              317 non-null    float64\n",
      " 1   Net Asset Value Change in ₹  317 non-null    float64\n",
      "dtypes: float64(2)\n",
      "memory usage: 5.1 KB\n"
     ]
    }
   ],
   "source": [
    "axis_dataset.info()"
   ]
  },
  {
   "cell_type": "markdown",
   "id": "83d49626",
   "metadata": {},
   "source": [
    "#### Data Pre-processing: Finding out NaN values"
   ]
  },
  {
   "cell_type": "code",
   "execution_count": 5,
   "id": "fc388205",
   "metadata": {},
   "outputs": [
    {
     "data": {
      "text/plain": [
       "Nifty 50 Change                False\n",
       "Net Asset Value Change in ₹    False\n",
       "dtype: bool"
      ]
     },
     "execution_count": 5,
     "metadata": {},
     "output_type": "execute_result"
    }
   ],
   "source": [
    "axis_dataset.isna().any()"
   ]
  },
  {
   "cell_type": "markdown",
   "id": "10e6243c",
   "metadata": {},
   "source": [
    "#### Rename specific columns"
   ]
  },
  {
   "cell_type": "code",
   "execution_count": 6,
   "id": "9148fa3f",
   "metadata": {},
   "outputs": [],
   "source": [
    "axis_dataset.rename(columns = {'Nifty 50 Change':'nifty_50_change','Net Asset Value Change in ₹':'axis_nav_changes'},inplace = True)"
   ]
  },
  {
   "cell_type": "code",
   "execution_count": 7,
   "id": "d72c84a8",
   "metadata": {},
   "outputs": [
    {
     "data": {
      "text/html": [
       "<div>\n",
       "<style scoped>\n",
       "    .dataframe tbody tr th:only-of-type {\n",
       "        vertical-align: middle;\n",
       "    }\n",
       "\n",
       "    .dataframe tbody tr th {\n",
       "        vertical-align: top;\n",
       "    }\n",
       "\n",
       "    .dataframe thead th {\n",
       "        text-align: right;\n",
       "    }\n",
       "</style>\n",
       "<table border=\"1\" class=\"dataframe\">\n",
       "  <thead>\n",
       "    <tr style=\"text-align: right;\">\n",
       "      <th></th>\n",
       "      <th>nifty_50_change</th>\n",
       "      <th>axis_nav_changes</th>\n",
       "    </tr>\n",
       "  </thead>\n",
       "  <tbody>\n",
       "    <tr>\n",
       "      <th>0</th>\n",
       "      <td>0.00</td>\n",
       "      <td>0.00</td>\n",
       "    </tr>\n",
       "    <tr>\n",
       "      <th>1</th>\n",
       "      <td>0.00</td>\n",
       "      <td>0.00</td>\n",
       "    </tr>\n",
       "    <tr>\n",
       "      <th>2</th>\n",
       "      <td>271.65</td>\n",
       "      <td>1.19</td>\n",
       "    </tr>\n",
       "    <tr>\n",
       "      <th>3</th>\n",
       "      <td>179.55</td>\n",
       "      <td>0.86</td>\n",
       "    </tr>\n",
       "    <tr>\n",
       "      <th>4</th>\n",
       "      <td>120.60</td>\n",
       "      <td>0.56</td>\n",
       "    </tr>\n",
       "    <tr>\n",
       "      <th>...</th>\n",
       "      <td>...</td>\n",
       "      <td>...</td>\n",
       "    </tr>\n",
       "    <tr>\n",
       "      <th>312</th>\n",
       "      <td>-45.80</td>\n",
       "      <td>-0.30</td>\n",
       "    </tr>\n",
       "    <tr>\n",
       "      <th>313</th>\n",
       "      <td>-128.80</td>\n",
       "      <td>-0.87</td>\n",
       "    </tr>\n",
       "    <tr>\n",
       "      <th>314</th>\n",
       "      <td>321.50</td>\n",
       "      <td>0.95</td>\n",
       "    </tr>\n",
       "    <tr>\n",
       "      <th>315</th>\n",
       "      <td>0.00</td>\n",
       "      <td>0.00</td>\n",
       "    </tr>\n",
       "    <tr>\n",
       "      <th>316</th>\n",
       "      <td>0.00</td>\n",
       "      <td>0.00</td>\n",
       "    </tr>\n",
       "  </tbody>\n",
       "</table>\n",
       "<p>317 rows × 2 columns</p>\n",
       "</div>"
      ],
      "text/plain": [
       "     nifty_50_change  axis_nav_changes\n",
       "0               0.00              0.00\n",
       "1               0.00              0.00\n",
       "2             271.65              1.19\n",
       "3             179.55              0.86\n",
       "4             120.60              0.56\n",
       "..               ...               ...\n",
       "312           -45.80             -0.30\n",
       "313          -128.80             -0.87\n",
       "314           321.50              0.95\n",
       "315             0.00              0.00\n",
       "316             0.00              0.00\n",
       "\n",
       "[317 rows x 2 columns]"
      ]
     },
     "execution_count": 7,
     "metadata": {},
     "output_type": "execute_result"
    }
   ],
   "source": [
    "axis_dataset"
   ]
  },
  {
   "cell_type": "code",
   "execution_count": 8,
   "id": "a6ad98a6",
   "metadata": {},
   "outputs": [
    {
     "data": {
      "text/html": [
       "<div>\n",
       "<style scoped>\n",
       "    .dataframe tbody tr th:only-of-type {\n",
       "        vertical-align: middle;\n",
       "    }\n",
       "\n",
       "    .dataframe tbody tr th {\n",
       "        vertical-align: top;\n",
       "    }\n",
       "\n",
       "    .dataframe thead th {\n",
       "        text-align: right;\n",
       "    }\n",
       "</style>\n",
       "<table border=\"1\" class=\"dataframe\">\n",
       "  <thead>\n",
       "    <tr style=\"text-align: right;\">\n",
       "      <th></th>\n",
       "      <th>nifty_50_change</th>\n",
       "      <th>axis_nav_changes</th>\n",
       "    </tr>\n",
       "  </thead>\n",
       "  <tbody>\n",
       "    <tr>\n",
       "      <th>0</th>\n",
       "      <td>0.00</td>\n",
       "      <td>0.00</td>\n",
       "    </tr>\n",
       "    <tr>\n",
       "      <th>1</th>\n",
       "      <td>0.00</td>\n",
       "      <td>0.00</td>\n",
       "    </tr>\n",
       "    <tr>\n",
       "      <th>2</th>\n",
       "      <td>271.65</td>\n",
       "      <td>1.19</td>\n",
       "    </tr>\n",
       "    <tr>\n",
       "      <th>3</th>\n",
       "      <td>179.55</td>\n",
       "      <td>0.86</td>\n",
       "    </tr>\n",
       "    <tr>\n",
       "      <th>4</th>\n",
       "      <td>120.60</td>\n",
       "      <td>0.56</td>\n",
       "    </tr>\n",
       "  </tbody>\n",
       "</table>\n",
       "</div>"
      ],
      "text/plain": [
       "   nifty_50_change  axis_nav_changes\n",
       "0             0.00              0.00\n",
       "1             0.00              0.00\n",
       "2           271.65              1.19\n",
       "3           179.55              0.86\n",
       "4           120.60              0.56"
      ]
     },
     "execution_count": 8,
     "metadata": {},
     "output_type": "execute_result"
    }
   ],
   "source": [
    "#having a glance at the first five records of the dataset\n",
    "axis_dataset.head()"
   ]
  },
  {
   "cell_type": "markdown",
   "id": "a4d3efc8",
   "metadata": {},
   "source": [
    "### Importing the ML Libraries"
   ]
  },
  {
   "cell_type": "code",
   "execution_count": 9,
   "id": "d7c21adc",
   "metadata": {},
   "outputs": [],
   "source": [
    "import sklearn\n",
    "from sklearn.preprocessing import StandardScaler\n",
    "from sklearn.pipeline import Pipeline"
   ]
  },
  {
   "cell_type": "code",
   "execution_count": 10,
   "id": "b06b5104",
   "metadata": {},
   "outputs": [
    {
     "data": {
      "text/html": [
       "<div>\n",
       "<style scoped>\n",
       "    .dataframe tbody tr th:only-of-type {\n",
       "        vertical-align: middle;\n",
       "    }\n",
       "\n",
       "    .dataframe tbody tr th {\n",
       "        vertical-align: top;\n",
       "    }\n",
       "\n",
       "    .dataframe thead th {\n",
       "        text-align: right;\n",
       "    }\n",
       "</style>\n",
       "<table border=\"1\" class=\"dataframe\">\n",
       "  <thead>\n",
       "    <tr style=\"text-align: right;\">\n",
       "      <th></th>\n",
       "      <th>nifty_50_change</th>\n",
       "      <th>axis_nav_changes</th>\n",
       "    </tr>\n",
       "  </thead>\n",
       "  <tbody>\n",
       "    <tr>\n",
       "      <th>0</th>\n",
       "      <td>0.00</td>\n",
       "      <td>0.00</td>\n",
       "    </tr>\n",
       "    <tr>\n",
       "      <th>1</th>\n",
       "      <td>0.00</td>\n",
       "      <td>0.00</td>\n",
       "    </tr>\n",
       "    <tr>\n",
       "      <th>2</th>\n",
       "      <td>271.65</td>\n",
       "      <td>1.19</td>\n",
       "    </tr>\n",
       "    <tr>\n",
       "      <th>3</th>\n",
       "      <td>179.55</td>\n",
       "      <td>0.86</td>\n",
       "    </tr>\n",
       "    <tr>\n",
       "      <th>4</th>\n",
       "      <td>120.60</td>\n",
       "      <td>0.56</td>\n",
       "    </tr>\n",
       "    <tr>\n",
       "      <th>...</th>\n",
       "      <td>...</td>\n",
       "      <td>...</td>\n",
       "    </tr>\n",
       "    <tr>\n",
       "      <th>312</th>\n",
       "      <td>-45.80</td>\n",
       "      <td>-0.30</td>\n",
       "    </tr>\n",
       "    <tr>\n",
       "      <th>313</th>\n",
       "      <td>-128.80</td>\n",
       "      <td>-0.87</td>\n",
       "    </tr>\n",
       "    <tr>\n",
       "      <th>314</th>\n",
       "      <td>321.50</td>\n",
       "      <td>0.95</td>\n",
       "    </tr>\n",
       "    <tr>\n",
       "      <th>315</th>\n",
       "      <td>0.00</td>\n",
       "      <td>0.00</td>\n",
       "    </tr>\n",
       "    <tr>\n",
       "      <th>316</th>\n",
       "      <td>0.00</td>\n",
       "      <td>0.00</td>\n",
       "    </tr>\n",
       "  </tbody>\n",
       "</table>\n",
       "<p>317 rows × 2 columns</p>\n",
       "</div>"
      ],
      "text/plain": [
       "     nifty_50_change  axis_nav_changes\n",
       "0               0.00              0.00\n",
       "1               0.00              0.00\n",
       "2             271.65              1.19\n",
       "3             179.55              0.86\n",
       "4             120.60              0.56\n",
       "..               ...               ...\n",
       "312           -45.80             -0.30\n",
       "313          -128.80             -0.87\n",
       "314           321.50              0.95\n",
       "315             0.00              0.00\n",
       "316             0.00              0.00\n",
       "\n",
       "[317 rows x 2 columns]"
      ]
     },
     "execution_count": 10,
     "metadata": {},
     "output_type": "execute_result"
    }
   ],
   "source": [
    "axis_dataset"
   ]
  },
  {
   "cell_type": "code",
   "execution_count": 11,
   "id": "50e747d7",
   "metadata": {},
   "outputs": [
    {
     "data": {
      "text/plain": [
       "(317, 2)"
      ]
     },
     "execution_count": 11,
     "metadata": {},
     "output_type": "execute_result"
    }
   ],
   "source": [
    "axis_dataset.shape"
   ]
  },
  {
   "cell_type": "code",
   "execution_count": 12,
   "id": "71eb5553",
   "metadata": {},
   "outputs": [],
   "source": [
    "#Independent Variable\n",
    "X=axis_dataset.iloc[:,:-1].values\n",
    "\n",
    "#Dependent Variable\n",
    "y=axis_dataset.iloc[:,-1].values"
   ]
  },
  {
   "cell_type": "code",
   "execution_count": 13,
   "id": "076e74ba",
   "metadata": {},
   "outputs": [
    {
     "data": {
      "text/plain": [
       "array([[   0.  ],\n",
       "       [   0.  ],\n",
       "       [ 271.65],\n",
       "       [ 179.55],\n",
       "       [ 120.6 ],\n",
       "       [-179.38],\n",
       "       [  66.8 ],\n",
       "       [   0.  ],\n",
       "       [   0.  ],\n",
       "       [ 190.6 ],\n",
       "       [  52.45],\n",
       "       [ 156.6 ],\n",
       "       [  45.45],\n",
       "       [  -2.05],\n",
       "       [   0.  ],\n",
       "       [   0.  ],\n",
       "       [  52.35],\n",
       "       [-195.05],\n",
       "       [-174.65],\n",
       "       [-181.4 ],\n",
       "       [-139.85],\n",
       "       [   0.  ],\n",
       "       [   0.  ],\n",
       "       [-468.05],\n",
       "       [ 128.85],\n",
       "       [   0.  ],\n",
       "       [-167.8 ],\n",
       "       [  -8.2 ],\n",
       "       [   0.  ],\n",
       "       [   0.  ],\n",
       "       [ 237.9 ],\n",
       "       [ 237.  ],\n",
       "       [ 203.15],\n",
       "       [-219.8 ],\n",
       "       [ -43.9 ],\n",
       "       [   0.  ],\n",
       "       [   0.  ],\n",
       "       [-302.7 ],\n",
       "       [  53.15],\n",
       "       [ 197.05],\n",
       "       [ 142.05],\n",
       "       [-231.1 ],\n",
       "       [   0.  ],\n",
       "       [   0.  ],\n",
       "       [-531.95],\n",
       "       [ 509.95],\n",
       "       [ -30.25],\n",
       "       [ -17.6 ],\n",
       "       [ -28.3 ],\n",
       "       [   0.  ],\n",
       "       [   0.  ],\n",
       "       [ -69.65],\n",
       "       [-114.45],\n",
       "       [ -28.95],\n",
       "       [-815.3 ],\n",
       "       [ 410.45],\n",
       "       [   0.  ],\n",
       "       [   0.  ],\n",
       "       [ 135.5 ],\n",
       "       [   0.  ],\n",
       "       [-187.95],\n",
       "       [-107.9 ],\n",
       "       [-252.7 ],\n",
       "       [   0.  ],\n",
       "       [   0.  ],\n",
       "       [-382.2 ],\n",
       "       [ 150.3 ],\n",
       "       [ 331.9 ],\n",
       "       [ 249.55],\n",
       "       [  35.55],\n",
       "       [   0.  ],\n",
       "       [   0.  ],\n",
       "       [ 240.85],\n",
       "       [-208.3 ],\n",
       "       [ 312.35],\n",
       "       [ 311.7 ],\n",
       "       [   0.  ],\n",
       "       [   0.  ],\n",
       "       [   0.  ],\n",
       "       [-169.45],\n",
       "       [ 197.9 ],\n",
       "       [ -69.85],\n",
       "       [ -22.9 ],\n",
       "       [ -69.75],\n",
       "       [   0.  ],\n",
       "       [   0.  ],\n",
       "       [  60.75],\n",
       "       [ 103.3 ],\n",
       "       [ 172.95],\n",
       "       [ -33.5 ],\n",
       "       [ 205.7 ],\n",
       "       [   0.  ],\n",
       "       [   0.  ],\n",
       "       [ 382.95],\n",
       "       [ -96.  ],\n",
       "       [-149.75],\n",
       "       [-168.1 ],\n",
       "       [ 144.8 ],\n",
       "       [   0.  ],\n",
       "       [   0.  ],\n",
       "       [-109.4 ],\n",
       "       [-144.65],\n",
       "       [ -54.65],\n",
       "       [   0.  ],\n",
       "       [   0.  ],\n",
       "       [   0.  ],\n",
       "       [   0.  ],\n",
       "       [-302.  ],\n",
       "       [-215.  ],\n",
       "       [ 177.9 ],\n",
       "       [ 258.55],\n",
       "       [-220.65],\n",
       "       [   0.  ],\n",
       "       [   0.  ],\n",
       "       [-218.  ],\n",
       "       [ 246.85],\n",
       "       [-162.4 ],\n",
       "       [ 206.65],\n",
       "       [-142.5 ],\n",
       "       [   0.  ],\n",
       "       [   0.  ],\n",
       "       [ -33.45],\n",
       "       [   0.  ],\n",
       "       [-391.5 ],\n",
       "       [   5.05],\n",
       "       [-271.4 ],\n",
       "       [   0.  ],\n",
       "       [   0.  ],\n",
       "       [-109.4 ],\n",
       "       [ -61.8 ],\n",
       "       [ -72.95],\n",
       "       [-359.1 ],\n",
       "       [ -25.85],\n",
       "       [   0.  ],\n",
       "       [   0.  ],\n",
       "       [  60.15],\n",
       "       [ 417.  ],\n",
       "       [ -19.  ],\n",
       "       [-430.9 ],\n",
       "       [ 456.75],\n",
       "       [   0.  ],\n",
       "       [   0.  ],\n",
       "       [ -51.45],\n",
       "       [ -89.55],\n",
       "       [ -94.6 ],\n",
       "       [ 144.35],\n",
       "       [ 182.3 ],\n",
       "       [   0.  ],\n",
       "       [   0.  ],\n",
       "       [ 308.95],\n",
       "       [ -76.85],\n",
       "       [ -61.8 ],\n",
       "       [ 105.25],\n",
       "       [ -43.7 ],\n",
       "       [   0.  ],\n",
       "       [   0.  ],\n",
       "       [ -14.75],\n",
       "       [-153.2 ],\n",
       "       [ -60.1 ],\n",
       "       [ 126.  ],\n",
       "       [-276.3 ],\n",
       "       [   0.  ],\n",
       "       [   0.  ],\n",
       "       [-427.4 ],\n",
       "       [ -42.3 ],\n",
       "       [ -39.95],\n",
       "       [-331.55],\n",
       "       [ -67.1 ],\n",
       "       [   0.  ],\n",
       "       [   0.  ],\n",
       "       [  56.65],\n",
       "       [ 288.65],\n",
       "       [-225.5 ],\n",
       "       [ 143.35],\n",
       "       [ 142.6 ],\n",
       "       [   0.  ],\n",
       "       [   0.  ],\n",
       "       [ 132.8 ],\n",
       "       [  18.15],\n",
       "       [ -51.1 ],\n",
       "       [ -18.85],\n",
       "       [ -28.2 ],\n",
       "       [   0.  ],\n",
       "       [   0.  ],\n",
       "       [  83.3 ],\n",
       "       [ -24.5 ],\n",
       "       [ 178.95],\n",
       "       [ 143.1 ],\n",
       "       [  87.7 ],\n",
       "       [   0.  ],\n",
       "       [   0.  ],\n",
       "       [  -4.6 ],\n",
       "       [-157.7 ],\n",
       "       [ -91.65],\n",
       "       [ -28.  ],\n",
       "       [ 110.55],\n",
       "       [   0.  ],\n",
       "       [   0.  ],\n",
       "       [ 229.3 ],\n",
       "       [  62.05],\n",
       "       [ 180.3 ],\n",
       "       [  84.4 ],\n",
       "       [ 114.2 ],\n",
       "       [   0.  ],\n",
       "       [   0.  ],\n",
       "       [ -88.45],\n",
       "       [-147.15],\n",
       "       [ 158.6 ],\n",
       "       [ 287.8 ],\n",
       "       [ 228.65],\n",
       "       [   0.  ],\n",
       "       [   0.  ],\n",
       "       [ 181.8 ],\n",
       "       [   5.4 ],\n",
       "       [  42.7 ],\n",
       "       [  -6.15],\n",
       "       [  15.5 ],\n",
       "       [   0.  ],\n",
       "       [   0.  ],\n",
       "       [ 127.6 ],\n",
       "       [   0.  ],\n",
       "       [   9.65],\n",
       "       [ 124.25],\n",
       "       [  39.15],\n",
       "       [   0.  ],\n",
       "       [   0.  ],\n",
       "       [   0.  ],\n",
       "       [ 127.1 ],\n",
       "       [ 119.  ],\n",
       "       [  12.25],\n",
       "       [-198.05],\n",
       "       [   0.  ],\n",
       "       [   0.  ],\n",
       "       [-267.75],\n",
       "       [  86.8 ],\n",
       "       [  27.45],\n",
       "       [ -82.5 ],\n",
       "       [  36.45],\n",
       "       [   0.  ],\n",
       "       [   0.  ],\n",
       "       [-246.  ],\n",
       "       [ 342.2 ],\n",
       "       [   0.  ],\n",
       "       [-216.5 ],\n",
       "       [  -3.35],\n",
       "       [   0.  ],\n",
       "       [   0.  ],\n",
       "       [ 126.35],\n",
       "       [ -10.2 ],\n",
       "       [ -31.2 ],\n",
       "       [ 174.35],\n",
       "       [  34.6 ],\n",
       "       [   0.  ],\n",
       "       [   0.  ],\n",
       "       [ 103.  ],\n",
       "       [ 133.7 ],\n",
       "       [ -66.3 ],\n",
       "       [-126.35],\n",
       "       [-287.8 ],\n",
       "       [   0.  ],\n",
       "       [   0.  ],\n",
       "       [  91.4 ],\n",
       "       [ 194.  ],\n",
       "       [ -97.9 ],\n",
       "       [ -88.55],\n",
       "       [-302.45],\n",
       "       [   0.  ],\n",
       "       [   0.  ],\n",
       "       [-311.05],\n",
       "       [  -8.9 ],\n",
       "       [-148.8 ],\n",
       "       [ -58.3 ],\n",
       "       [ 279.95],\n",
       "       [   0.  ],\n",
       "       [   0.  ],\n",
       "       [-207.  ],\n",
       "       [ 386.95],\n",
       "       [   0.  ],\n",
       "       [  57.5 ],\n",
       "       [ -17.15],\n",
       "       [   0.  ],\n",
       "       [   0.  ],\n",
       "       [-158.9 ],\n",
       "       [-226.5 ],\n",
       "       [ 140.05],\n",
       "       [-109.25],\n",
       "       [ 171.35],\n",
       "       [   0.  ],\n",
       "       [   0.  ],\n",
       "       [ 126.1 ],\n",
       "       [ 175.15],\n",
       "       [  25.3 ],\n",
       "       [  51.7 ],\n",
       "       [  12.35],\n",
       "       [   0.  ],\n",
       "       [   0.  ],\n",
       "       [ 154.45],\n",
       "       [ -74.4 ],\n",
       "       [   0.  ],\n",
       "       [  80.6 ],\n",
       "       [  49.85],\n",
       "       [   0.  ],\n",
       "       [   0.  ],\n",
       "       [ 225.4 ],\n",
       "       [ 133.2 ],\n",
       "       [ -62.55],\n",
       "       [ -30.15],\n",
       "       [  64.45],\n",
       "       [   0.  ],\n",
       "       [   0.  ],\n",
       "       [  85.65],\n",
       "       [   0.  ],\n",
       "       [ -45.8 ],\n",
       "       [-128.8 ],\n",
       "       [ 321.5 ],\n",
       "       [   0.  ],\n",
       "       [   0.  ]])"
      ]
     },
     "execution_count": 13,
     "metadata": {},
     "output_type": "execute_result"
    }
   ],
   "source": [
    "X"
   ]
  },
  {
   "cell_type": "code",
   "execution_count": 14,
   "id": "57e98d12",
   "metadata": {},
   "outputs": [
    {
     "data": {
      "text/plain": [
       "array([ 0.    ,  0.    ,  1.19  ,  0.86  ,  0.56  , -0.34  ,  0.36  ,\n",
       "        0.    ,  0.    , -0.16  ,  0.23  , -0.32  , -0.16  ,  0.27  ,\n",
       "        0.    ,  0.    ,  0.37  , -1.09  , -1.16  , -0.62  , -1.48  ,\n",
       "        0.    ,  0.    , -3.08  ,  0.03  ,  0.    , -1.39  ,  0.32  ,\n",
       "        0.    ,  0.    ,  1.23  ,  1.01  ,  1.22  , -1.    ,  0.02  ,\n",
       "        0.    ,  0.    , -1.6   , -0.25  ,  0.85  ,  0.44  , -1.51  ,\n",
       "        0.    ,  0.    , -1.92  ,  1.92  , -0.16  , -0.04  , -0.64  ,\n",
       "        0.    ,  0.    , -0.28  , -0.26  ,  0.15  , -3.45  ,  2.56  ,\n",
       "        0.    ,  0.    ,  0.56  ,  0.    , -0.67  , -0.51  , -1.62  ,\n",
       "        0.    ,  0.    , -1.96  ,  0.89  ,  1.13  ,  1.26  ,  0.12  ,\n",
       "        0.    ,  0.    ,  0.4   , -0.34  ,  1.17  ,  1.36  ,  0.    ,\n",
       "        0.    ,  0.    , -0.9   ,  0.39  , -0.17  , -0.36  , -0.35  ,\n",
       "        0.    ,  0.    , -0.17  ,  0.5   ,  1.    , -0.16  ,  0.86  ,\n",
       "        0.    ,  0.    ,  1.38  ,  0.12  , -0.58  , -0.5   ,  0.72  ,\n",
       "        0.    ,  0.    , -0.1   , -0.76  , -0.29  ,  0.    ,  0.    ,\n",
       "        0.    ,  0.    , -0.96  , -1.28  ,  0.42  ,  0.95  , -0.45  ,\n",
       "        0.    ,  0.    , -0.86  ,  1.04  , -1.24  ,  0.77  , -0.49  ,\n",
       "        0.    ,  0.    , -0.15  ,  0.    , -2.13  , -0.08  , -2.92  ,\n",
       "        0.    ,  0.    , -0.59  , -0.63  , -0.89  , -1.45  ,  0.03  ,\n",
       "        0.    ,  0.    ,  0.86  ,  1.53  , -0.06  , -1.92  ,  1.    ,\n",
       "        0.    ,  0.    , -0.1962, -0.288 , -0.91  ,  0.71  ,  1.07  ,\n",
       "        0.    ,  0.    ,  1.3   ,  0.6   , -0.3   ,  0.    , -0.76  ,\n",
       "        0.    ,  0.    , -0.52  , -0.81  ,  0.19  ,  0.33  , -1.13  ,\n",
       "        0.    ,  0.    , -1.7   , -0.03  ,  0.46  , -1.11  , -0.76  ,\n",
       "        0.    ,  0.    ,  0.39  ,  1.05  , -0.72  ,  0.76  ,  0.77  ,\n",
       "        0.    ,  0.    ,  0.29  , -0.1   , -0.61  , -0.45  ,  0.73  ,\n",
       "        0.    ,  0.    ,  0.52  ,  0.1   ,  1.43  ,  0.39  ,  0.16  ,\n",
       "        0.    ,  0.    ,  0.04  , -0.79  ,  0.16  , -0.1   ,  0.57  ,\n",
       "        0.    ,  0.    ,  1.05  ,  0.31  ,  0.2   ,  0.84  ,  0.    ,\n",
       "        0.    ,  0.    , -0.1975, -0.63  ,  0.72  ,  2.05  ,  1.09  ,\n",
       "        0.    ,  0.    ,  0.71  ,  0.32  , -0.15  ,  0.34  ,  0.38  ,\n",
       "        0.    ,  0.    ,  0.29  ,  0.    , -0.44  ,  0.87  ,  0.    ,\n",
       "        0.    ,  0.    ,  0.    ,  0.53  ,  0.68  ,  0.14  , -0.88  ,\n",
       "        0.    ,  0.    , -1.38  ,  0.32  ,  0.38  , -0.15  ,  0.32  ,\n",
       "        0.    ,  0.    , -0.94  ,  1.89  ,  0.    , -0.17  ,  0.25  ,\n",
       "        0.    ,  0.    ,  0.05  , -0.39  ,  0.1   ,  0.58  ,  0.01  ,\n",
       "        0.    ,  0.    ,  0.28  ,  0.42  , -0.25  , -0.17  , -1.97  ,\n",
       "        0.    ,  0.    ,  0.53  ,  0.68  , -0.6   ,  0.    , -1.42  ,\n",
       "        0.    ,  0.    , -1.42  ,  0.08  , -0.27  , -0.38  ,  1.03  ,\n",
       "        0.    ,  0.    , -0.66  ,  1.68  ,  0.    , -0.12  , -0.19  ,\n",
       "        0.    ,  0.    , -0.55  , -1.19  ,  0.61  , -0.47  ,  0.    ,\n",
       "        0.    ,  0.    ,  0.25  ,  0.37  ,  0.2178,  0.48  , -0.84  ,\n",
       "        0.    ,  0.    ,  0.    ,  0.06  ,  0.    , -0.13  , -0.07  ,\n",
       "        0.    ,  0.    ,  0.99  ,  0.83  , -0.27  , -0.11  ,  0.18  ,\n",
       "        0.    ,  0.    , -0.26  ,  0.    , -0.3   , -0.87  ,  0.95  ,\n",
       "        0.    ,  0.    ])"
      ]
     },
     "execution_count": 14,
     "metadata": {},
     "output_type": "execute_result"
    }
   ],
   "source": [
    "y"
   ]
  },
  {
   "cell_type": "markdown",
   "id": "c9ab58ae",
   "metadata": {},
   "source": [
    "### Splitting the dataset (Training and Testing)"
   ]
  },
  {
   "cell_type": "code",
   "execution_count": 15,
   "id": "9bf18b8d",
   "metadata": {},
   "outputs": [],
   "source": [
    "from sklearn.model_selection import train_test_split\n",
    "X_train, X_test, y_train,y_test =train_test_split(X,y,test_size=1/3, random_state=0)"
   ]
  },
  {
   "cell_type": "code",
   "execution_count": 16,
   "id": "32cdae6c",
   "metadata": {},
   "outputs": [
    {
     "data": {
      "text/plain": [
       "array([[  49.85],\n",
       "       [   0.  ],\n",
       "       [ -14.75],\n",
       "       [   5.4 ],\n",
       "       [   0.  ],\n",
       "       [ -54.65],\n",
       "       [   0.  ],\n",
       "       [   0.  ],\n",
       "       [-331.55],\n",
       "       [   0.  ],\n",
       "       [   0.  ],\n",
       "       [  -4.6 ],\n",
       "       [   0.  ],\n",
       "       [   0.  ],\n",
       "       [-531.95],\n",
       "       [  36.45],\n",
       "       [ -60.1 ],\n",
       "       [   0.  ],\n",
       "       [ -19.  ],\n",
       "       [ 127.6 ],\n",
       "       [-220.65],\n",
       "       [   0.  ],\n",
       "       [   0.  ],\n",
       "       [   0.  ],\n",
       "       [-174.65],\n",
       "       [   0.  ],\n",
       "       [-169.45],\n",
       "       [   0.  ],\n",
       "       [ 229.3 ],\n",
       "       [   0.  ],\n",
       "       [ 133.2 ],\n",
       "       [ -51.45],\n",
       "       [-207.  ],\n",
       "       [ -69.75],\n",
       "       [ -82.5 ],\n",
       "       [-142.5 ],\n",
       "       [   0.  ],\n",
       "       [ 154.45],\n",
       "       [ 258.55],\n",
       "       [  52.35],\n",
       "       [ 311.7 ],\n",
       "       [ 177.9 ],\n",
       "       [ 181.8 ],\n",
       "       [-226.5 ],\n",
       "       [ 456.75],\n",
       "       [ 120.6 ],\n",
       "       [-168.1 ],\n",
       "       [   0.  ],\n",
       "       [-107.9 ],\n",
       "       [ 331.9 ],\n",
       "       [   0.  ],\n",
       "       [-276.3 ],\n",
       "       [ 119.  ],\n",
       "       [   0.  ],\n",
       "       [   0.  ],\n",
       "       [ 142.05],\n",
       "       [  42.7 ],\n",
       "       [  -2.05],\n",
       "       [-302.  ],\n",
       "       [   0.  ],\n",
       "       [ 179.55],\n",
       "       [ -28.2 ],\n",
       "       [-271.4 ],\n",
       "       [ 128.85],\n",
       "       [ 237.9 ],\n",
       "       [   0.  ],\n",
       "       [  12.35],\n",
       "       [  15.5 ],\n",
       "       [ -28.  ],\n",
       "       [-181.4 ],\n",
       "       [-148.8 ],\n",
       "       [ 279.95],\n",
       "       [   0.  ],\n",
       "       [ 197.9 ],\n",
       "       [ -69.65],\n",
       "       [ 271.65],\n",
       "       [ 156.6 ],\n",
       "       [   0.  ],\n",
       "       [   0.  ],\n",
       "       [  60.75],\n",
       "       [  52.45],\n",
       "       [ 124.25],\n",
       "       [ 135.5 ],\n",
       "       [-231.1 ],\n",
       "       [   0.  ],\n",
       "       [   0.  ],\n",
       "       [   0.  ],\n",
       "       [  64.45],\n",
       "       [  80.6 ],\n",
       "       [ 194.  ],\n",
       "       [   0.  ],\n",
       "       [-391.5 ],\n",
       "       [-198.05],\n",
       "       [-252.7 ],\n",
       "       [   0.  ],\n",
       "       [-287.8 ],\n",
       "       [ -72.95],\n",
       "       [ 143.1 ],\n",
       "       [   0.  ],\n",
       "       [   0.  ],\n",
       "       [-246.  ],\n",
       "       [   0.  ],\n",
       "       [-218.  ],\n",
       "       [-430.9 ],\n",
       "       [   0.  ],\n",
       "       [ -45.8 ],\n",
       "       [  84.4 ],\n",
       "       [ 308.95],\n",
       "       [   0.  ],\n",
       "       [ -88.45],\n",
       "       [   0.  ],\n",
       "       [   0.  ],\n",
       "       [ -31.2 ],\n",
       "       [ 382.95],\n",
       "       [  86.8 ],\n",
       "       [   0.  ],\n",
       "       [   0.  ],\n",
       "       [  18.15],\n",
       "       [   0.  ],\n",
       "       [   0.  ],\n",
       "       [ -96.  ],\n",
       "       [  25.3 ],\n",
       "       [-149.75],\n",
       "       [-128.8 ],\n",
       "       [ 386.95],\n",
       "       [   0.  ],\n",
       "       [  35.55],\n",
       "       [   0.  ],\n",
       "       [ -28.3 ],\n",
       "       [   0.  ],\n",
       "       [ 321.5 ],\n",
       "       [   0.  ],\n",
       "       [ 158.6 ],\n",
       "       [-468.05],\n",
       "       [ 178.95],\n",
       "       [ 127.1 ],\n",
       "       [   0.  ],\n",
       "       [ -89.55],\n",
       "       [   0.  ],\n",
       "       [   0.  ],\n",
       "       [ -18.85],\n",
       "       [-109.4 ],\n",
       "       [   0.  ],\n",
       "       [-359.1 ],\n",
       "       [  -8.9 ],\n",
       "       [-158.9 ],\n",
       "       [   0.  ],\n",
       "       [   0.  ],\n",
       "       [  66.8 ],\n",
       "       [ 249.55],\n",
       "       [   0.  ],\n",
       "       [   0.  ],\n",
       "       [ -33.45],\n",
       "       [ -58.3 ],\n",
       "       [ 175.15],\n",
       "       [   0.  ],\n",
       "       [ -22.9 ],\n",
       "       [   0.  ],\n",
       "       [   0.  ],\n",
       "       [-126.35],\n",
       "       [   0.  ],\n",
       "       [   0.  ],\n",
       "       [   0.  ],\n",
       "       [  57.5 ],\n",
       "       [  53.15],\n",
       "       [ -28.95],\n",
       "       [   0.  ],\n",
       "       [-109.4 ],\n",
       "       [   0.  ],\n",
       "       [   0.  ],\n",
       "       [-427.4 ],\n",
       "       [ -61.8 ],\n",
       "       [  -3.35],\n",
       "       [ 114.2 ],\n",
       "       [ 237.  ],\n",
       "       [ 203.15],\n",
       "       [   0.  ],\n",
       "       [ -24.5 ],\n",
       "       [   0.  ],\n",
       "       [ 171.35],\n",
       "       [   0.  ],\n",
       "       [-109.25],\n",
       "       [ -30.15],\n",
       "       [ 132.8 ],\n",
       "       [   0.  ],\n",
       "       [   0.  ],\n",
       "       [-216.5 ],\n",
       "       [ 246.85],\n",
       "       [-302.45],\n",
       "       [ 240.85],\n",
       "       [   0.  ],\n",
       "       [ -39.95],\n",
       "       [ 225.4 ],\n",
       "       [ 142.6 ],\n",
       "       [ -62.55],\n",
       "       [ 197.05],\n",
       "       [ -91.65],\n",
       "       [ 172.95],\n",
       "       [   0.  ],\n",
       "       [ 103.3 ],\n",
       "       [  51.7 ],\n",
       "       [   0.  ],\n",
       "       [   0.  ],\n",
       "       [   0.  ],\n",
       "       [ 190.6 ],\n",
       "       [ 110.55],\n",
       "       [  34.6 ],\n",
       "       [-157.7 ],\n",
       "       [ 206.65],\n",
       "       [ -17.6 ],\n",
       "       [-225.5 ]])"
      ]
     },
     "execution_count": 16,
     "metadata": {},
     "output_type": "execute_result"
    }
   ],
   "source": [
    "X_train"
   ]
  },
  {
   "cell_type": "markdown",
   "id": "fd1a4bc3",
   "metadata": {},
   "source": [
    "### Training the Simple Regression Model"
   ]
  },
  {
   "cell_type": "code",
   "execution_count": 17,
   "id": "831a710e",
   "metadata": {},
   "outputs": [
    {
     "data": {
      "text/html": [
       "<style>#sk-container-id-1 {color: black;background-color: white;}#sk-container-id-1 pre{padding: 0;}#sk-container-id-1 div.sk-toggleable {background-color: white;}#sk-container-id-1 label.sk-toggleable__label {cursor: pointer;display: block;width: 100%;margin-bottom: 0;padding: 0.3em;box-sizing: border-box;text-align: center;}#sk-container-id-1 label.sk-toggleable__label-arrow:before {content: \"▸\";float: left;margin-right: 0.25em;color: #696969;}#sk-container-id-1 label.sk-toggleable__label-arrow:hover:before {color: black;}#sk-container-id-1 div.sk-estimator:hover label.sk-toggleable__label-arrow:before {color: black;}#sk-container-id-1 div.sk-toggleable__content {max-height: 0;max-width: 0;overflow: hidden;text-align: left;background-color: #f0f8ff;}#sk-container-id-1 div.sk-toggleable__content pre {margin: 0.2em;color: black;border-radius: 0.25em;background-color: #f0f8ff;}#sk-container-id-1 input.sk-toggleable__control:checked~div.sk-toggleable__content {max-height: 200px;max-width: 100%;overflow: auto;}#sk-container-id-1 input.sk-toggleable__control:checked~label.sk-toggleable__label-arrow:before {content: \"▾\";}#sk-container-id-1 div.sk-estimator input.sk-toggleable__control:checked~label.sk-toggleable__label {background-color: #d4ebff;}#sk-container-id-1 div.sk-label input.sk-toggleable__control:checked~label.sk-toggleable__label {background-color: #d4ebff;}#sk-container-id-1 input.sk-hidden--visually {border: 0;clip: rect(1px 1px 1px 1px);clip: rect(1px, 1px, 1px, 1px);height: 1px;margin: -1px;overflow: hidden;padding: 0;position: absolute;width: 1px;}#sk-container-id-1 div.sk-estimator {font-family: monospace;background-color: #f0f8ff;border: 1px dotted black;border-radius: 0.25em;box-sizing: border-box;margin-bottom: 0.5em;}#sk-container-id-1 div.sk-estimator:hover {background-color: #d4ebff;}#sk-container-id-1 div.sk-parallel-item::after {content: \"\";width: 100%;border-bottom: 1px solid gray;flex-grow: 1;}#sk-container-id-1 div.sk-label:hover label.sk-toggleable__label {background-color: #d4ebff;}#sk-container-id-1 div.sk-serial::before {content: \"\";position: absolute;border-left: 1px solid gray;box-sizing: border-box;top: 0;bottom: 0;left: 50%;z-index: 0;}#sk-container-id-1 div.sk-serial {display: flex;flex-direction: column;align-items: center;background-color: white;padding-right: 0.2em;padding-left: 0.2em;position: relative;}#sk-container-id-1 div.sk-item {position: relative;z-index: 1;}#sk-container-id-1 div.sk-parallel {display: flex;align-items: stretch;justify-content: center;background-color: white;position: relative;}#sk-container-id-1 div.sk-item::before, #sk-container-id-1 div.sk-parallel-item::before {content: \"\";position: absolute;border-left: 1px solid gray;box-sizing: border-box;top: 0;bottom: 0;left: 50%;z-index: -1;}#sk-container-id-1 div.sk-parallel-item {display: flex;flex-direction: column;z-index: 1;position: relative;background-color: white;}#sk-container-id-1 div.sk-parallel-item:first-child::after {align-self: flex-end;width: 50%;}#sk-container-id-1 div.sk-parallel-item:last-child::after {align-self: flex-start;width: 50%;}#sk-container-id-1 div.sk-parallel-item:only-child::after {width: 0;}#sk-container-id-1 div.sk-dashed-wrapped {border: 1px dashed gray;margin: 0 0.4em 0.5em 0.4em;box-sizing: border-box;padding-bottom: 0.4em;background-color: white;}#sk-container-id-1 div.sk-label label {font-family: monospace;font-weight: bold;display: inline-block;line-height: 1.2em;}#sk-container-id-1 div.sk-label-container {text-align: center;}#sk-container-id-1 div.sk-container {/* jupyter's `normalize.less` sets `[hidden] { display: none; }` but bootstrap.min.css set `[hidden] { display: none !important; }` so we also need the `!important` here to be able to override the default hidden behavior on the sphinx rendered scikit-learn.org. See: https://github.com/scikit-learn/scikit-learn/issues/21755 */display: inline-block !important;position: relative;}#sk-container-id-1 div.sk-text-repr-fallback {display: none;}</style><div id=\"sk-container-id-1\" class=\"sk-top-container\"><div class=\"sk-text-repr-fallback\"><pre>LinearRegression()</pre><b>In a Jupyter environment, please rerun this cell to show the HTML representation or trust the notebook. <br />On GitHub, the HTML representation is unable to render, please try loading this page with nbviewer.org.</b></div><div class=\"sk-container\" hidden><div class=\"sk-item\"><div class=\"sk-estimator sk-toggleable\"><input class=\"sk-toggleable__control sk-hidden--visually\" id=\"sk-estimator-id-1\" type=\"checkbox\" checked><label for=\"sk-estimator-id-1\" class=\"sk-toggleable__label sk-toggleable__label-arrow\">LinearRegression</label><div class=\"sk-toggleable__content\"><pre>LinearRegression()</pre></div></div></div></div></div>"
      ],
      "text/plain": [
       "LinearRegression()"
      ]
     },
     "execution_count": 17,
     "metadata": {},
     "output_type": "execute_result"
    }
   ],
   "source": [
    "from sklearn.linear_model import LinearRegression\n",
    "reg=LinearRegression()\n",
    "reg.fit(X_train, y_train)"
   ]
  },
  {
   "cell_type": "markdown",
   "id": "b21bc528",
   "metadata": {},
   "source": [
    "### Prediction of Testing dataset"
   ]
  },
  {
   "cell_type": "code",
   "execution_count": 18,
   "id": "5ae7082e",
   "metadata": {},
   "outputs": [],
   "source": [
    "y_pred=reg.predict(X_test)"
   ]
  },
  {
   "cell_type": "code",
   "execution_count": 19,
   "id": "5210e931",
   "metadata": {},
   "outputs": [
    {
     "data": {
      "text/plain": [
       "array([-3.65850743e-02,  6.73411828e-01,  1.63487021e+00,  5.07874838e-01,\n",
       "       -3.65850743e-02, -3.21031783e-01, -6.97918581e-01, -1.60202085e-02,\n",
       "       -3.65850743e-02, -3.65850743e-02, -2.44677083e-01,  4.77943796e-01,\n",
       "       -3.65850743e-02, -3.65850743e-02, -3.65850743e-02,  8.94535038e-01,\n",
       "       -2.08841277e-01,  7.05786220e-01, -2.14542428e-01,  1.23538242e+00,\n",
       "       -7.19908735e-01,  4.76518508e-01,  6.97641719e-01, -1.12693019e+00,\n",
       "       -6.16294159e-02,  3.82856743e-01, -3.65850743e-02, -3.65850743e-02,\n",
       "       -8.01964585e-01, -1.30325864e+00, -3.65850743e-02, -3.65850743e-02,\n",
       "        1.13887008e+00, -5.02654162e-01,  1.48498718e-01,  3.20551308e-01,\n",
       "        5.53076821e-01, -3.39560523e-01,  5.47172057e-01, -3.97182870e-01,\n",
       "       -1.06424173e-01, -1.59299928e+00, -3.65850743e-02,  1.94107925e-01,\n",
       "        3.35618636e-01,  1.66154345e+00,  2.71214452e-03, -3.65850743e-02,\n",
       "        2.16098079e-01, -3.65850743e-02, -6.60453875e-01,  7.51982062e-02,\n",
       "       -3.65850743e-02, -8.30877565e-01,  1.35693910e+00, -3.65850743e-02,\n",
       "        5.51244308e-01, -4.35258414e-01, -3.65850743e-02,  5.75474199e-01,\n",
       "       -3.65850743e-02, -3.65850743e-02, -3.06575293e-01, -2.88250165e-01,\n",
       "       -7.67065397e-01, -9.31665769e-01, -3.65850743e-02, -2.15356878e-01,\n",
       "       -3.65850743e-02, -9.12118966e-01, -3.65850743e-02,  2.04005915e+00,\n",
       "        3.92019307e-01, -6.25636132e-01, -3.65850743e-02,  2.08360803e-01,\n",
       "       -1.41852754e-01,  1.32999962e-02,  8.01076886e-01,  1.13540866e+00,\n",
       "       -3.65850743e-02, -3.65850743e-02, -8.84834886e-01,  3.12203194e-01,\n",
       "       -3.65850743e-02, -4.21819986e-01, -3.65850743e-02, -3.65850743e-02,\n",
       "       -3.65850743e-02, -6.06089329e-01, -1.59770657e-01, -3.65850743e-02,\n",
       "       -3.65850743e-02, -7.81220310e-02, -1.73005471e-01, -3.49537537e-01,\n",
       "       -6.99775297e-02, -3.09833093e-01, -3.65850743e-02, -1.26925535e+00,\n",
       "       -3.35669103e+00, -6.35816758e-01,  5.33733630e-01,  4.76925734e-01,\n",
       "        1.22843539e-01,  3.02633405e-01])"
      ]
     },
     "execution_count": 19,
     "metadata": {},
     "output_type": "execute_result"
    }
   ],
   "source": [
    "y_pred"
   ]
  },
  {
   "cell_type": "markdown",
   "id": "431c5094",
   "metadata": {},
   "source": [
    "### Visualising the results"
   ]
  },
  {
   "cell_type": "code",
   "execution_count": 20,
   "id": "f14b662f",
   "metadata": {},
   "outputs": [
    {
     "data": {
      "text/plain": [
       "[<matplotlib.lines.Line2D at 0x24a5f3e9e10>]"
      ]
     },
     "execution_count": 20,
     "metadata": {},
     "output_type": "execute_result"
    },
    {
     "data": {
      "image/png": "[encoded data removed]",
      "text/plain": [
       "<Figure size 432x288 with 1 Axes>"
      ]
     },
     "metadata": {
      "needs_background": "light"
     },
     "output_type": "display_data"
    }
   ],
   "source": [
    "plt.scatter(X_train,y_train,color='red')\n",
    "plt.plot(X_train, reg.predict(X_train), color='blue')"
   ]
  },
  {
   "cell_type": "code",
   "execution_count": 21,
   "id": "8cf5ff1d",
   "metadata": {},
   "outputs": [
    {
     "data": {
      "text/plain": [
       "[<matplotlib.lines.Line2D at 0x24a61542080>]"
      ]
     },
     "execution_count": 21,
     "metadata": {},
     "output_type": "execute_result"
    },
    {
     "data": {
      "image/png": "[encoded data removed]",
      "text/plain": [
       "<Figure size 432x288 with 1 Axes>"
      ]
     },
     "metadata": {
      "needs_background": "light"
     },
     "output_type": "display_data"
    }
   ],
   "source": [
    "plt.scatter(X_test,y_test,color='red')\n",
    "plt.plot(X_train, reg.predict(X_train), color='blue')"
   ]
  },
  {
   "cell_type": "code",
   "execution_count": 22,
   "id": "6b227880",
   "metadata": {},
   "outputs": [],
   "source": [
    "#Coefficient\n",
    "b=reg.coef_"
   ]
  },
  {
   "cell_type": "code",
   "execution_count": 23,
   "id": "fb1d33c3",
   "metadata": {},
   "outputs": [
    {
     "data": {
      "text/plain": [
       "array([0.00407225])"
      ]
     },
     "execution_count": 23,
     "metadata": {},
     "output_type": "execute_result"
    }
   ],
   "source": [
    "b"
   ]
  },
  {
   "cell_type": "code",
   "execution_count": 24,
   "id": "351eca3e",
   "metadata": {},
   "outputs": [],
   "source": [
    "#Intercept\n",
    "a=reg.intercept_"
   ]
  },
  {
   "cell_type": "code",
   "execution_count": 25,
   "id": "96703068",
   "metadata": {},
   "outputs": [
    {
     "data": {
      "text/plain": [
       "-0.036585074318204736"
      ]
     },
     "execution_count": 25,
     "metadata": {},
     "output_type": "execute_result"
    }
   ],
   "source": [
    "a"
   ]
  },
  {
   "cell_type": "code",
   "execution_count": 26,
   "id": "c2dc56c9",
   "metadata": {},
   "outputs": [
    {
     "data": {
      "text/plain": [
       "array([0.37063999])"
      ]
     },
     "execution_count": 26,
     "metadata": {},
     "output_type": "execute_result"
    }
   ],
   "source": [
    "reg.predict([[100]])"
   ]
  },
  {
   "cell_type": "code",
   "execution_count": 27,
   "id": "03adfd75",
   "metadata": {},
   "outputs": [
    {
     "data": {
      "text/plain": [
       "array([-0.44381014])"
      ]
     },
     "execution_count": 27,
     "metadata": {},
     "output_type": "execute_result"
    }
   ],
   "source": [
    "reg.predict([[-100]])"
   ]
  },
  {
   "cell_type": "code",
   "execution_count": null,
   "id": "58f3e3f7",
   "metadata": {},
   "outputs": [],
   "source": []
  }
 ],
 "metadata": {
  "kernelspec": {
   "display_name": "Python 3 (ipykernel)",
   "language": "python",
   "name": "python3"
  },
  "language_info": {
   "codemirror_mode": {
    "name": "ipython",
    "version": 3
   },
   "file_extension": ".py",
   "mimetype": "text/x-python",
   "name": "python",
   "nbconvert_exporter": "python",
   "pygments_lexer": "ipython3",
   "version": "3.10.5"
  }
 },
 "nbformat": 4,
 "nbformat_minor": 5
}
