{
 "cells": [
  {
   "cell_type": "code",
   "execution_count": 1,
   "id": "3eefe4c4",
   "metadata": {},
   "outputs": [
    {
     "name": "stdout",
     "output_type": "stream",
     "text": [
      "Exploratory data analysis (EDA) is an especially important activity in the routine of a data analyst or scientist.\n",
      "It enables an in depth understanding of the dataset, define or discard hypotheses and create predictive models on a solid basis.\n",
      "It uses data manipulation techniques and several statistical tools to describe and understand the relationship between variables \n",
      "and how these can impact business.\n",
      "\n",
      "The process consists of several steps:\n",
      "1) Importing a dataset\n",
      "2) Understanding the big picture\n",
      "3) Preparation\n",
      "4) Understanding of variables\n",
      "5) Study of the relationships between variables\n",
      "6) Brainstorming\n"
     ]
    }
   ],
   "source": [
    "def Exploratory_data_analysis():\n",
    "    print('''Exploratory data analysis (EDA) is an especially important activity in the routine of a data analyst or scientist.\n",
    "It enables an in depth understanding of the dataset, define or discard hypotheses and create predictive models on a solid basis.\n",
    "It uses data manipulation techniques and several statistical tools to describe and understand the relationship between variables \n",
    "and how these can impact business.\n",
    "\n",
    "The process consists of several steps:\n",
    "1) Importing a dataset\n",
    "2) Understanding the big picture\n",
    "3) Preparation\n",
    "4) Understanding of variables\n",
    "5) Study of the relationships between variables\n",
    "6) Brainstorming''')\n",
    "    \n",
    "Exploratory_data_analysis()"
   ]
  },
  {
   "cell_type": "markdown",
   "id": "7b390b89",
   "metadata": {},
   "source": [
    "### Required libraries for EDA"
   ]
  },
  {
   "cell_type": "code",
   "execution_count": 2,
   "id": "45317071",
   "metadata": {},
   "outputs": [],
   "source": [
    "# data manipulaton\n",
    "import pandas as pd\n",
    "import numpy as np\n",
    "\n",
    "# data viz\n",
    "import matplotlib.pyplot as plt\n",
    "from matplotlib import rcParams\n",
    "import seaborn as sns\n",
    "\n",
    "# apply some cool styling\n",
    "plt.style.use(\"ggplot\")\n",
    "rcParams['figure.figsize'] = (12,6)"
   ]
  },
  {
   "cell_type": "markdown",
   "id": "c5325083",
   "metadata": {},
   "source": [
    "### 1) Importing a working dataset"
   ]
  },
  {
   "cell_type": "code",
   "execution_count": 3,
   "id": "51fcc744",
   "metadata": {},
   "outputs": [
    {
     "data": {
      "text/html": [
       "<div>\n",
       "<style scoped>\n",
       "    .dataframe tbody tr th:only-of-type {\n",
       "        vertical-align: middle;\n",
       "    }\n",
       "\n",
       "    .dataframe tbody tr th {\n",
       "        vertical-align: top;\n",
       "    }\n",
       "\n",
       "    .dataframe thead th {\n",
       "        text-align: right;\n",
       "    }\n",
       "</style>\n",
       "<table border=\"1\" class=\"dataframe\">\n",
       "  <thead>\n",
       "    <tr style=\"text-align: right;\">\n",
       "      <th></th>\n",
       "      <th>Timestamp</th>\n",
       "      <th>Date</th>\n",
       "      <th>Day</th>\n",
       "      <th>Current Value</th>\n",
       "      <th>Changes in ₹</th>\n",
       "      <th>Changes in %</th>\n",
       "    </tr>\n",
       "  </thead>\n",
       "  <tbody>\n",
       "    <tr>\n",
       "      <th>0</th>\n",
       "      <td>04/01/2022 20:57:10</td>\n",
       "      <td>01/01/2022</td>\n",
       "      <td>Saturday</td>\n",
       "      <td>16237.25</td>\n",
       "      <td>0.00</td>\n",
       "      <td>0.00</td>\n",
       "    </tr>\n",
       "    <tr>\n",
       "      <th>1</th>\n",
       "      <td>04/01/2022 21:01:22</td>\n",
       "      <td>02/01/2022</td>\n",
       "      <td>Sunday</td>\n",
       "      <td>16237.25</td>\n",
       "      <td>0.00</td>\n",
       "      <td>0.00</td>\n",
       "    </tr>\n",
       "    <tr>\n",
       "      <th>2</th>\n",
       "      <td>04/01/2022 21:05:50</td>\n",
       "      <td>03/01/2022</td>\n",
       "      <td>Monday</td>\n",
       "      <td>16474.40</td>\n",
       "      <td>237.16</td>\n",
       "      <td>1.46</td>\n",
       "    </tr>\n",
       "    <tr>\n",
       "      <th>3</th>\n",
       "      <td>05/01/2022 06:43:53</td>\n",
       "      <td>04/01/2022</td>\n",
       "      <td>Tuesday</td>\n",
       "      <td>16563.52</td>\n",
       "      <td>89.12</td>\n",
       "      <td>0.54</td>\n",
       "    </tr>\n",
       "    <tr>\n",
       "      <th>4</th>\n",
       "      <td>06/01/2022 08:39:32</td>\n",
       "      <td>05/01/2022</td>\n",
       "      <td>Wednesday</td>\n",
       "      <td>16691.80</td>\n",
       "      <td>128.29</td>\n",
       "      <td>0.77</td>\n",
       "    </tr>\n",
       "    <tr>\n",
       "      <th>...</th>\n",
       "      <td>...</td>\n",
       "      <td>...</td>\n",
       "      <td>...</td>\n",
       "      <td>...</td>\n",
       "      <td>...</td>\n",
       "      <td>...</td>\n",
       "    </tr>\n",
       "    <tr>\n",
       "      <th>183</th>\n",
       "      <td>02/07/2022 09:14:09</td>\n",
       "      <td>03/07/2022</td>\n",
       "      <td>Sunday</td>\n",
       "      <td>20711.55</td>\n",
       "      <td>0.00</td>\n",
       "      <td>0.00</td>\n",
       "    </tr>\n",
       "    <tr>\n",
       "      <th>184</th>\n",
       "      <td>05/07/2022 09:05:14</td>\n",
       "      <td>04/07/2022</td>\n",
       "      <td>Monday</td>\n",
       "      <td>20871.24</td>\n",
       "      <td>159.69</td>\n",
       "      <td>0.77</td>\n",
       "    </tr>\n",
       "    <tr>\n",
       "      <th>185</th>\n",
       "      <td>06/07/2022 09:53:40</td>\n",
       "      <td>05/07/2022</td>\n",
       "      <td>Tuesday</td>\n",
       "      <td>20852.81</td>\n",
       "      <td>-18.42</td>\n",
       "      <td>-0.09</td>\n",
       "    </tr>\n",
       "    <tr>\n",
       "      <th>186</th>\n",
       "      <td>07/07/2022 12:53:04</td>\n",
       "      <td>06/07/2022</td>\n",
       "      <td>Wednesday</td>\n",
       "      <td>21146.56</td>\n",
       "      <td>293.74</td>\n",
       "      <td>1.41</td>\n",
       "    </tr>\n",
       "    <tr>\n",
       "      <th>187</th>\n",
       "      <td>08/07/2022 10:36:55</td>\n",
       "      <td>07/07/2022</td>\n",
       "      <td>Thursday</td>\n",
       "      <td>21355.45</td>\n",
       "      <td>208.89</td>\n",
       "      <td>0.99</td>\n",
       "    </tr>\n",
       "  </tbody>\n",
       "</table>\n",
       "<p>188 rows × 6 columns</p>\n",
       "</div>"
      ],
      "text/plain": [
       "               Timestamp        Date        Day  Current Value  Changes in ₹  \\\n",
       "0    04/01/2022 20:57:10  01/01/2022   Saturday       16237.25          0.00   \n",
       "1    04/01/2022 21:01:22  02/01/2022     Sunday       16237.25          0.00   \n",
       "2    04/01/2022 21:05:50  03/01/2022     Monday       16474.40        237.16   \n",
       "3    05/01/2022 06:43:53  04/01/2022    Tuesday       16563.52         89.12   \n",
       "4    06/01/2022 08:39:32  05/01/2022  Wednesday       16691.80        128.29   \n",
       "..                   ...         ...        ...            ...           ...   \n",
       "183  02/07/2022 09:14:09  03/07/2022     Sunday       20711.55          0.00   \n",
       "184  05/07/2022 09:05:14  04/07/2022     Monday       20871.24        159.69   \n",
       "185  06/07/2022 09:53:40  05/07/2022    Tuesday       20852.81        -18.42   \n",
       "186  07/07/2022 12:53:04  06/07/2022  Wednesday       21146.56        293.74   \n",
       "187  08/07/2022 10:36:55  07/07/2022   Thursday       21355.45        208.89   \n",
       "\n",
       "     Changes in %  \n",
       "0            0.00  \n",
       "1            0.00  \n",
       "2            1.46  \n",
       "3            0.54  \n",
       "4            0.77  \n",
       "..            ...  \n",
       "183          0.00  \n",
       "184          0.77  \n",
       "185         -0.09  \n",
       "186          1.41  \n",
       "187          0.99  \n",
       "\n",
       "[188 rows x 6 columns]"
      ]
     },
     "execution_count": 3,
     "metadata": {},
     "output_type": "execute_result"
    }
   ],
   "source": [
    "#The data analysis pipeline begins with the importing dataset\n",
    "df = pd.read_csv(\"C:/Users/navna/Downloads/MutualFunds.csv\")\n",
    "df"
   ]
  },
  {
   "cell_type": "markdown",
   "id": "d0a58910",
   "metadata": {},
   "source": [
    "### 2) Understanding the big picture\n",
    "#### We try to understand the problem we want to solve, thinking about the entire dataset and the meaning of the variables.\n",
    "\n",
    "#### 1) Variable: name of the variable\n",
    "#### 2) Type: the type or format of the variable.This can be categorical, numeric, Boolean, and so on.\n",
    "#### 3) Context:useful information to understand the semantic space of the variable."
   ]
  },
  {
   "cell_type": "code",
   "execution_count": 4,
   "id": "2bffac2e",
   "metadata": {},
   "outputs": [
    {
     "data": {
      "text/html": [
       "<div>\n",
       "<style scoped>\n",
       "    .dataframe tbody tr th:only-of-type {\n",
       "        vertical-align: middle;\n",
       "    }\n",
       "\n",
       "    .dataframe tbody tr th {\n",
       "        vertical-align: top;\n",
       "    }\n",
       "\n",
       "    .dataframe thead th {\n",
       "        text-align: right;\n",
       "    }\n",
       "</style>\n",
       "<table border=\"1\" class=\"dataframe\">\n",
       "  <thead>\n",
       "    <tr style=\"text-align: right;\">\n",
       "      <th></th>\n",
       "      <th>Timestamp</th>\n",
       "      <th>Date</th>\n",
       "      <th>Day</th>\n",
       "      <th>Current Value</th>\n",
       "      <th>Changes in ₹</th>\n",
       "      <th>Changes in %</th>\n",
       "    </tr>\n",
       "  </thead>\n",
       "  <tbody>\n",
       "    <tr>\n",
       "      <th>0</th>\n",
       "      <td>04/01/2022 20:57:10</td>\n",
       "      <td>01/01/2022</td>\n",
       "      <td>Saturday</td>\n",
       "      <td>16237.25</td>\n",
       "      <td>0.00</td>\n",
       "      <td>0.00</td>\n",
       "    </tr>\n",
       "    <tr>\n",
       "      <th>1</th>\n",
       "      <td>04/01/2022 21:01:22</td>\n",
       "      <td>02/01/2022</td>\n",
       "      <td>Sunday</td>\n",
       "      <td>16237.25</td>\n",
       "      <td>0.00</td>\n",
       "      <td>0.00</td>\n",
       "    </tr>\n",
       "    <tr>\n",
       "      <th>2</th>\n",
       "      <td>04/01/2022 21:05:50</td>\n",
       "      <td>03/01/2022</td>\n",
       "      <td>Monday</td>\n",
       "      <td>16474.40</td>\n",
       "      <td>237.16</td>\n",
       "      <td>1.46</td>\n",
       "    </tr>\n",
       "    <tr>\n",
       "      <th>3</th>\n",
       "      <td>05/01/2022 06:43:53</td>\n",
       "      <td>04/01/2022</td>\n",
       "      <td>Tuesday</td>\n",
       "      <td>16563.52</td>\n",
       "      <td>89.12</td>\n",
       "      <td>0.54</td>\n",
       "    </tr>\n",
       "    <tr>\n",
       "      <th>4</th>\n",
       "      <td>06/01/2022 08:39:32</td>\n",
       "      <td>05/01/2022</td>\n",
       "      <td>Wednesday</td>\n",
       "      <td>16691.80</td>\n",
       "      <td>128.29</td>\n",
       "      <td>0.77</td>\n",
       "    </tr>\n",
       "  </tbody>\n",
       "</table>\n",
       "</div>"
      ],
      "text/plain": [
       "             Timestamp        Date        Day  Current Value  Changes in ₹  \\\n",
       "0  04/01/2022 20:57:10  01/01/2022   Saturday       16237.25          0.00   \n",
       "1  04/01/2022 21:01:22  02/01/2022     Sunday       16237.25          0.00   \n",
       "2  04/01/2022 21:05:50  03/01/2022     Monday       16474.40        237.16   \n",
       "3  05/01/2022 06:43:53  04/01/2022    Tuesday       16563.52         89.12   \n",
       "4  06/01/2022 08:39:32  05/01/2022  Wednesday       16691.80        128.29   \n",
       "\n",
       "   Changes in %  \n",
       "0          0.00  \n",
       "1          0.00  \n",
       "2          1.46  \n",
       "3          0.54  \n",
       "4          0.77  "
      ]
     },
     "execution_count": 4,
     "metadata": {},
     "output_type": "execute_result"
    }
   ],
   "source": [
    "# Useful properties and functions in Pandas\n",
    "#.head() function is allow us to view an arbitrary number of rows (by default 5) from the beginning of the dataset\n",
    "df.head()"
   ]
  },
  {
   "cell_type": "code",
   "execution_count": 5,
   "id": "4ac59620",
   "metadata": {},
   "outputs": [
    {
     "data": {
      "text/html": [
       "<div>\n",
       "<style scoped>\n",
       "    .dataframe tbody tr th:only-of-type {\n",
       "        vertical-align: middle;\n",
       "    }\n",
       "\n",
       "    .dataframe tbody tr th {\n",
       "        vertical-align: top;\n",
       "    }\n",
       "\n",
       "    .dataframe thead th {\n",
       "        text-align: right;\n",
       "    }\n",
       "</style>\n",
       "<table border=\"1\" class=\"dataframe\">\n",
       "  <thead>\n",
       "    <tr style=\"text-align: right;\">\n",
       "      <th></th>\n",
       "      <th>Timestamp</th>\n",
       "      <th>Date</th>\n",
       "      <th>Day</th>\n",
       "      <th>Current Value</th>\n",
       "      <th>Changes in ₹</th>\n",
       "      <th>Changes in %</th>\n",
       "    </tr>\n",
       "  </thead>\n",
       "  <tbody>\n",
       "    <tr>\n",
       "      <th>183</th>\n",
       "      <td>02/07/2022 09:14:09</td>\n",
       "      <td>03/07/2022</td>\n",
       "      <td>Sunday</td>\n",
       "      <td>20711.55</td>\n",
       "      <td>0.00</td>\n",
       "      <td>0.00</td>\n",
       "    </tr>\n",
       "    <tr>\n",
       "      <th>184</th>\n",
       "      <td>05/07/2022 09:05:14</td>\n",
       "      <td>04/07/2022</td>\n",
       "      <td>Monday</td>\n",
       "      <td>20871.24</td>\n",
       "      <td>159.69</td>\n",
       "      <td>0.77</td>\n",
       "    </tr>\n",
       "    <tr>\n",
       "      <th>185</th>\n",
       "      <td>06/07/2022 09:53:40</td>\n",
       "      <td>05/07/2022</td>\n",
       "      <td>Tuesday</td>\n",
       "      <td>20852.81</td>\n",
       "      <td>-18.42</td>\n",
       "      <td>-0.09</td>\n",
       "    </tr>\n",
       "    <tr>\n",
       "      <th>186</th>\n",
       "      <td>07/07/2022 12:53:04</td>\n",
       "      <td>06/07/2022</td>\n",
       "      <td>Wednesday</td>\n",
       "      <td>21146.56</td>\n",
       "      <td>293.74</td>\n",
       "      <td>1.41</td>\n",
       "    </tr>\n",
       "    <tr>\n",
       "      <th>187</th>\n",
       "      <td>08/07/2022 10:36:55</td>\n",
       "      <td>07/07/2022</td>\n",
       "      <td>Thursday</td>\n",
       "      <td>21355.45</td>\n",
       "      <td>208.89</td>\n",
       "      <td>0.99</td>\n",
       "    </tr>\n",
       "  </tbody>\n",
       "</table>\n",
       "</div>"
      ],
      "text/plain": [
       "               Timestamp        Date        Day  Current Value  Changes in ₹  \\\n",
       "183  02/07/2022 09:14:09  03/07/2022     Sunday       20711.55          0.00   \n",
       "184  05/07/2022 09:05:14  04/07/2022     Monday       20871.24        159.69   \n",
       "185  06/07/2022 09:53:40  05/07/2022    Tuesday       20852.81        -18.42   \n",
       "186  07/07/2022 12:53:04  06/07/2022  Wednesday       21146.56        293.74   \n",
       "187  08/07/2022 10:36:55  07/07/2022   Thursday       21355.45        208.89   \n",
       "\n",
       "     Changes in %  \n",
       "183          0.00  \n",
       "184          0.77  \n",
       "185         -0.09  \n",
       "186          1.41  \n",
       "187          0.99  "
      ]
     },
     "execution_count": 5,
     "metadata": {},
     "output_type": "execute_result"
    }
   ],
   "source": [
    "#.tail() function is allow us to view an arbitrary number of rows (by default 5) from the end of the dataset\n",
    "df.tail()"
   ]
  },
  {
   "cell_type": "code",
   "execution_count": 6,
   "id": "7d24315c",
   "metadata": {},
   "outputs": [
    {
     "data": {
      "text/plain": [
       "(188, 6)"
      ]
     },
     "execution_count": 6,
     "metadata": {},
     "output_type": "execute_result"
    }
   ],
   "source": [
    "#.shape represent the dimensionality of our dataset\n",
    "df.shape"
   ]
  },
  {
   "cell_type": "code",
   "execution_count": 7,
   "id": "7676ebd4",
   "metadata": {},
   "outputs": [
    {
     "data": {
      "text/html": [
       "<div>\n",
       "<style scoped>\n",
       "    .dataframe tbody tr th:only-of-type {\n",
       "        vertical-align: middle;\n",
       "    }\n",
       "\n",
       "    .dataframe tbody tr th {\n",
       "        vertical-align: top;\n",
       "    }\n",
       "\n",
       "    .dataframe thead th {\n",
       "        text-align: right;\n",
       "    }\n",
       "</style>\n",
       "<table border=\"1\" class=\"dataframe\">\n",
       "  <thead>\n",
       "    <tr style=\"text-align: right;\">\n",
       "      <th></th>\n",
       "      <th>Current Value</th>\n",
       "      <th>Changes in ₹</th>\n",
       "      <th>Changes in %</th>\n",
       "    </tr>\n",
       "  </thead>\n",
       "  <tbody>\n",
       "    <tr>\n",
       "      <th>count</th>\n",
       "      <td>188.000000</td>\n",
       "      <td>188.000000</td>\n",
       "      <td>188.000000</td>\n",
       "    </tr>\n",
       "    <tr>\n",
       "      <th>mean</th>\n",
       "      <td>19052.712021</td>\n",
       "      <td>-10.116383</td>\n",
       "      <td>-0.051809</td>\n",
       "    </tr>\n",
       "    <tr>\n",
       "      <th>std</th>\n",
       "      <td>1629.174169</td>\n",
       "      <td>221.362685</td>\n",
       "      <td>1.189623</td>\n",
       "    </tr>\n",
       "    <tr>\n",
       "      <th>min</th>\n",
       "      <td>15655.310000</td>\n",
       "      <td>-926.590000</td>\n",
       "      <td>-5.370000</td>\n",
       "    </tr>\n",
       "    <tr>\n",
       "      <th>25%</th>\n",
       "      <td>17336.290000</td>\n",
       "      <td>-96.862500</td>\n",
       "      <td>-0.475000</td>\n",
       "    </tr>\n",
       "    <tr>\n",
       "      <th>50%</th>\n",
       "      <td>19551.165000</td>\n",
       "      <td>0.000000</td>\n",
       "      <td>0.000000</td>\n",
       "    </tr>\n",
       "    <tr>\n",
       "      <th>75%</th>\n",
       "      <td>20533.120000</td>\n",
       "      <td>73.960000</td>\n",
       "      <td>0.420000</td>\n",
       "    </tr>\n",
       "    <tr>\n",
       "      <th>max</th>\n",
       "      <td>21391.540000</td>\n",
       "      <td>631.640000</td>\n",
       "      <td>3.750000</td>\n",
       "    </tr>\n",
       "  </tbody>\n",
       "</table>\n",
       "</div>"
      ],
      "text/plain": [
       "       Current Value  Changes in ₹  Changes in %\n",
       "count     188.000000    188.000000    188.000000\n",
       "mean    19052.712021    -10.116383     -0.051809\n",
       "std      1629.174169    221.362685      1.189623\n",
       "min     15655.310000   -926.590000     -5.370000\n",
       "25%     17336.290000    -96.862500     -0.475000\n",
       "50%     19551.165000      0.000000      0.000000\n",
       "75%     20533.120000     73.960000      0.420000\n",
       "max     21391.540000    631.640000      3.750000"
      ]
     },
     "execution_count": 7,
     "metadata": {},
     "output_type": "execute_result"
    }
   ],
   "source": [
    "#.describe() The describe function does purely descriptive information about the dataset\n",
    "df.describe()"
   ]
  },
  {
   "cell_type": "code",
   "execution_count": 8,
   "id": "478f9c6c",
   "metadata": {},
   "outputs": [
    {
     "name": "stdout",
     "output_type": "stream",
     "text": [
      "<class 'pandas.core.frame.DataFrame'>\n",
      "RangeIndex: 188 entries, 0 to 187\n",
      "Data columns (total 6 columns):\n",
      " #   Column         Non-Null Count  Dtype  \n",
      "---  ------         --------------  -----  \n",
      " 0   Timestamp      188 non-null    object \n",
      " 1   Date           188 non-null    object \n",
      " 2   Day            188 non-null    object \n",
      " 3   Current Value  188 non-null    float64\n",
      " 4   Changes in ₹   188 non-null    float64\n",
      " 5   Changes in %   188 non-null    float64\n",
      "dtypes: float64(3), object(3)\n",
      "memory usage: 8.9+ KB\n"
     ]
    }
   ],
   "source": [
    "#.info() gives us a shorter summary of our dataset.\n",
    "df.info()"
   ]
  },
  {
   "cell_type": "markdown",
   "id": "ca187aa1",
   "metadata": {},
   "source": [
    "### What is our goal?\n",
    "#### The idea would be to use the features of the dataset to predict which date(day) is gives more mutual fund units to earn more profit."
   ]
  },
  {
   "cell_type": "markdown",
   "id": "5395f026",
   "metadata": {},
   "source": [
    "### 3) Preparation"
   ]
  },
  {
   "cell_type": "code",
   "execution_count": 9,
   "id": "f871a118",
   "metadata": {},
   "outputs": [
    {
     "name": "stdout",
     "output_type": "stream",
     "text": [
      "At this stage we want to start cleaning our dataset in order to continue the analysis. Some of the questions we will ask ourselves are\n",
      "\n",
      "> are there any useless or redundant variables?\n",
      "> are there any duplicate columns?\n",
      "> does the nomenclature make sense?\n",
      "> are there any new variables we want to create?\n",
      "    \n"
     ]
    }
   ],
   "source": [
    "def Preparation():\n",
    "    print('''At this stage we want to start cleaning our dataset in order to continue the analysis. Some of the questions we will ask ourselves are\n",
    "\n",
    "> are there any useless or redundant variables?\n",
    "> are there any duplicate columns?\n",
    "> does the nomenclature make sense?\n",
    "> are there any new variables we want to create?\n",
    "    ''')\n",
    "    \n",
    "Preparation()"
   ]
  },
  {
   "cell_type": "code",
   "execution_count": 10,
   "id": "5c58b934",
   "metadata": {},
   "outputs": [
    {
     "data": {
      "text/plain": [
       "0"
      ]
     },
     "execution_count": 10,
     "metadata": {},
     "output_type": "execute_result"
    }
   ],
   "source": [
    "#To check for duplicate rows we can use .duplicated().sum()\n",
    "df.duplicated().sum()\n",
    "#This will print the number of duplicated rows in our dataset"
   ]
  },
  {
   "cell_type": "code",
   "execution_count": 11,
   "id": "5dd09ae9",
   "metadata": {},
   "outputs": [
    {
     "data": {
      "text/html": [
       "<div>\n",
       "<style scoped>\n",
       "    .dataframe tbody tr th:only-of-type {\n",
       "        vertical-align: middle;\n",
       "    }\n",
       "\n",
       "    .dataframe tbody tr th {\n",
       "        vertical-align: top;\n",
       "    }\n",
       "\n",
       "    .dataframe thead th {\n",
       "        text-align: right;\n",
       "    }\n",
       "</style>\n",
       "<table border=\"1\" class=\"dataframe\">\n",
       "  <thead>\n",
       "    <tr style=\"text-align: right;\">\n",
       "      <th></th>\n",
       "      <th>Date</th>\n",
       "      <th>Day</th>\n",
       "      <th>Current Value</th>\n",
       "      <th>Changes in ₹</th>\n",
       "      <th>Changes in %</th>\n",
       "    </tr>\n",
       "  </thead>\n",
       "  <tbody>\n",
       "    <tr>\n",
       "      <th>0</th>\n",
       "      <td>01/01/2022</td>\n",
       "      <td>Saturday</td>\n",
       "      <td>16237.25</td>\n",
       "      <td>0.00</td>\n",
       "      <td>0.00</td>\n",
       "    </tr>\n",
       "    <tr>\n",
       "      <th>1</th>\n",
       "      <td>02/01/2022</td>\n",
       "      <td>Sunday</td>\n",
       "      <td>16237.25</td>\n",
       "      <td>0.00</td>\n",
       "      <td>0.00</td>\n",
       "    </tr>\n",
       "    <tr>\n",
       "      <th>2</th>\n",
       "      <td>03/01/2022</td>\n",
       "      <td>Monday</td>\n",
       "      <td>16474.40</td>\n",
       "      <td>237.16</td>\n",
       "      <td>1.46</td>\n",
       "    </tr>\n",
       "    <tr>\n",
       "      <th>3</th>\n",
       "      <td>04/01/2022</td>\n",
       "      <td>Tuesday</td>\n",
       "      <td>16563.52</td>\n",
       "      <td>89.12</td>\n",
       "      <td>0.54</td>\n",
       "    </tr>\n",
       "    <tr>\n",
       "      <th>4</th>\n",
       "      <td>05/01/2022</td>\n",
       "      <td>Wednesday</td>\n",
       "      <td>16691.80</td>\n",
       "      <td>128.29</td>\n",
       "      <td>0.77</td>\n",
       "    </tr>\n",
       "    <tr>\n",
       "      <th>...</th>\n",
       "      <td>...</td>\n",
       "      <td>...</td>\n",
       "      <td>...</td>\n",
       "      <td>...</td>\n",
       "      <td>...</td>\n",
       "    </tr>\n",
       "    <tr>\n",
       "      <th>183</th>\n",
       "      <td>03/07/2022</td>\n",
       "      <td>Sunday</td>\n",
       "      <td>20711.55</td>\n",
       "      <td>0.00</td>\n",
       "      <td>0.00</td>\n",
       "    </tr>\n",
       "    <tr>\n",
       "      <th>184</th>\n",
       "      <td>04/07/2022</td>\n",
       "      <td>Monday</td>\n",
       "      <td>20871.24</td>\n",
       "      <td>159.69</td>\n",
       "      <td>0.77</td>\n",
       "    </tr>\n",
       "    <tr>\n",
       "      <th>185</th>\n",
       "      <td>05/07/2022</td>\n",
       "      <td>Tuesday</td>\n",
       "      <td>20852.81</td>\n",
       "      <td>-18.42</td>\n",
       "      <td>-0.09</td>\n",
       "    </tr>\n",
       "    <tr>\n",
       "      <th>186</th>\n",
       "      <td>06/07/2022</td>\n",
       "      <td>Wednesday</td>\n",
       "      <td>21146.56</td>\n",
       "      <td>293.74</td>\n",
       "      <td>1.41</td>\n",
       "    </tr>\n",
       "    <tr>\n",
       "      <th>187</th>\n",
       "      <td>07/07/2022</td>\n",
       "      <td>Thursday</td>\n",
       "      <td>21355.45</td>\n",
       "      <td>208.89</td>\n",
       "      <td>0.99</td>\n",
       "    </tr>\n",
       "  </tbody>\n",
       "</table>\n",
       "<p>188 rows × 5 columns</p>\n",
       "</div>"
      ],
      "text/plain": [
       "           Date        Day  Current Value  Changes in ₹  Changes in %\n",
       "0    01/01/2022   Saturday       16237.25          0.00          0.00\n",
       "1    02/01/2022     Sunday       16237.25          0.00          0.00\n",
       "2    03/01/2022     Monday       16474.40        237.16          1.46\n",
       "3    04/01/2022    Tuesday       16563.52         89.12          0.54\n",
       "4    05/01/2022  Wednesday       16691.80        128.29          0.77\n",
       "..          ...        ...            ...           ...           ...\n",
       "183  03/07/2022     Sunday       20711.55          0.00          0.00\n",
       "184  04/07/2022     Monday       20871.24        159.69          0.77\n",
       "185  05/07/2022    Tuesday       20852.81        -18.42         -0.09\n",
       "186  06/07/2022  Wednesday       21146.56        293.74          1.41\n",
       "187  07/07/2022   Thursday       21355.45        208.89          0.99\n",
       "\n",
       "[188 rows x 5 columns]"
      ]
     },
     "execution_count": 11,
     "metadata": {},
     "output_type": "execute_result"
    }
   ],
   "source": [
    "# Drop the Timestamp column\n",
    "df=df.drop(labels='Timestamp',axis=1)\n",
    "df"
   ]
  },
  {
   "cell_type": "code",
   "execution_count": 12,
   "id": "ea9af348",
   "metadata": {},
   "outputs": [],
   "source": [
    "#Rename specific columns\n",
    "df.rename(columns = {'Date':'date','Day':'day','Current Value':'current_value',\n",
    "                    'Changes in ₹':'changes_in_value','Changes in %':'changes_in_percent'},\n",
    "          inplace = True)"
   ]
  },
  {
   "cell_type": "code",
   "execution_count": 13,
   "id": "53a6cad1",
   "metadata": {},
   "outputs": [
    {
     "data": {
      "text/html": [
       "<div>\n",
       "<style scoped>\n",
       "    .dataframe tbody tr th:only-of-type {\n",
       "        vertical-align: middle;\n",
       "    }\n",
       "\n",
       "    .dataframe tbody tr th {\n",
       "        vertical-align: top;\n",
       "    }\n",
       "\n",
       "    .dataframe thead th {\n",
       "        text-align: right;\n",
       "    }\n",
       "</style>\n",
       "<table border=\"1\" class=\"dataframe\">\n",
       "  <thead>\n",
       "    <tr style=\"text-align: right;\">\n",
       "      <th></th>\n",
       "      <th>date</th>\n",
       "      <th>day</th>\n",
       "      <th>current_value</th>\n",
       "      <th>changes_in_value</th>\n",
       "      <th>changes_in_percent</th>\n",
       "    </tr>\n",
       "  </thead>\n",
       "  <tbody>\n",
       "    <tr>\n",
       "      <th>0</th>\n",
       "      <td>01/01/2022</td>\n",
       "      <td>Saturday</td>\n",
       "      <td>16237.25</td>\n",
       "      <td>0.00</td>\n",
       "      <td>0.00</td>\n",
       "    </tr>\n",
       "    <tr>\n",
       "      <th>1</th>\n",
       "      <td>02/01/2022</td>\n",
       "      <td>Sunday</td>\n",
       "      <td>16237.25</td>\n",
       "      <td>0.00</td>\n",
       "      <td>0.00</td>\n",
       "    </tr>\n",
       "    <tr>\n",
       "      <th>2</th>\n",
       "      <td>03/01/2022</td>\n",
       "      <td>Monday</td>\n",
       "      <td>16474.40</td>\n",
       "      <td>237.16</td>\n",
       "      <td>1.46</td>\n",
       "    </tr>\n",
       "    <tr>\n",
       "      <th>3</th>\n",
       "      <td>04/01/2022</td>\n",
       "      <td>Tuesday</td>\n",
       "      <td>16563.52</td>\n",
       "      <td>89.12</td>\n",
       "      <td>0.54</td>\n",
       "    </tr>\n",
       "    <tr>\n",
       "      <th>4</th>\n",
       "      <td>05/01/2022</td>\n",
       "      <td>Wednesday</td>\n",
       "      <td>16691.80</td>\n",
       "      <td>128.29</td>\n",
       "      <td>0.77</td>\n",
       "    </tr>\n",
       "  </tbody>\n",
       "</table>\n",
       "</div>"
      ],
      "text/plain": [
       "         date        day  current_value  changes_in_value  changes_in_percent\n",
       "0  01/01/2022   Saturday       16237.25              0.00                0.00\n",
       "1  02/01/2022     Sunday       16237.25              0.00                0.00\n",
       "2  03/01/2022     Monday       16474.40            237.16                1.46\n",
       "3  04/01/2022    Tuesday       16563.52             89.12                0.54\n",
       "4  05/01/2022  Wednesday       16691.80            128.29                0.77"
      ]
     },
     "execution_count": 13,
     "metadata": {},
     "output_type": "execute_result"
    }
   ],
   "source": [
    "df.head()"
   ]
  },
  {
   "cell_type": "markdown",
   "id": "136cbac8",
   "metadata": {},
   "source": [
    "### 4) Understanding of the variables\n",
    "\n",
    "#### Categorical variables"
   ]
  },
  {
   "cell_type": "code",
   "execution_count": 14,
   "id": "a9ec0035",
   "metadata": {},
   "outputs": [
    {
     "data": {
      "text/plain": [
       "Saturday     28\n",
       "Monday       27\n",
       "Tuesday      27\n",
       "Wednesday    27\n",
       "Friday       27\n",
       "Sunday       26\n",
       "Thursday     26\n",
       "Name: day, dtype: int64"
      ]
     },
     "execution_count": 14,
     "metadata": {},
     "output_type": "execute_result"
    }
   ],
   "source": [
    "# Categorical variables\n",
    "df.day.value_counts()"
   ]
  },
  {
   "cell_type": "code",
   "execution_count": 15,
   "id": "93fcd641",
   "metadata": {},
   "outputs": [
    {
     "data": {
      "text/plain": [
       "Saturday     0.148936\n",
       "Monday       0.143617\n",
       "Tuesday      0.143617\n",
       "Wednesday    0.143617\n",
       "Friday       0.143617\n",
       "Sunday       0.138298\n",
       "Thursday     0.138298\n",
       "Name: day, dtype: float64"
      ]
     },
     "execution_count": 15,
     "metadata": {},
     "output_type": "execute_result"
    }
   ],
   "source": [
    "#We can also express the data as a percentage by passing normalize=True\n",
    "df.day.value_counts(normalize=True)"
   ]
  },
  {
   "cell_type": "code",
   "execution_count": 16,
   "id": "013cafe9",
   "metadata": {},
   "outputs": [
    {
     "data": {
      "image/png": "[encoded data removed]",
      "text/plain": [
       "<Figure size 864x432 with 1 Axes>"
      ]
     },
     "metadata": {},
     "output_type": "display_data"
    }
   ],
   "source": [
    "#we can also plot the data \n",
    "df.day.value_counts().plot(kind=\"bar\")\n",
    "plt.title(\"Value counts of the day variable\")\n",
    "plt.xlabel(\"Day\")\n",
    "plt.xticks(rotation=0)\n",
    "plt.ylabel(\"Count\")\n",
    "plt.show()"
   ]
  },
  {
   "cell_type": "markdown",
   "id": "80fc9fcf",
   "metadata": {},
   "source": [
    "#### Numeric variables\n",
    "#### If instead we want to analyze a numeric variables,we can describe its distribution with describe()"
   ]
  },
  {
   "cell_type": "code",
   "execution_count": 17,
   "id": "7806ba0e",
   "metadata": {},
   "outputs": [
    {
     "data": {
      "text/plain": [
       "count      188.000000\n",
       "mean     19052.712021\n",
       "std       1629.174169\n",
       "min      15655.310000\n",
       "25%      17336.290000\n",
       "50%      19551.165000\n",
       "75%      20533.120000\n",
       "max      21391.540000\n",
       "Name: current_value, dtype: float64"
      ]
     },
     "execution_count": 17,
     "metadata": {},
     "output_type": "execute_result"
    }
   ],
   "source": [
    "df.current_value.describe()"
   ]
  },
  {
   "cell_type": "code",
   "execution_count": 18,
   "id": "a2e3ebbf",
   "metadata": {},
   "outputs": [
    {
     "name": "stdout",
     "output_type": "stream",
     "text": [
      "Kurtosis: -1.3755441762034695\n",
      "Skewness: -0.3529369183005119\n"
     ]
    }
   ],
   "source": [
    "print(f\"Kurtosis: {df['current_value'].kurt()}\")\n",
    "print(f\"Skewness: {df['current_value'].skew()}\")"
   ]
  },
  {
   "cell_type": "markdown",
   "id": "aad24efa",
   "metadata": {},
   "source": [
    "### 4. Study of relationships between variables"
   ]
  },
  {
   "cell_type": "code",
   "execution_count": 19,
   "id": "e3390a52",
   "metadata": {},
   "outputs": [
    {
     "data": {
      "text/plain": [
       "<seaborn.axisgrid.PairGrid at 0x14542ad1cd0>"
      ]
     },
     "execution_count": 19,
     "metadata": {},
     "output_type": "execute_result"
    },
    {
     "data": {
      "image/png": "[encoded data removed]",
      "text/plain": [
       "<Figure size 540x540 with 12 Axes>"
      ]
     },
     "metadata": {},
     "output_type": "display_data"
    }
   ],
   "source": [
    "sns.pairplot(df)"
   ]
  },
  {
   "cell_type": "code",
   "execution_count": 20,
   "id": "5b5c8dd8",
   "metadata": {},
   "outputs": [
    {
     "data": {
      "image/png": "[encoded data removed]",
      "text/plain": [
       "<Figure size 540x360 with 1 Axes>"
      ]
     },
     "metadata": {},
     "output_type": "display_data"
    }
   ],
   "source": [
    "sns.catplot(x=\"day\",y=\"current_value\", data=df, kind=\"box\", aspect=1.5)\n",
    "plt.title(\"Boxplot for days vs current_value\")\n",
    "plt.show()"
   ]
  },
  {
   "cell_type": "code",
   "execution_count": 21,
   "id": "6ede6c48",
   "metadata": {},
   "outputs": [
    {
     "data": {
      "image/png": "[encoded data removed]",
      "text/plain": [
       "<Figure size 540x360 with 1 Axes>"
      ]
     },
     "metadata": {},
     "output_type": "display_data"
    }
   ],
   "source": [
    "sns.catplot(x=\"day\",y=\"changes_in_value\", data=df, kind=\"box\", aspect=1.5)\n",
    "plt.title(\"Boxplot for days vs changes_in_value\")\n",
    "plt.show()"
   ]
  },
  {
   "cell_type": "code",
   "execution_count": 22,
   "id": "7024e094",
   "metadata": {},
   "outputs": [
    {
     "data": {
      "image/png": "[encoded data removed]",
      "text/plain": [
       "<Figure size 540x360 with 1 Axes>"
      ]
     },
     "metadata": {},
     "output_type": "display_data"
    }
   ],
   "source": [
    "sns.catplot(x=\"day\",y=\"changes_in_percent\", data=df, kind=\"box\", aspect=1.5)\n",
    "plt.title(\"Boxplot for days vs changes_in_percent\")\n",
    "plt.show()"
   ]
  },
  {
   "cell_type": "code",
   "execution_count": 23,
   "id": "29b28515",
   "metadata": {},
   "outputs": [
    {
     "data": {
      "image/png": "[encoded data removed]",
      "text/plain": [
       "<Figure size 864x432 with 1 Axes>"
      ]
     },
     "metadata": {},
     "output_type": "display_data"
    }
   ],
   "source": [
    "sns.scatterplot(x=\"changes_in_percent\", y=\"changes_in_value\", hue=\"day\", data=df, palette=\"Dark2\", s=80)\n",
    "plt.title(\"Relationship between changes_in_percent, changes_in_value and days\")\n",
    "plt.show()"
   ]
  },
  {
   "cell_type": "code",
   "execution_count": null,
   "id": "90d3da68",
   "metadata": {},
   "outputs": [],
   "source": []
  }
 ],
 "metadata": {
  "kernelspec": {
   "display_name": "Python 3 (ipykernel)",
   "language": "python",
   "name": "python3"
  },
  "language_info": {
   "codemirror_mode": {
    "name": "ipython",
    "version": 3
   },
   "file_extension": ".py",
   "mimetype": "text/x-python",
   "name": "python",
   "nbconvert_exporter": "python",
   "pygments_lexer": "ipython3",
   "version": "3.10.5"
  }
 },
 "nbformat": 4,
 "nbformat_minor": 5
}
