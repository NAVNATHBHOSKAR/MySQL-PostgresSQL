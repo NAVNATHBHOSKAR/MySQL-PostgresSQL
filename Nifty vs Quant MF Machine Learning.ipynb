{
 "cells": [
  {
   "cell_type": "code",
   "execution_count": 1,
   "id": "059499f5",
   "metadata": {},
   "outputs": [],
   "source": [
    "### Importing the Libraries"
   ]
  },
  {
   "cell_type": "code",
   "execution_count": 2,
   "id": "c5193375",
   "metadata": {},
   "outputs": [],
   "source": [
    "import numpy as np\n",
    "import pandas as pd\n",
    "import matplotlib.pyplot as plt"
   ]
  },
  {
   "cell_type": "code",
   "execution_count": 3,
   "id": "f4f8bff5",
   "metadata": {},
   "outputs": [],
   "source": [
    "### Import Dataset"
   ]
  },
  {
   "cell_type": "code",
   "execution_count": 8,
   "id": "8d9a3cd4",
   "metadata": {},
   "outputs": [
    {
     "data": {
      "text/html": [
       "<div>\n",
       "<style scoped>\n",
       "    .dataframe tbody tr th:only-of-type {\n",
       "        vertical-align: middle;\n",
       "    }\n",
       "\n",
       "    .dataframe tbody tr th {\n",
       "        vertical-align: top;\n",
       "    }\n",
       "\n",
       "    .dataframe thead th {\n",
       "        text-align: right;\n",
       "    }\n",
       "</style>\n",
       "<table border=\"1\" class=\"dataframe\">\n",
       "  <thead>\n",
       "    <tr style=\"text-align: right;\">\n",
       "      <th></th>\n",
       "      <th>Nifty 50 Change</th>\n",
       "      <th>NAV Changes in ₹</th>\n",
       "    </tr>\n",
       "  </thead>\n",
       "  <tbody>\n",
       "    <tr>\n",
       "      <th>0</th>\n",
       "      <td>0.00</td>\n",
       "      <td>0.00</td>\n",
       "    </tr>\n",
       "    <tr>\n",
       "      <th>1</th>\n",
       "      <td>0.00</td>\n",
       "      <td>0.00</td>\n",
       "    </tr>\n",
       "    <tr>\n",
       "      <th>2</th>\n",
       "      <td>271.65</td>\n",
       "      <td>3.44</td>\n",
       "    </tr>\n",
       "    <tr>\n",
       "      <th>3</th>\n",
       "      <td>179.55</td>\n",
       "      <td>0.21</td>\n",
       "    </tr>\n",
       "    <tr>\n",
       "      <th>4</th>\n",
       "      <td>120.60</td>\n",
       "      <td>2.08</td>\n",
       "    </tr>\n",
       "    <tr>\n",
       "      <th>...</th>\n",
       "      <td>...</td>\n",
       "      <td>...</td>\n",
       "    </tr>\n",
       "    <tr>\n",
       "      <th>312</th>\n",
       "      <td>-45.80</td>\n",
       "      <td>1.02</td>\n",
       "    </tr>\n",
       "    <tr>\n",
       "      <th>313</th>\n",
       "      <td>-128.80</td>\n",
       "      <td>-3.24</td>\n",
       "    </tr>\n",
       "    <tr>\n",
       "      <th>314</th>\n",
       "      <td>321.50</td>\n",
       "      <td>0.54</td>\n",
       "    </tr>\n",
       "    <tr>\n",
       "      <th>315</th>\n",
       "      <td>0.00</td>\n",
       "      <td>0.00</td>\n",
       "    </tr>\n",
       "    <tr>\n",
       "      <th>316</th>\n",
       "      <td>0.00</td>\n",
       "      <td>0.00</td>\n",
       "    </tr>\n",
       "  </tbody>\n",
       "</table>\n",
       "<p>317 rows × 2 columns</p>\n",
       "</div>"
      ],
      "text/plain": [
       "     Nifty 50 Change  NAV Changes in ₹\n",
       "0               0.00              0.00\n",
       "1               0.00              0.00\n",
       "2             271.65              3.44\n",
       "3             179.55              0.21\n",
       "4             120.60              2.08\n",
       "..               ...               ...\n",
       "312           -45.80              1.02\n",
       "313          -128.80             -3.24\n",
       "314           321.50              0.54\n",
       "315             0.00              0.00\n",
       "316             0.00              0.00\n",
       "\n",
       "[317 rows x 2 columns]"
      ]
     },
     "execution_count": 8,
     "metadata": {},
     "output_type": "execute_result"
    }
   ],
   "source": [
    "quant_dataset=pd.read_csv('nifty_vs_quant_nav.csv')\n",
    "quant_dataset"
   ]
  },
  {
   "cell_type": "code",
   "execution_count": 9,
   "id": "f8c58824",
   "metadata": {},
   "outputs": [],
   "source": [
    "#### How big is the dataset? (Rows and columns)"
   ]
  },
  {
   "cell_type": "code",
   "execution_count": 10,
   "id": "d8aba39b",
   "metadata": {},
   "outputs": [
    {
     "data": {
      "text/plain": [
       "(317, 2)"
      ]
     },
     "execution_count": 10,
     "metadata": {},
     "output_type": "execute_result"
    }
   ],
   "source": [
    "quant_dataset.shape"
   ]
  },
  {
   "cell_type": "code",
   "execution_count": 11,
   "id": "45a26f7f",
   "metadata": {},
   "outputs": [
    {
     "name": "stdout",
     "output_type": "stream",
     "text": [
      "<class 'pandas.core.frame.DataFrame'>\n",
      "RangeIndex: 317 entries, 0 to 316\n",
      "Data columns (total 2 columns):\n",
      " #   Column            Non-Null Count  Dtype  \n",
      "---  ------            --------------  -----  \n",
      " 0   Nifty 50 Change   317 non-null    float64\n",
      " 1   NAV Changes in ₹  317 non-null    float64\n",
      "dtypes: float64(2)\n",
      "memory usage: 5.1 KB\n"
     ]
    }
   ],
   "source": [
    "quant_dataset.info()"
   ]
  },
  {
   "cell_type": "code",
   "execution_count": 12,
   "id": "dbcb6184",
   "metadata": {},
   "outputs": [],
   "source": [
    "#### Data Pre-processing: Finding out NaN values"
   ]
  },
  {
   "cell_type": "code",
   "execution_count": 13,
   "id": "2de189a5",
   "metadata": {},
   "outputs": [
    {
     "data": {
      "text/plain": [
       "Nifty 50 Change     False\n",
       "NAV Changes in ₹    False\n",
       "dtype: bool"
      ]
     },
     "execution_count": 13,
     "metadata": {},
     "output_type": "execute_result"
    }
   ],
   "source": [
    "quant_dataset.isna().any()"
   ]
  },
  {
   "cell_type": "code",
   "execution_count": 14,
   "id": "7504ae26",
   "metadata": {},
   "outputs": [],
   "source": [
    "#### Rename specific columns"
   ]
  },
  {
   "cell_type": "code",
   "execution_count": 15,
   "id": "ab353708",
   "metadata": {},
   "outputs": [],
   "source": [
    "quant_dataset.rename(columns = {'Nifty 50 Change':'nifty_50_change','Net Asset Value Change in ₹':'axis_nav_changes'},inplace = True)"
   ]
  },
  {
   "cell_type": "code",
   "execution_count": 16,
   "id": "2af6c2dc",
   "metadata": {},
   "outputs": [
    {
     "data": {
      "text/html": [
       "<div>\n",
       "<style scoped>\n",
       "    .dataframe tbody tr th:only-of-type {\n",
       "        vertical-align: middle;\n",
       "    }\n",
       "\n",
       "    .dataframe tbody tr th {\n",
       "        vertical-align: top;\n",
       "    }\n",
       "\n",
       "    .dataframe thead th {\n",
       "        text-align: right;\n",
       "    }\n",
       "</style>\n",
       "<table border=\"1\" class=\"dataframe\">\n",
       "  <thead>\n",
       "    <tr style=\"text-align: right;\">\n",
       "      <th></th>\n",
       "      <th>nifty_50_change</th>\n",
       "      <th>NAV Changes in ₹</th>\n",
       "    </tr>\n",
       "  </thead>\n",
       "  <tbody>\n",
       "    <tr>\n",
       "      <th>0</th>\n",
       "      <td>0.00</td>\n",
       "      <td>0.00</td>\n",
       "    </tr>\n",
       "    <tr>\n",
       "      <th>1</th>\n",
       "      <td>0.00</td>\n",
       "      <td>0.00</td>\n",
       "    </tr>\n",
       "    <tr>\n",
       "      <th>2</th>\n",
       "      <td>271.65</td>\n",
       "      <td>3.44</td>\n",
       "    </tr>\n",
       "    <tr>\n",
       "      <th>3</th>\n",
       "      <td>179.55</td>\n",
       "      <td>0.21</td>\n",
       "    </tr>\n",
       "    <tr>\n",
       "      <th>4</th>\n",
       "      <td>120.60</td>\n",
       "      <td>2.08</td>\n",
       "    </tr>\n",
       "    <tr>\n",
       "      <th>...</th>\n",
       "      <td>...</td>\n",
       "      <td>...</td>\n",
       "    </tr>\n",
       "    <tr>\n",
       "      <th>312</th>\n",
       "      <td>-45.80</td>\n",
       "      <td>1.02</td>\n",
       "    </tr>\n",
       "    <tr>\n",
       "      <th>313</th>\n",
       "      <td>-128.80</td>\n",
       "      <td>-3.24</td>\n",
       "    </tr>\n",
       "    <tr>\n",
       "      <th>314</th>\n",
       "      <td>321.50</td>\n",
       "      <td>0.54</td>\n",
       "    </tr>\n",
       "    <tr>\n",
       "      <th>315</th>\n",
       "      <td>0.00</td>\n",
       "      <td>0.00</td>\n",
       "    </tr>\n",
       "    <tr>\n",
       "      <th>316</th>\n",
       "      <td>0.00</td>\n",
       "      <td>0.00</td>\n",
       "    </tr>\n",
       "  </tbody>\n",
       "</table>\n",
       "<p>317 rows × 2 columns</p>\n",
       "</div>"
      ],
      "text/plain": [
       "     nifty_50_change  NAV Changes in ₹\n",
       "0               0.00              0.00\n",
       "1               0.00              0.00\n",
       "2             271.65              3.44\n",
       "3             179.55              0.21\n",
       "4             120.60              2.08\n",
       "..               ...               ...\n",
       "312           -45.80              1.02\n",
       "313          -128.80             -3.24\n",
       "314           321.50              0.54\n",
       "315             0.00              0.00\n",
       "316             0.00              0.00\n",
       "\n",
       "[317 rows x 2 columns]"
      ]
     },
     "execution_count": 16,
     "metadata": {},
     "output_type": "execute_result"
    }
   ],
   "source": [
    "quant_dataset"
   ]
  },
  {
   "cell_type": "code",
   "execution_count": 17,
   "id": "b29d4cb0",
   "metadata": {},
   "outputs": [
    {
     "data": {
      "text/html": [
       "<div>\n",
       "<style scoped>\n",
       "    .dataframe tbody tr th:only-of-type {\n",
       "        vertical-align: middle;\n",
       "    }\n",
       "\n",
       "    .dataframe tbody tr th {\n",
       "        vertical-align: top;\n",
       "    }\n",
       "\n",
       "    .dataframe thead th {\n",
       "        text-align: right;\n",
       "    }\n",
       "</style>\n",
       "<table border=\"1\" class=\"dataframe\">\n",
       "  <thead>\n",
       "    <tr style=\"text-align: right;\">\n",
       "      <th></th>\n",
       "      <th>nifty_50_change</th>\n",
       "      <th>NAV Changes in ₹</th>\n",
       "    </tr>\n",
       "  </thead>\n",
       "  <tbody>\n",
       "    <tr>\n",
       "      <th>0</th>\n",
       "      <td>0.00</td>\n",
       "      <td>0.00</td>\n",
       "    </tr>\n",
       "    <tr>\n",
       "      <th>1</th>\n",
       "      <td>0.00</td>\n",
       "      <td>0.00</td>\n",
       "    </tr>\n",
       "    <tr>\n",
       "      <th>2</th>\n",
       "      <td>271.65</td>\n",
       "      <td>3.44</td>\n",
       "    </tr>\n",
       "    <tr>\n",
       "      <th>3</th>\n",
       "      <td>179.55</td>\n",
       "      <td>0.21</td>\n",
       "    </tr>\n",
       "    <tr>\n",
       "      <th>4</th>\n",
       "      <td>120.60</td>\n",
       "      <td>2.08</td>\n",
       "    </tr>\n",
       "  </tbody>\n",
       "</table>\n",
       "</div>"
      ],
      "text/plain": [
       "   nifty_50_change  NAV Changes in ₹\n",
       "0             0.00              0.00\n",
       "1             0.00              0.00\n",
       "2           271.65              3.44\n",
       "3           179.55              0.21\n",
       "4           120.60              2.08"
      ]
     },
     "execution_count": 17,
     "metadata": {},
     "output_type": "execute_result"
    }
   ],
   "source": [
    "#having a glance at the first five records of the dataset\n",
    "quant_dataset.head()"
   ]
  },
  {
   "cell_type": "markdown",
   "id": "fdfdab0f",
   "metadata": {},
   "source": [
    "### Importing the ML Libraries"
   ]
  },
  {
   "cell_type": "code",
   "execution_count": 20,
   "id": "6c699686",
   "metadata": {},
   "outputs": [],
   "source": [
    "import sklearn\n",
    "from sklearn.preprocessing import StandardScaler\n",
    "from sklearn.pipeline import Pipeline"
   ]
  },
  {
   "cell_type": "code",
   "execution_count": 22,
   "id": "9e18ba2d",
   "metadata": {},
   "outputs": [
    {
     "data": {
      "text/html": [
       "<div>\n",
       "<style scoped>\n",
       "    .dataframe tbody tr th:only-of-type {\n",
       "        vertical-align: middle;\n",
       "    }\n",
       "\n",
       "    .dataframe tbody tr th {\n",
       "        vertical-align: top;\n",
       "    }\n",
       "\n",
       "    .dataframe thead th {\n",
       "        text-align: right;\n",
       "    }\n",
       "</style>\n",
       "<table border=\"1\" class=\"dataframe\">\n",
       "  <thead>\n",
       "    <tr style=\"text-align: right;\">\n",
       "      <th></th>\n",
       "      <th>nifty_50_change</th>\n",
       "      <th>NAV Changes in ₹</th>\n",
       "    </tr>\n",
       "  </thead>\n",
       "  <tbody>\n",
       "    <tr>\n",
       "      <th>0</th>\n",
       "      <td>0.00</td>\n",
       "      <td>0.00</td>\n",
       "    </tr>\n",
       "    <tr>\n",
       "      <th>1</th>\n",
       "      <td>0.00</td>\n",
       "      <td>0.00</td>\n",
       "    </tr>\n",
       "    <tr>\n",
       "      <th>2</th>\n",
       "      <td>271.65</td>\n",
       "      <td>3.44</td>\n",
       "    </tr>\n",
       "    <tr>\n",
       "      <th>3</th>\n",
       "      <td>179.55</td>\n",
       "      <td>0.21</td>\n",
       "    </tr>\n",
       "    <tr>\n",
       "      <th>4</th>\n",
       "      <td>120.60</td>\n",
       "      <td>2.08</td>\n",
       "    </tr>\n",
       "    <tr>\n",
       "      <th>...</th>\n",
       "      <td>...</td>\n",
       "      <td>...</td>\n",
       "    </tr>\n",
       "    <tr>\n",
       "      <th>312</th>\n",
       "      <td>-45.80</td>\n",
       "      <td>1.02</td>\n",
       "    </tr>\n",
       "    <tr>\n",
       "      <th>313</th>\n",
       "      <td>-128.80</td>\n",
       "      <td>-3.24</td>\n",
       "    </tr>\n",
       "    <tr>\n",
       "      <th>314</th>\n",
       "      <td>321.50</td>\n",
       "      <td>0.54</td>\n",
       "    </tr>\n",
       "    <tr>\n",
       "      <th>315</th>\n",
       "      <td>0.00</td>\n",
       "      <td>0.00</td>\n",
       "    </tr>\n",
       "    <tr>\n",
       "      <th>316</th>\n",
       "      <td>0.00</td>\n",
       "      <td>0.00</td>\n",
       "    </tr>\n",
       "  </tbody>\n",
       "</table>\n",
       "<p>317 rows × 2 columns</p>\n",
       "</div>"
      ],
      "text/plain": [
       "     nifty_50_change  NAV Changes in ₹\n",
       "0               0.00              0.00\n",
       "1               0.00              0.00\n",
       "2             271.65              3.44\n",
       "3             179.55              0.21\n",
       "4             120.60              2.08\n",
       "..               ...               ...\n",
       "312           -45.80              1.02\n",
       "313          -128.80             -3.24\n",
       "314           321.50              0.54\n",
       "315             0.00              0.00\n",
       "316             0.00              0.00\n",
       "\n",
       "[317 rows x 2 columns]"
      ]
     },
     "execution_count": 22,
     "metadata": {},
     "output_type": "execute_result"
    }
   ],
   "source": [
    "quant_dataset"
   ]
  },
  {
   "cell_type": "code",
   "execution_count": 23,
   "id": "cfe77ee8",
   "metadata": {},
   "outputs": [
    {
     "data": {
      "text/plain": [
       "(317, 2)"
      ]
     },
     "execution_count": 23,
     "metadata": {},
     "output_type": "execute_result"
    }
   ],
   "source": [
    "quant_dataset.shape"
   ]
  },
  {
   "cell_type": "code",
   "execution_count": 24,
   "id": "f39fb837",
   "metadata": {},
   "outputs": [],
   "source": [
    "#Independent Variable\n",
    "X=quant_dataset.iloc[:,:-1].values\n",
    "\n",
    "#Dependent Variable\n",
    "y=quant_dataset.iloc[:,-1].values"
   ]
  },
  {
   "cell_type": "code",
   "execution_count": 25,
   "id": "ae5ba5e1",
   "metadata": {},
   "outputs": [
    {
     "data": {
      "text/plain": [
       "array([[   0.  ],\n",
       "       [   0.  ],\n",
       "       [ 271.65],\n",
       "       [ 179.55],\n",
       "       [ 120.6 ],\n",
       "       [-179.38],\n",
       "       [  66.8 ],\n",
       "       [   0.  ],\n",
       "       [   0.  ],\n",
       "       [ 190.6 ],\n",
       "       [  52.45],\n",
       "       [ 156.6 ],\n",
       "       [  45.45],\n",
       "       [  -2.05],\n",
       "       [   0.  ],\n",
       "       [   0.  ],\n",
       "       [  52.35],\n",
       "       [-195.05],\n",
       "       [-174.65],\n",
       "       [-181.4 ],\n",
       "       [-139.85],\n",
       "       [   0.  ],\n",
       "       [   0.  ],\n",
       "       [-468.05],\n",
       "       [ 128.85],\n",
       "       [   0.  ],\n",
       "       [-167.8 ],\n",
       "       [  -8.2 ],\n",
       "       [   0.  ],\n",
       "       [   0.  ],\n",
       "       [ 237.9 ],\n",
       "       [ 237.  ],\n",
       "       [ 203.15],\n",
       "       [-219.8 ],\n",
       "       [ -43.9 ],\n",
       "       [   0.  ],\n",
       "       [   0.  ],\n",
       "       [-302.7 ],\n",
       "       [  53.15],\n",
       "       [ 197.05],\n",
       "       [ 142.05],\n",
       "       [-231.1 ],\n",
       "       [   0.  ],\n",
       "       [   0.  ],\n",
       "       [-531.95],\n",
       "       [ 509.95],\n",
       "       [ -30.25],\n",
       "       [ -17.6 ],\n",
       "       [ -28.3 ],\n",
       "       [   0.  ],\n",
       "       [   0.  ],\n",
       "       [ -69.65],\n",
       "       [-114.45],\n",
       "       [ -28.95],\n",
       "       [-815.3 ],\n",
       "       [ 410.45],\n",
       "       [   0.  ],\n",
       "       [   0.  ],\n",
       "       [ 135.5 ],\n",
       "       [   0.  ],\n",
       "       [-187.95],\n",
       "       [-107.9 ],\n",
       "       [-252.7 ],\n",
       "       [   0.  ],\n",
       "       [   0.  ],\n",
       "       [-382.2 ],\n",
       "       [ 150.3 ],\n",
       "       [ 331.9 ],\n",
       "       [ 249.55],\n",
       "       [  35.55],\n",
       "       [   0.  ],\n",
       "       [   0.  ],\n",
       "       [ 240.85],\n",
       "       [-208.3 ],\n",
       "       [ 312.35],\n",
       "       [ 311.7 ],\n",
       "       [   0.  ],\n",
       "       [   0.  ],\n",
       "       [   0.  ],\n",
       "       [-169.45],\n",
       "       [ 197.9 ],\n",
       "       [ -69.85],\n",
       "       [ -22.9 ],\n",
       "       [ -69.75],\n",
       "       [   0.  ],\n",
       "       [   0.  ],\n",
       "       [  60.75],\n",
       "       [ 103.3 ],\n",
       "       [ 172.95],\n",
       "       [ -33.5 ],\n",
       "       [ 205.7 ],\n",
       "       [   0.  ],\n",
       "       [   0.  ],\n",
       "       [ 382.95],\n",
       "       [ -96.  ],\n",
       "       [-149.75],\n",
       "       [-168.1 ],\n",
       "       [ 144.8 ],\n",
       "       [   0.  ],\n",
       "       [   0.  ],\n",
       "       [-109.4 ],\n",
       "       [-144.65],\n",
       "       [ -54.65],\n",
       "       [   0.  ],\n",
       "       [   0.  ],\n",
       "       [   0.  ],\n",
       "       [   0.  ],\n",
       "       [-302.  ],\n",
       "       [-215.  ],\n",
       "       [ 177.9 ],\n",
       "       [ 258.55],\n",
       "       [-220.65],\n",
       "       [   0.  ],\n",
       "       [   0.  ],\n",
       "       [-218.  ],\n",
       "       [ 246.85],\n",
       "       [-162.4 ],\n",
       "       [ 206.65],\n",
       "       [-142.5 ],\n",
       "       [   0.  ],\n",
       "       [   0.  ],\n",
       "       [ -33.45],\n",
       "       [   0.  ],\n",
       "       [-391.5 ],\n",
       "       [   5.05],\n",
       "       [-271.4 ],\n",
       "       [   0.  ],\n",
       "       [   0.  ],\n",
       "       [-109.4 ],\n",
       "       [ -61.8 ],\n",
       "       [ -72.95],\n",
       "       [-359.1 ],\n",
       "       [ -25.85],\n",
       "       [   0.  ],\n",
       "       [   0.  ],\n",
       "       [  60.15],\n",
       "       [ 417.  ],\n",
       "       [ -19.  ],\n",
       "       [-430.9 ],\n",
       "       [ 456.75],\n",
       "       [   0.  ],\n",
       "       [   0.  ],\n",
       "       [ -51.45],\n",
       "       [ -89.55],\n",
       "       [ -94.6 ],\n",
       "       [ 144.35],\n",
       "       [ 182.3 ],\n",
       "       [   0.  ],\n",
       "       [   0.  ],\n",
       "       [ 308.95],\n",
       "       [ -76.85],\n",
       "       [ -61.8 ],\n",
       "       [ 105.25],\n",
       "       [ -43.7 ],\n",
       "       [   0.  ],\n",
       "       [   0.  ],\n",
       "       [ -14.75],\n",
       "       [-153.2 ],\n",
       "       [ -60.1 ],\n",
       "       [ 126.  ],\n",
       "       [-276.3 ],\n",
       "       [   0.  ],\n",
       "       [   0.  ],\n",
       "       [-427.4 ],\n",
       "       [ -42.3 ],\n",
       "       [ -39.95],\n",
       "       [-331.55],\n",
       "       [ -67.1 ],\n",
       "       [   0.  ],\n",
       "       [   0.  ],\n",
       "       [  56.65],\n",
       "       [ 288.65],\n",
       "       [-225.5 ],\n",
       "       [ 143.35],\n",
       "       [ 142.6 ],\n",
       "       [   0.  ],\n",
       "       [   0.  ],\n",
       "       [ 132.8 ],\n",
       "       [  18.15],\n",
       "       [ -51.1 ],\n",
       "       [ -18.85],\n",
       "       [ -28.2 ],\n",
       "       [   0.  ],\n",
       "       [   0.  ],\n",
       "       [  83.3 ],\n",
       "       [ -24.5 ],\n",
       "       [ 178.95],\n",
       "       [ 143.1 ],\n",
       "       [  87.7 ],\n",
       "       [   0.  ],\n",
       "       [   0.  ],\n",
       "       [  -4.6 ],\n",
       "       [-157.7 ],\n",
       "       [ -91.65],\n",
       "       [ -28.  ],\n",
       "       [ 110.55],\n",
       "       [   0.  ],\n",
       "       [   0.  ],\n",
       "       [ 229.3 ],\n",
       "       [  62.05],\n",
       "       [ 180.3 ],\n",
       "       [  84.4 ],\n",
       "       [ 114.2 ],\n",
       "       [   0.  ],\n",
       "       [   0.  ],\n",
       "       [ -88.45],\n",
       "       [-147.15],\n",
       "       [ 158.6 ],\n",
       "       [ 287.8 ],\n",
       "       [ 228.65],\n",
       "       [   0.  ],\n",
       "       [   0.  ],\n",
       "       [ 181.8 ],\n",
       "       [   5.4 ],\n",
       "       [  42.7 ],\n",
       "       [  -6.15],\n",
       "       [  15.5 ],\n",
       "       [   0.  ],\n",
       "       [   0.  ],\n",
       "       [ 127.6 ],\n",
       "       [   0.  ],\n",
       "       [   9.65],\n",
       "       [ 124.25],\n",
       "       [  39.15],\n",
       "       [   0.  ],\n",
       "       [   0.  ],\n",
       "       [   0.  ],\n",
       "       [ 127.1 ],\n",
       "       [ 119.  ],\n",
       "       [  12.25],\n",
       "       [-198.05],\n",
       "       [   0.  ],\n",
       "       [   0.  ],\n",
       "       [-267.75],\n",
       "       [  86.8 ],\n",
       "       [  27.45],\n",
       "       [ -82.5 ],\n",
       "       [  36.45],\n",
       "       [   0.  ],\n",
       "       [   0.  ],\n",
       "       [-246.  ],\n",
       "       [ 342.2 ],\n",
       "       [   0.  ],\n",
       "       [-216.5 ],\n",
       "       [  -3.35],\n",
       "       [   0.  ],\n",
       "       [   0.  ],\n",
       "       [ 126.35],\n",
       "       [ -10.2 ],\n",
       "       [ -31.2 ],\n",
       "       [ 174.35],\n",
       "       [  34.6 ],\n",
       "       [   0.  ],\n",
       "       [   0.  ],\n",
       "       [ 103.  ],\n",
       "       [ 133.7 ],\n",
       "       [ -66.3 ],\n",
       "       [-126.35],\n",
       "       [-287.8 ],\n",
       "       [   0.  ],\n",
       "       [   0.  ],\n",
       "       [  91.4 ],\n",
       "       [ 194.  ],\n",
       "       [ -97.9 ],\n",
       "       [ -88.55],\n",
       "       [-302.45],\n",
       "       [   0.  ],\n",
       "       [   0.  ],\n",
       "       [-311.05],\n",
       "       [  -8.9 ],\n",
       "       [-148.8 ],\n",
       "       [ -58.3 ],\n",
       "       [ 279.95],\n",
       "       [   0.  ],\n",
       "       [   0.  ],\n",
       "       [-207.  ],\n",
       "       [ 386.95],\n",
       "       [   0.  ],\n",
       "       [  57.5 ],\n",
       "       [ -17.15],\n",
       "       [   0.  ],\n",
       "       [   0.  ],\n",
       "       [-158.9 ],\n",
       "       [-226.5 ],\n",
       "       [ 140.05],\n",
       "       [-109.25],\n",
       "       [ 171.35],\n",
       "       [   0.  ],\n",
       "       [   0.  ],\n",
       "       [ 126.1 ],\n",
       "       [ 175.15],\n",
       "       [  25.3 ],\n",
       "       [  51.7 ],\n",
       "       [  12.35],\n",
       "       [   0.  ],\n",
       "       [   0.  ],\n",
       "       [ 154.45],\n",
       "       [ -74.4 ],\n",
       "       [   0.  ],\n",
       "       [  80.6 ],\n",
       "       [  49.85],\n",
       "       [   0.  ],\n",
       "       [   0.  ],\n",
       "       [ 225.4 ],\n",
       "       [ 133.2 ],\n",
       "       [ -62.55],\n",
       "       [ -30.15],\n",
       "       [  64.45],\n",
       "       [   0.  ],\n",
       "       [   0.  ],\n",
       "       [  85.65],\n",
       "       [   0.  ],\n",
       "       [ -45.8 ],\n",
       "       [-128.8 ],\n",
       "       [ 321.5 ],\n",
       "       [   0.  ],\n",
       "       [   0.  ]])"
      ]
     },
     "execution_count": 25,
     "metadata": {},
     "output_type": "execute_result"
    }
   ],
   "source": [
    "X"
   ]
  },
  {
   "cell_type": "code",
   "execution_count": 26,
   "id": "7fe0b6fa",
   "metadata": {},
   "outputs": [
    {
     "data": {
      "text/plain": [
       "array([  0.    ,   0.    ,   3.44  ,   0.21  ,   2.08  ,  -0.73  ,\n",
       "         0.99  ,   0.    ,   0.    ,   3.38  ,   0.45  ,   1.55  ,\n",
       "         1.9   ,   2.15  ,   0.    ,   0.    ,   0.56  ,  -4.94  ,\n",
       "        -0.95  ,  -0.54  ,  -3.61  ,   0.    ,   0.    , -10.07  ,\n",
       "         4.53  ,   0.    ,  -1.22  ,   0.91  ,   0.    ,   0.    ,\n",
       "         2.49  ,   4.44  ,   3.34  ,  -0.58  ,   0.03  ,   0.    ,\n",
       "         0.    ,  -2.19  ,  -1.95  ,   3.06  ,   1.11  ,  -3.5   ,\n",
       "         0.    ,   0.    , -11.301 ,   6.72  ,  -0.37  ,  -1.65  ,\n",
       "        -1.62  ,   0.    ,   0.    ,  -4.89  ,  -3.34  ,   1.07  ,\n",
       "       -13.71  ,   8.32  ,   0.    ,   0.    ,   3.04  ,   0.    ,\n",
       "        -0.76  ,   0.32  ,  -4.57  ,   0.    ,   0.    ,  -4.89  ,\n",
       "         2.77  ,   5.26  ,   2.56  ,   0.69  ,   0.    ,   0.    ,\n",
       "         1.17  ,  -2.31  ,   4.32  ,   3.68  ,   0.    ,   0.    ,\n",
       "         0.    ,  -0.25  ,   1.67  ,  -0.32  ,   4.34  ,   0.38  ,\n",
       "         0.    ,   0.    ,   1.01  ,   3.25  ,   1.74  ,   0.8   ,\n",
       "         3.34  ,   0.    ,   0.    ,   3.54  ,   0.28  ,   0.77  ,\n",
       "        -1.69  ,   4.58  ,   0.    ,   0.    ,   1.01  ,  -3.97  ,\n",
       "         1.    ,   0.    ,   0.    ,   0.    ,   0.    ,  -1.76  ,\n",
       "        -2.95  ,   0.26  ,   4.24  ,  -3.32  ,   0.    ,   0.    ,\n",
       "        -5.83  ,   5.62  ,  -1.57  ,   0.72  ,  -2.61  ,   0.    ,\n",
       "         0.    ,  -0.15  ,   0.    ,  -8.37  ,   1.69  ,  -1.98  ,\n",
       "         0.    ,   0.    ,  -4.35  ,  -5.803 ,  -3.91  ,  -4.74  ,\n",
       "        -0.18  ,   0.    ,   0.    ,   3.34  ,   8.35  ,   0.55  ,\n",
       "        -5.1333,   7.12  ,   0.    ,   0.    ,  -1.99  ,  -2.868 ,\n",
       "        -4.34  ,   2.64  ,   1.54  ,   0.    ,   0.    ,   4.66  ,\n",
       "         0.21  ,  -0.13  ,   2.2   ,  -2.42  ,   0.    ,   0.    ,\n",
       "        -0.5   ,  -1.5385,  -0.9   ,   1.16  ,  -1.8   ,   0.    ,\n",
       "         0.    ,  -8.01  ,   0.74  ,   0.09  ,  -6.69  ,  -1.45  ,\n",
       "         0.    ,   0.    ,  -4.46  ,   6.51  ,  -4.47  ,   2.29  ,\n",
       "         3.53  ,   0.    ,   0.    ,   2.79  ,   1.3   ,  -0.27  ,\n",
       "        -1.25  ,  -0.33  ,   0.    ,   0.    ,   1.64  ,  -0.65  ,\n",
       "         1.69  ,   2.96  ,   1.52  ,   0.    ,   0.    ,   2.23  ,\n",
       "        -1.02  ,  -0.67  ,  -0.54  ,   1.4   ,   0.    ,   0.    ,\n",
       "         3.69  ,   0.99  ,   1.23  ,   2.62  ,   1.01  ,   0.    ,\n",
       "         0.    ,  -0.0691,  -1.62  ,   2.64  ,   1.18  ,   1.91  ,\n",
       "         0.    ,   0.    ,   4.03  ,   0.19  ,  -0.5   ,  -1.1   ,\n",
       "         1.33  ,   0.    ,   0.    ,   2.4   ,   0.    ,  -0.49  ,\n",
       "         1.37  ,   1.14  ,   0.    ,   0.    ,   0.    ,   2.17  ,\n",
       "         1.8   ,   1.09  ,  -0.54  ,   0.    ,   0.    ,  -4.88  ,\n",
       "         1.83  ,   2.09  ,  -1.48  ,   2.22  ,   0.    ,   0.    ,\n",
       "        -1.65  ,   4.57  ,   0.    ,  -0.3761,   2.41  ,   0.    ,\n",
       "         0.    ,   2.84  ,   0.47  ,   1.84  ,   2.49  ,   0.44  ,\n",
       "         0.    ,   0.    ,   2.49  ,   1.88  ,   3.32  ,   1.28  ,\n",
       "        -7.4   ,   0.    ,   0.    ,   3.36  ,   3.14  ,  -2.87  ,\n",
       "         0.3   ,  -4.56  ,   0.    ,   0.    ,  -8.99  ,  -0.62  ,\n",
       "        -3.36  ,   1.07  ,   3.53  ,   0.    ,   0.    ,  -5.37  ,\n",
       "         5.96  ,   0.    ,   3.13  ,   0.38  ,   0.    ,   0.    ,\n",
       "        -1.55  ,  -4.84  ,   2.19  ,  -2.72  ,   1.05  ,   0.    ,\n",
       "         0.    ,   3.19  ,   2.93  ,   1.0215,   1.58  ,  -1.54  ,\n",
       "         0.    ,   0.    ,   0.    ,   1.79  ,   0.    ,   2.    ,\n",
       "        -0.22  ,   0.    ,   0.    ,   2.    ,   1.68  ,  -0.23  ,\n",
       "        -0.1   ,   2.27  ,   0.    ,   0.    ,   1.63  ,   0.    ,\n",
       "         1.02  ,  -3.24  ,   0.54  ,   0.    ,   0.    ])"
      ]
     },
     "execution_count": 26,
     "metadata": {},
     "output_type": "execute_result"
    }
   ],
   "source": [
    "y"
   ]
  },
  {
   "cell_type": "code",
   "execution_count": 27,
   "id": "6d2aa369",
   "metadata": {},
   "outputs": [],
   "source": [
    "### Splitting the dataset (Training and Testing)"
   ]
  },
  {
   "cell_type": "code",
   "execution_count": 28,
   "id": "7e29c018",
   "metadata": {},
   "outputs": [],
   "source": [
    "from sklearn.model_selection import train_test_split\n",
    "X_train, X_test, y_train,y_test =train_test_split(X,y,test_size=1/3, random_state=0)"
   ]
  },
  {
   "cell_type": "code",
   "execution_count": 29,
   "id": "6e8af263",
   "metadata": {},
   "outputs": [
    {
     "data": {
      "text/plain": [
       "array([[  49.85],\n",
       "       [   0.  ],\n",
       "       [ -14.75],\n",
       "       [   5.4 ],\n",
       "       [   0.  ],\n",
       "       [ -54.65],\n",
       "       [   0.  ],\n",
       "       [   0.  ],\n",
       "       [-331.55],\n",
       "       [   0.  ],\n",
       "       [   0.  ],\n",
       "       [  -4.6 ],\n",
       "       [   0.  ],\n",
       "       [   0.  ],\n",
       "       [-531.95],\n",
       "       [  36.45],\n",
       "       [ -60.1 ],\n",
       "       [   0.  ],\n",
       "       [ -19.  ],\n",
       "       [ 127.6 ],\n",
       "       [-220.65],\n",
       "       [   0.  ],\n",
       "       [   0.  ],\n",
       "       [   0.  ],\n",
       "       [-174.65],\n",
       "       [   0.  ],\n",
       "       [-169.45],\n",
       "       [   0.  ],\n",
       "       [ 229.3 ],\n",
       "       [   0.  ],\n",
       "       [ 133.2 ],\n",
       "       [ -51.45],\n",
       "       [-207.  ],\n",
       "       [ -69.75],\n",
       "       [ -82.5 ],\n",
       "       [-142.5 ],\n",
       "       [   0.  ],\n",
       "       [ 154.45],\n",
       "       [ 258.55],\n",
       "       [  52.35],\n",
       "       [ 311.7 ],\n",
       "       [ 177.9 ],\n",
       "       [ 181.8 ],\n",
       "       [-226.5 ],\n",
       "       [ 456.75],\n",
       "       [ 120.6 ],\n",
       "       [-168.1 ],\n",
       "       [   0.  ],\n",
       "       [-107.9 ],\n",
       "       [ 331.9 ],\n",
       "       [   0.  ],\n",
       "       [-276.3 ],\n",
       "       [ 119.  ],\n",
       "       [   0.  ],\n",
       "       [   0.  ],\n",
       "       [ 142.05],\n",
       "       [  42.7 ],\n",
       "       [  -2.05],\n",
       "       [-302.  ],\n",
       "       [   0.  ],\n",
       "       [ 179.55],\n",
       "       [ -28.2 ],\n",
       "       [-271.4 ],\n",
       "       [ 128.85],\n",
       "       [ 237.9 ],\n",
       "       [   0.  ],\n",
       "       [  12.35],\n",
       "       [  15.5 ],\n",
       "       [ -28.  ],\n",
       "       [-181.4 ],\n",
       "       [-148.8 ],\n",
       "       [ 279.95],\n",
       "       [   0.  ],\n",
       "       [ 197.9 ],\n",
       "       [ -69.65],\n",
       "       [ 271.65],\n",
       "       [ 156.6 ],\n",
       "       [   0.  ],\n",
       "       [   0.  ],\n",
       "       [  60.75],\n",
       "       [  52.45],\n",
       "       [ 124.25],\n",
       "       [ 135.5 ],\n",
       "       [-231.1 ],\n",
       "       [   0.  ],\n",
       "       [   0.  ],\n",
       "       [   0.  ],\n",
       "       [  64.45],\n",
       "       [  80.6 ],\n",
       "       [ 194.  ],\n",
       "       [   0.  ],\n",
       "       [-391.5 ],\n",
       "       [-198.05],\n",
       "       [-252.7 ],\n",
       "       [   0.  ],\n",
       "       [-287.8 ],\n",
       "       [ -72.95],\n",
       "       [ 143.1 ],\n",
       "       [   0.  ],\n",
       "       [   0.  ],\n",
       "       [-246.  ],\n",
       "       [   0.  ],\n",
       "       [-218.  ],\n",
       "       [-430.9 ],\n",
       "       [   0.  ],\n",
       "       [ -45.8 ],\n",
       "       [  84.4 ],\n",
       "       [ 308.95],\n",
       "       [   0.  ],\n",
       "       [ -88.45],\n",
       "       [   0.  ],\n",
       "       [   0.  ],\n",
       "       [ -31.2 ],\n",
       "       [ 382.95],\n",
       "       [  86.8 ],\n",
       "       [   0.  ],\n",
       "       [   0.  ],\n",
       "       [  18.15],\n",
       "       [   0.  ],\n",
       "       [   0.  ],\n",
       "       [ -96.  ],\n",
       "       [  25.3 ],\n",
       "       [-149.75],\n",
       "       [-128.8 ],\n",
       "       [ 386.95],\n",
       "       [   0.  ],\n",
       "       [  35.55],\n",
       "       [   0.  ],\n",
       "       [ -28.3 ],\n",
       "       [   0.  ],\n",
       "       [ 321.5 ],\n",
       "       [   0.  ],\n",
       "       [ 158.6 ],\n",
       "       [-468.05],\n",
       "       [ 178.95],\n",
       "       [ 127.1 ],\n",
       "       [   0.  ],\n",
       "       [ -89.55],\n",
       "       [   0.  ],\n",
       "       [   0.  ],\n",
       "       [ -18.85],\n",
       "       [-109.4 ],\n",
       "       [   0.  ],\n",
       "       [-359.1 ],\n",
       "       [  -8.9 ],\n",
       "       [-158.9 ],\n",
       "       [   0.  ],\n",
       "       [   0.  ],\n",
       "       [  66.8 ],\n",
       "       [ 249.55],\n",
       "       [   0.  ],\n",
       "       [   0.  ],\n",
       "       [ -33.45],\n",
       "       [ -58.3 ],\n",
       "       [ 175.15],\n",
       "       [   0.  ],\n",
       "       [ -22.9 ],\n",
       "       [   0.  ],\n",
       "       [   0.  ],\n",
       "       [-126.35],\n",
       "       [   0.  ],\n",
       "       [   0.  ],\n",
       "       [   0.  ],\n",
       "       [  57.5 ],\n",
       "       [  53.15],\n",
       "       [ -28.95],\n",
       "       [   0.  ],\n",
       "       [-109.4 ],\n",
       "       [   0.  ],\n",
       "       [   0.  ],\n",
       "       [-427.4 ],\n",
       "       [ -61.8 ],\n",
       "       [  -3.35],\n",
       "       [ 114.2 ],\n",
       "       [ 237.  ],\n",
       "       [ 203.15],\n",
       "       [   0.  ],\n",
       "       [ -24.5 ],\n",
       "       [   0.  ],\n",
       "       [ 171.35],\n",
       "       [   0.  ],\n",
       "       [-109.25],\n",
       "       [ -30.15],\n",
       "       [ 132.8 ],\n",
       "       [   0.  ],\n",
       "       [   0.  ],\n",
       "       [-216.5 ],\n",
       "       [ 246.85],\n",
       "       [-302.45],\n",
       "       [ 240.85],\n",
       "       [   0.  ],\n",
       "       [ -39.95],\n",
       "       [ 225.4 ],\n",
       "       [ 142.6 ],\n",
       "       [ -62.55],\n",
       "       [ 197.05],\n",
       "       [ -91.65],\n",
       "       [ 172.95],\n",
       "       [   0.  ],\n",
       "       [ 103.3 ],\n",
       "       [  51.7 ],\n",
       "       [   0.  ],\n",
       "       [   0.  ],\n",
       "       [   0.  ],\n",
       "       [ 190.6 ],\n",
       "       [ 110.55],\n",
       "       [  34.6 ],\n",
       "       [-157.7 ],\n",
       "       [ 206.65],\n",
       "       [ -17.6 ],\n",
       "       [-225.5 ]])"
      ]
     },
     "execution_count": 29,
     "metadata": {},
     "output_type": "execute_result"
    }
   ],
   "source": [
    "X_train"
   ]
  },
  {
   "cell_type": "code",
   "execution_count": 30,
   "id": "fb053609",
   "metadata": {},
   "outputs": [],
   "source": [
    "### Training the Simple Regression Model"
   ]
  },
  {
   "cell_type": "code",
   "execution_count": 31,
   "id": "19cb9280",
   "metadata": {},
   "outputs": [
    {
     "data": {
      "text/html": [
       "<style>#sk-container-id-1 {color: black;background-color: white;}#sk-container-id-1 pre{padding: 0;}#sk-container-id-1 div.sk-toggleable {background-color: white;}#sk-container-id-1 label.sk-toggleable__label {cursor: pointer;display: block;width: 100%;margin-bottom: 0;padding: 0.3em;box-sizing: border-box;text-align: center;}#sk-container-id-1 label.sk-toggleable__label-arrow:before {content: \"▸\";float: left;margin-right: 0.25em;color: #696969;}#sk-container-id-1 label.sk-toggleable__label-arrow:hover:before {color: black;}#sk-container-id-1 div.sk-estimator:hover label.sk-toggleable__label-arrow:before {color: black;}#sk-container-id-1 div.sk-toggleable__content {max-height: 0;max-width: 0;overflow: hidden;text-align: left;background-color: #f0f8ff;}#sk-container-id-1 div.sk-toggleable__content pre {margin: 0.2em;color: black;border-radius: 0.25em;background-color: #f0f8ff;}#sk-container-id-1 input.sk-toggleable__control:checked~div.sk-toggleable__content {max-height: 200px;max-width: 100%;overflow: auto;}#sk-container-id-1 input.sk-toggleable__control:checked~label.sk-toggleable__label-arrow:before {content: \"▾\";}#sk-container-id-1 div.sk-estimator input.sk-toggleable__control:checked~label.sk-toggleable__label {background-color: #d4ebff;}#sk-container-id-1 div.sk-label input.sk-toggleable__control:checked~label.sk-toggleable__label {background-color: #d4ebff;}#sk-container-id-1 input.sk-hidden--visually {border: 0;clip: rect(1px 1px 1px 1px);clip: rect(1px, 1px, 1px, 1px);height: 1px;margin: -1px;overflow: hidden;padding: 0;position: absolute;width: 1px;}#sk-container-id-1 div.sk-estimator {font-family: monospace;background-color: #f0f8ff;border: 1px dotted black;border-radius: 0.25em;box-sizing: border-box;margin-bottom: 0.5em;}#sk-container-id-1 div.sk-estimator:hover {background-color: #d4ebff;}#sk-container-id-1 div.sk-parallel-item::after {content: \"\";width: 100%;border-bottom: 1px solid gray;flex-grow: 1;}#sk-container-id-1 div.sk-label:hover label.sk-toggleable__label {background-color: #d4ebff;}#sk-container-id-1 div.sk-serial::before {content: \"\";position: absolute;border-left: 1px solid gray;box-sizing: border-box;top: 0;bottom: 0;left: 50%;z-index: 0;}#sk-container-id-1 div.sk-serial {display: flex;flex-direction: column;align-items: center;background-color: white;padding-right: 0.2em;padding-left: 0.2em;position: relative;}#sk-container-id-1 div.sk-item {position: relative;z-index: 1;}#sk-container-id-1 div.sk-parallel {display: flex;align-items: stretch;justify-content: center;background-color: white;position: relative;}#sk-container-id-1 div.sk-item::before, #sk-container-id-1 div.sk-parallel-item::before {content: \"\";position: absolute;border-left: 1px solid gray;box-sizing: border-box;top: 0;bottom: 0;left: 50%;z-index: -1;}#sk-container-id-1 div.sk-parallel-item {display: flex;flex-direction: column;z-index: 1;position: relative;background-color: white;}#sk-container-id-1 div.sk-parallel-item:first-child::after {align-self: flex-end;width: 50%;}#sk-container-id-1 div.sk-parallel-item:last-child::after {align-self: flex-start;width: 50%;}#sk-container-id-1 div.sk-parallel-item:only-child::after {width: 0;}#sk-container-id-1 div.sk-dashed-wrapped {border: 1px dashed gray;margin: 0 0.4em 0.5em 0.4em;box-sizing: border-box;padding-bottom: 0.4em;background-color: white;}#sk-container-id-1 div.sk-label label {font-family: monospace;font-weight: bold;display: inline-block;line-height: 1.2em;}#sk-container-id-1 div.sk-label-container {text-align: center;}#sk-container-id-1 div.sk-container {/* jupyter's `normalize.less` sets `[hidden] { display: none; }` but bootstrap.min.css set `[hidden] { display: none !important; }` so we also need the `!important` here to be able to override the default hidden behavior on the sphinx rendered scikit-learn.org. See: https://github.com/scikit-learn/scikit-learn/issues/21755 */display: inline-block !important;position: relative;}#sk-container-id-1 div.sk-text-repr-fallback {display: none;}</style><div id=\"sk-container-id-1\" class=\"sk-top-container\"><div class=\"sk-text-repr-fallback\"><pre>LinearRegression()</pre><b>In a Jupyter environment, please rerun this cell to show the HTML representation or trust the notebook. <br />On GitHub, the HTML representation is unable to render, please try loading this page with nbviewer.org.</b></div><div class=\"sk-container\" hidden><div class=\"sk-item\"><div class=\"sk-estimator sk-toggleable\"><input class=\"sk-toggleable__control sk-hidden--visually\" id=\"sk-estimator-id-1\" type=\"checkbox\" checked><label for=\"sk-estimator-id-1\" class=\"sk-toggleable__label sk-toggleable__label-arrow\">LinearRegression</label><div class=\"sk-toggleable__content\"><pre>LinearRegression()</pre></div></div></div></div></div>"
      ],
      "text/plain": [
       "LinearRegression()"
      ]
     },
     "execution_count": 31,
     "metadata": {},
     "output_type": "execute_result"
    }
   ],
   "source": [
    "from sklearn.linear_model import LinearRegression\n",
    "reg=LinearRegression()\n",
    "reg.fit(X_train, y_train)"
   ]
  },
  {
   "cell_type": "code",
   "execution_count": 32,
   "id": "e0864df2",
   "metadata": {},
   "outputs": [],
   "source": [
    "### Prediction of Testing dataset"
   ]
  },
  {
   "cell_type": "code",
   "execution_count": 33,
   "id": "8d03e427",
   "metadata": {},
   "outputs": [],
   "source": [
    "y_pred=reg.predict(X_test)"
   ]
  },
  {
   "cell_type": "code",
   "execution_count": 34,
   "id": "59e257b2",
   "metadata": {},
   "outputs": [
    {
     "data": {
      "text/plain": [
       "array([  0.04985131,   2.55843308,   5.95548589,   1.97355296,\n",
       "         0.04985131,  -0.95516411,  -2.28679154,   0.12251169,\n",
       "         0.04985131,   0.04985131,  -0.68538545,   1.86779973,\n",
       "         0.04985131,   0.04985131,   0.04985131,   3.33971206,\n",
       "        -0.55876934,   2.67281923,  -0.57891281,   4.54400397,\n",
       "        -2.36448779,   1.86276386,   2.64404284,  -3.80258787,\n",
       "        -0.03863609,   1.53183538,   0.04985131,   0.04985131,\n",
       "        -2.65440992,  -4.42559671,   0.04985131,   0.04985131,\n",
       "         4.20300376,  -1.5968776 ,   0.70379476,   1.311696  ,\n",
       "         2.13326192,  -1.02063039,   2.11239904,  -1.22422335,\n",
       "        -0.19690624,  -5.44931677,   0.04985131,   0.86494255,\n",
       "         1.36493232,   6.04972857,   0.18869739,   0.04985131,\n",
       "         0.9426388 ,   0.04985131,  -2.15442015,   0.44480726,\n",
       "         0.04985131,  -2.7565661 ,   4.97349159,   0.04985131,\n",
       "         2.12678724,  -1.35875297,   0.04985131,   2.212397  ,\n",
       "         0.04985131,   0.04985131,  -0.90408601,  -0.83933914,\n",
       "        -2.53110309,  -3.11267393,   0.04985131,  -0.58179045,\n",
       "         0.04985131,  -3.04361059,   0.04985131,   7.38711128,\n",
       "         1.56420882,  -2.03140108,   0.04985131,   0.91530123,\n",
       "        -0.32208353,   0.22610669,   3.00950299,   4.19077379,\n",
       "         0.04985131,   0.04985131,  -2.94720968,   1.2822002 ,\n",
       "         0.04985131,  -1.31127193,   0.04985131,   0.04985131,\n",
       "         0.04985131,  -1.96233775,  -0.38539159,   0.04985131,\n",
       "         0.04985131,  -0.09690828,  -0.43215322,  -1.05588147,\n",
       "        -0.06813189,  -0.91559657,   0.04985131,  -4.30545528,\n",
       "       -11.68084397,  -2.06737157,   2.064918  ,   1.86420268,\n",
       "         0.61314914,   1.24838794])"
      ]
     },
     "execution_count": 34,
     "metadata": {},
     "output_type": "execute_result"
    }
   ],
   "source": [
    "y_pred"
   ]
  },
  {
   "cell_type": "code",
   "execution_count": 35,
   "id": "299c6927",
   "metadata": {},
   "outputs": [],
   "source": [
    "### Visualising the results"
   ]
  },
  {
   "cell_type": "code",
   "execution_count": 36,
   "id": "453fc2ca",
   "metadata": {},
   "outputs": [
    {
     "data": {
      "text/plain": [
       "[<matplotlib.lines.Line2D at 0x26fd612d0c0>]"
      ]
     },
     "execution_count": 36,
     "metadata": {},
     "output_type": "execute_result"
    },
    {
     "data": {
      "image/png": "[encoded data removed]",
      "text/plain": [
       "<Figure size 432x288 with 1 Axes>"
      ]
     },
     "metadata": {
      "needs_background": "light"
     },
     "output_type": "display_data"
    }
   ],
   "source": [
    "plt.scatter(X_train,y_train,color='red')\n",
    "plt.plot(X_train, reg.predict(X_train), color='blue')"
   ]
  },
  {
   "cell_type": "code",
   "execution_count": 37,
   "id": "3318474c",
   "metadata": {},
   "outputs": [
    {
     "data": {
      "text/plain": [
       "[<matplotlib.lines.Line2D at 0x26fd82422c0>]"
      ]
     },
     "execution_count": 37,
     "metadata": {},
     "output_type": "execute_result"
    },
    {
     "data": {
      "image/png": "[encoded data removed]",
      "text/plain": [
       "<Figure size 432x288 with 1 Axes>"
      ]
     },
     "metadata": {
      "needs_background": "light"
     },
     "output_type": "display_data"
    }
   ],
   "source": [
    "plt.scatter(X_test,y_test,color='red')\n",
    "plt.plot(X_train, reg.predict(X_train), color='blue')"
   ]
  },
  {
   "cell_type": "code",
   "execution_count": 38,
   "id": "03643e1f",
   "metadata": {},
   "outputs": [],
   "source": [
    "#Coefficient\n",
    "b=reg.coef_"
   ]
  },
  {
   "cell_type": "code",
   "execution_count": 39,
   "id": "a15a2f41",
   "metadata": {},
   "outputs": [
    {
     "data": {
      "text/plain": [
       "array([0.01438819])"
      ]
     },
     "execution_count": 39,
     "metadata": {},
     "output_type": "execute_result"
    }
   ],
   "source": [
    "b"
   ]
  },
  {
   "cell_type": "code",
   "execution_count": 40,
   "id": "ff2eb118",
   "metadata": {},
   "outputs": [],
   "source": [
    "#Intercept\n",
    "a=reg.intercept_"
   ]
  },
  {
   "cell_type": "code",
   "execution_count": 41,
   "id": "f04ca8f0",
   "metadata": {},
   "outputs": [
    {
     "data": {
      "text/plain": [
       "0.04985130630414613"
      ]
     },
     "execution_count": 41,
     "metadata": {},
     "output_type": "execute_result"
    }
   ],
   "source": [
    "a"
   ]
  },
  {
   "cell_type": "code",
   "execution_count": 46,
   "id": "13760d9a",
   "metadata": {},
   "outputs": [
    {
     "data": {
      "text/plain": [
       "array([1.48867079])"
      ]
     },
     "execution_count": 46,
     "metadata": {},
     "output_type": "execute_result"
    }
   ],
   "source": [
    "reg.predict([[100]])"
   ]
  },
  {
   "cell_type": "code",
   "execution_count": 47,
   "id": "76dbcd62",
   "metadata": {},
   "outputs": [
    {
     "data": {
      "text/plain": [
       "array([-1.38896818])"
      ]
     },
     "execution_count": 47,
     "metadata": {},
     "output_type": "execute_result"
    }
   ],
   "source": [
    "reg.predict([[-100]])"
   ]
  },
  {
   "cell_type": "code",
   "execution_count": null,
   "id": "9fe1dc85",
   "metadata": {},
   "outputs": [],
   "source": []
  }
 ],
 "metadata": {
  "kernelspec": {
   "display_name": "Python 3 (ipykernel)",
   "language": "python",
   "name": "python3"
  },
  "language_info": {
   "codemirror_mode": {
    "name": "ipython",
    "version": 3
   },
   "file_extension": ".py",
   "mimetype": "text/x-python",
   "name": "python",
   "nbconvert_exporter": "python",
   "pygments_lexer": "ipython3",
   "version": "3.10.5"
  }
 },
 "nbformat": 4,
 "nbformat_minor": 5
}
