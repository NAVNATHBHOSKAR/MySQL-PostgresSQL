{
 "cells": [
  {
   "cell_type": "markdown",
   "id": "da82e65f",
   "metadata": {},
   "source": [
    "## Axis Long Term Equity Direct Plan Growth Analysis 2022"
   ]
  },
  {
   "cell_type": "code",
   "execution_count": null,
   "id": "b943a284",
   "metadata": {},
   "outputs": [],
   "source": [
    "Investment = 14000.00\n",
    "Units = 192.670\n",
    "Avg_Purchase_NAV = 72.6631\n",
    "\n",
    "print(\"Investment : \",Investment)\n",
    "print(\"Units : \",Units)\n",
    "print(\"Avg Purchase NAV : \",Avg_Purchase_NAV)"
   ]
  },
  {
   "cell_type": "code",
   "execution_count": null,
   "id": "5b11a917",
   "metadata": {},
   "outputs": [],
   "source": [
    "def Fund_Information():\n",
    "    print('''\n",
    "    Axis Long Term Direct-Growth\n",
    "    Fund Type : Open-End\n",
    "    Plan - Growth\n",
    "    Scheme Asset Size - 28864.74 Cr\n",
    "    Expense Ratio - 0.79%\n",
    "    As on date - 31 Jan 2022\n",
    "    ''')\n",
    "Fund_Information()"
   ]
  },
  {
   "cell_type": "code",
   "execution_count": null,
   "id": "a3ddfe26",
   "metadata": {},
   "outputs": [],
   "source": [
    "import plotly.graph_objects as go\n",
    "\n",
    "labels = ['Services','Chemicals','Healthcare','Technology','Automobile','Others']\n",
    "values = [16,9,8,8,7,50]\n",
    "#title=\"Shareholding pattern March 2022\"\n",
    "\n",
    "fig = go.Figure(data=[go.Pie(labels=labels, values=values)])\n",
    "fig.update_layout(\n",
    "    title_font_family=\"Times New Roman\",\n",
    "    title_font_color=\"black\"\n",
    ")\n",
    "\n",
    "fig.update_layout(title_text='Axis Long Term Equity Direct Plan')\n",
    "annotations = []\n",
    "# Source\n",
    "annotations.append(dict(xref='paper', yref='paper', x=0.5, y=-0.1,\n",
    "                              xanchor='center', yanchor='top',\n",
    "                              text='Scheme Holding Sectors As on date 30 Sep 2022',\n",
    "                              font=dict(family='Arial',\n",
    "                                        size=16,\n",
    "                                        color='rgb(20, 20, 19)'),\n",
    "                              showarrow=False))\n",
    "\n",
    "fig.update_layout(annotations=annotations)\n",
    "fig.show()"
   ]
  },
  {
   "cell_type": "code",
   "execution_count": null,
   "id": "f8949248",
   "metadata": {},
   "outputs": [],
   "source": [
    "import plotly.graph_objects as go\n",
    "\n",
    "labels = ['Financial','Services','Chemicals','Technology','Healthcare','Others']\n",
    "values = [33,16,9,8,7,24]\n",
    "#title=\"Shareholding pattern March 2022\"\n",
    "\n",
    "fig = go.Figure(data=[go.Pie(labels=labels, values=values)])\n",
    "fig.update_layout(\n",
    "    title_font_family=\"Times New Roman\",\n",
    "    title_font_color=\"black\"\n",
    ")\n",
    "\n",
    "fig.update_layout(title_text='Axis Long Term Equity Direct Plan')\n",
    "annotations = []\n",
    "# Source\n",
    "annotations.append(dict(xref='paper', yref='paper', x=0.5, y=-0.1,\n",
    "                              xanchor='center', yanchor='top',\n",
    "                              text='Scheme Holding Sectors As on date 31 Oct 2022',\n",
    "                              font=dict(family='Arial',\n",
    "                                        size=16,\n",
    "                                        color='rgb(20, 20, 19)'),\n",
    "                              showarrow=False))\n",
    "\n",
    "fig.update_layout(annotations=annotations)\n",
    "\n",
    "fig.show()"
   ]
  },
  {
   "cell_type": "code",
   "execution_count": null,
   "id": "81b2d82d",
   "metadata": {},
   "outputs": [],
   "source": [
    "import plotly.graph_objects as go\n",
    "\n",
    "labels = ['Financial','Services','Chemicals','Technology','Healthcare','Others']\n",
    "values = [33,16,9,9,7,22]\n",
    "\n",
    "#title=\"Shareholding pattern March 2022\n",
    "\n",
    "fig = go.Figure(data=[go.Pie(labels=labels, values=values)])\n",
    "fig.update_layout(\n",
    "    title_font_family=\"Times New Roman\",\n",
    "    title_font_color=\"black\"\n",
    ")\n",
    "\n",
    "fig.update_layout(title_text='Scheme Holding Sectors As on date 31 Dec 2022')\n",
    "annotations = []\n",
    "# Source\n",
    "annotations.append(dict(xref='paper', yref='paper', x=0.5, y=-0.1,\n",
    "                              xanchor='center', yanchor='top',\n",
    "                              text='Axis Long Term Equity Direct Plan',\n",
    "                              font=dict(family='Arial',\n",
    "                                        size=16,\n",
    "                                        color='rgb(20, 20, 19)'),\n",
    "                              showarrow=False))\n",
    "\n",
    "fig.update_layout(annotations=annotations)\n",
    "\n",
    "fig.show()"
   ]
  },
  {
   "cell_type": "code",
   "execution_count": null,
   "id": "3aa991f2",
   "metadata": {},
   "outputs": [],
   "source": [
    "import plotly.graph_objects as go\n",
    "\n",
    "labels = ['Financial','Services','Technology','Chemicals','Healthcare','Others']\n",
    "values = [33,15,10,9,7,24]\n",
    "\n",
    "#title=\"Shareholding pattern March 2022\n",
    "\n",
    "fig = go.Figure(data=[go.Pie(labels=labels, values=values)])\n",
    "fig.update_layout(\n",
    "    title_font_family=\"Times New Roman\",\n",
    "    title_font_color=\"black\"\n",
    ")\n",
    "\n",
    "fig.update_layout(title_text='Axis Long Term Equity Direct Plan')\n",
    "annotations = []\n",
    "# Source\n",
    "annotations.append(dict(xref='paper', yref='paper', x=0.5, y=-0.1,\n",
    "                              xanchor='center', yanchor='top',\n",
    "                              text='Scheme Holding Sectors As on date 31 Jan 2022',\n",
    "                              font=dict(family='Arial',\n",
    "                                        size=16,\n",
    "                                        color='rgb(20, 20, 19)'),\n",
    "                              showarrow=False))\n",
    "\n",
    "fig.update_layout(annotations=annotations)\n",
    "\n",
    "fig.show()"
   ]
  },
  {
   "cell_type": "code",
   "execution_count": null,
   "id": "937cb1db",
   "metadata": {},
   "outputs": [],
   "source": [
    "# data manipulaton\n",
    "import pandas as pd\n",
    "import numpy as np\n",
    "from datetime import date\n",
    "\n",
    "# data viz\n",
    "import matplotlib.pyplot as plt\n",
    "from matplotlib import rcParams\n",
    "import seaborn as sns\n",
    "from plotly.subplots import make_subplots\n",
    "\n",
    "# apply some cool styling\n",
    "plt.style.use(\"ggplot\")\n",
    "rcParams['figure.figsize'] = (12,6)"
   ]
  },
  {
   "cell_type": "markdown",
   "id": "11111043",
   "metadata": {},
   "source": [
    "### Import Dataset"
   ]
  },
  {
   "cell_type": "code",
   "execution_count": null,
   "id": "1597ce38",
   "metadata": {},
   "outputs": [],
   "source": [
    "axis=pd.read_csv('Axis NAV.csv')\n",
    "axis"
   ]
  },
  {
   "cell_type": "code",
   "execution_count": null,
   "id": "3f62e50b",
   "metadata": {},
   "outputs": [],
   "source": [
    "axis.head()"
   ]
  },
  {
   "cell_type": "code",
   "execution_count": null,
   "id": "ddf82edc",
   "metadata": {},
   "outputs": [],
   "source": [
    "axis.tail()"
   ]
  },
  {
   "cell_type": "code",
   "execution_count": null,
   "id": "2e0e5870",
   "metadata": {},
   "outputs": [],
   "source": [
    "axis.shape"
   ]
  },
  {
   "cell_type": "code",
   "execution_count": null,
   "id": "cdfc9dba",
   "metadata": {},
   "outputs": [],
   "source": [
    "axis.isna()"
   ]
  },
  {
   "cell_type": "code",
   "execution_count": null,
   "id": "7d0eaa5a",
   "metadata": {},
   "outputs": [],
   "source": [
    "axis=axis.dropna()"
   ]
  },
  {
   "cell_type": "code",
   "execution_count": null,
   "id": "209c091d",
   "metadata": {},
   "outputs": [],
   "source": [
    "axis.shape"
   ]
  },
  {
   "cell_type": "code",
   "execution_count": null,
   "id": "3832dbbd",
   "metadata": {},
   "outputs": [],
   "source": [
    "fig = make_subplots(rows=1, cols=2)\n",
    "\n",
    "fig.add_trace(go.Indicator(\n",
    "    mode=\"number\",\n",
    "    value = axis.shape[0],\n",
    "    number={'font':{'color':'#7b68ee','size':100}},\n",
    "    delta={\"reference\":600},\n",
    "    title={\"text\":\"Rows <br><span style=\" \"'font-size:0.7em;color:gray'>in the data</span>\"},\n",
    "    domain = {'y':[0.7,1],'x':[0,0.5]}\n",
    "))\n",
    "\n",
    "fig.add_trace(go.Indicator(\n",
    "    mode=\"number\",\n",
    "    value = axis.shape[1],\n",
    "    number={'font':{'color':'#7b68ee','size':100}},\n",
    "    delta={\"reference\":600},\n",
    "    title={\"text\":\"Columns <br><span style=\" \"'font-size:0.7em;color:gray'>in the data</span>\"},\n",
    "    domain = {'y':[0,0.3],'x':[0.5,1]}\n",
    "))\n",
    "annotations = []\n",
    "# Source\n",
    "annotations.append(dict(xref='paper', yref='paper', x=0.5, y=-0.1,\n",
    "                              xanchor='center', yanchor='top',\n",
    "                              text='Axis Long Term Equity Direct Plan Dataset',\n",
    "                              font=dict(family='Arial',\n",
    "                                        size=16,\n",
    "                                        color='rgb(20, 20, 19)'),\n",
    "                              showarrow=False))\n",
    "\n",
    "fig.update_layout(annotations=annotations)\n",
    "\n",
    "\n",
    "fig.show()"
   ]
  },
  {
   "cell_type": "code",
   "execution_count": null,
   "id": "de9195d2",
   "metadata": {},
   "outputs": [],
   "source": [
    "# get the info of dataset\n",
    "axis.info()"
   ]
  },
  {
   "cell_type": "code",
   "execution_count": null,
   "id": "629dca77",
   "metadata": {},
   "outputs": [],
   "source": [
    "axis.head(5)"
   ]
  },
  {
   "cell_type": "markdown",
   "id": "60b7a427",
   "metadata": {},
   "source": [
    "#### **Dropping Columns** : To drop columns with respect to their name."
   ]
  },
  {
   "cell_type": "code",
   "execution_count": null,
   "id": "caa1f8c1",
   "metadata": {},
   "outputs": [],
   "source": [
    "# Drop the Timestamp column\n",
    "axis=axis.drop(labels='Timestamp',axis=1)\n",
    "axis.head()"
   ]
  },
  {
   "cell_type": "markdown",
   "id": "e61986f1",
   "metadata": {},
   "source": [
    "#### Rename specific columns"
   ]
  },
  {
   "cell_type": "code",
   "execution_count": null,
   "id": "34108fd6",
   "metadata": {},
   "outputs": [],
   "source": [
    "axis.rename(columns = {'Date':'date','Day':'day','Net Asset Value':'net_asset_value',\n",
    "                    'Net Asset Value Change in ₹':'nav_change','Net Asset Value Change in %':'nav_change_in_percent'},\n",
    "          inplace = True)"
   ]
  },
  {
   "cell_type": "code",
   "execution_count": null,
   "id": "de0f3099",
   "metadata": {},
   "outputs": [],
   "source": [
    "axis.head(3)"
   ]
  },
  {
   "cell_type": "code",
   "execution_count": null,
   "id": "d39b45b8",
   "metadata": {},
   "outputs": [],
   "source": [
    "#describe():To check the basic description of a datafrme.\n",
    "axis.describe()"
   ]
  },
  {
   "cell_type": "code",
   "execution_count": null,
   "id": "3b5e60ea",
   "metadata": {},
   "outputs": [],
   "source": [
    "axis['day'].value_counts()"
   ]
  },
  {
   "cell_type": "code",
   "execution_count": null,
   "id": "026db936",
   "metadata": {},
   "outputs": [],
   "source": [
    "# settings to display all columns\n",
    "pd.set_option(\"display.max_columns\", None)\n",
    "pd.set_option(\"display.max_rows\", None)"
   ]
  },
  {
   "cell_type": "code",
   "execution_count": null,
   "id": "7b7411d4",
   "metadata": {},
   "outputs": [],
   "source": [
    "axis.head()"
   ]
  },
  {
   "cell_type": "markdown",
   "id": "71a98f92",
   "metadata": {},
   "source": [
    "#### Axis Overview"
   ]
  },
  {
   "cell_type": "code",
   "execution_count": null,
   "id": "477b8852",
   "metadata": {},
   "outputs": [],
   "source": [
    "# Import Libraries\n",
    "import matplotlib.pyplot as plt\n",
    "\n",
    "# Create figure\n",
    "fig = plt.figure()\n",
    "\n",
    "# Figure size\n",
    "fig.set_size_inches(16,8)\n",
    "\n",
    "x=axis[\"date\"]\n",
    "y=axis[\"net_asset_value\"]\n",
    "plt.plot(x,y,color='royalblue',linestyle='solid',label=\"Axis\")#marker='o'dashed\n",
    "#'solid', 'dashed', 'dashdot', 'dotted'\n",
    "plt.xlabel(\"Dates\")\n",
    "plt.ylabel(\"NAV Changes\")\n",
    "plt.title('Axis Overview',fontsize=20)\n",
    "plt.grid()\n",
    "plt.legend()\n",
    "plt.show()"
   ]
  },
  {
   "cell_type": "code",
   "execution_count": null,
   "id": "7fe7b1a0",
   "metadata": {},
   "outputs": [],
   "source": [
    "axis['day'].value_counts()"
   ]
  },
  {
   "cell_type": "markdown",
   "id": "673e5382",
   "metadata": {},
   "source": [
    "#### 52 Week High"
   ]
  },
  {
   "cell_type": "code",
   "execution_count": null,
   "id": "5894a386",
   "metadata": {},
   "outputs": [],
   "source": [
    "axis.iloc[axis['net_asset_value'].idxmax()]"
   ]
  },
  {
   "cell_type": "code",
   "execution_count": null,
   "id": "1dc77246",
   "metadata": {},
   "outputs": [],
   "source": [
    "axis['net_asset_value'].max()"
   ]
  },
  {
   "cell_type": "code",
   "execution_count": null,
   "id": "7e43dec9",
   "metadata": {},
   "outputs": [],
   "source": [
    "date = date.today()\n",
    "print(\"Date :\",date)"
   ]
  },
  {
   "cell_type": "code",
   "execution_count": null,
   "id": "60a1c8b2",
   "metadata": {},
   "outputs": [],
   "source": [
    "#year,week_num,day_of_week = date.isocalendar()\n",
    "#print(\"Year %d, Week Number %d, Day of the Week %d\" %(year,week_num,day_of_week))\n",
    "week_num=52"
   ]
  },
  {
   "cell_type": "code",
   "execution_count": null,
   "id": "9ed00279",
   "metadata": {},
   "outputs": [],
   "source": [
    "print(\"Fact: %d Week Axis High NAV Price: %0.4f\" %(week_num,axis['net_asset_value'].max()))"
   ]
  },
  {
   "cell_type": "markdown",
   "id": "cab8904c",
   "metadata": {},
   "source": [
    "#### 52 Week Low"
   ]
  },
  {
   "cell_type": "code",
   "execution_count": null,
   "id": "f8bd4db3",
   "metadata": {},
   "outputs": [],
   "source": [
    "axis.iloc[axis['net_asset_value'].idxmin()]"
   ]
  },
  {
   "cell_type": "code",
   "execution_count": null,
   "id": "7cb72283",
   "metadata": {},
   "outputs": [],
   "source": [
    "axis['net_asset_value'].min()"
   ]
  },
  {
   "cell_type": "code",
   "execution_count": null,
   "id": "838af0ca",
   "metadata": {},
   "outputs": [],
   "source": [
    "print(\"Fact: %d Week Axis Low NAV Price: %0.4f\" %(week_num,axis['net_asset_value'].min()))"
   ]
  },
  {
   "cell_type": "markdown",
   "id": "ba06d23e",
   "metadata": {},
   "source": [
    "#### January 2022 Summary"
   ]
  },
  {
   "cell_type": "code",
   "execution_count": null,
   "id": "a56d780c",
   "metadata": {},
   "outputs": [],
   "source": [
    "jan_axis=axis.iloc[0:31]\n",
    "jan_axis.head()"
   ]
  },
  {
   "cell_type": "code",
   "execution_count": null,
   "id": "cde6e279",
   "metadata": {},
   "outputs": [],
   "source": [
    "jan_axis.describe()"
   ]
  },
  {
   "cell_type": "code",
   "execution_count": null,
   "id": "580b336a",
   "metadata": {},
   "outputs": [],
   "source": [
    "# Import Libraries\n",
    "import matplotlib.pyplot as plt\n",
    "\n",
    "# Create figure\n",
    "fig = plt.figure()\n",
    "\n",
    "# Figure size\n",
    "fig.set_size_inches(15,8)\n",
    "\n",
    "x=jan_axis[\"date\"]\n",
    "y=jan_axis[\"net_asset_value\"]\n",
    "\n",
    "#plt.style.use('fivethirtyeight')\n",
    "plt.plot(x,y,color='royalblue',linestyle='solid',label=\"Axis\")#marker='o'dashed\n",
    "#'solid', 'dashed', 'dashdot', 'dotted'\n",
    "plt.xticks(rotation=90)\n",
    "plt.xlabel(\"Dates\")\n",
    "plt.ylabel(\"NAV\")\n",
    "plt.title('Axis Overview in January 2022 ',fontsize=20)\n",
    "#plt.grid()\n",
    "plt.legend()\n",
    "plt.show()"
   ]
  },
  {
   "cell_type": "code",
   "execution_count": null,
   "id": "b13d1a52",
   "metadata": {},
   "outputs": [],
   "source": [
    "# Import Libraries\n",
    "import matplotlib.pyplot as plt\n",
    "\n",
    "# Create figure\n",
    "fig = plt.figure()\n",
    "\n",
    "# Figure size\n",
    "fig.set_size_inches(15,8)\n",
    "\n",
    "x=jan_axis[\"date\"]\n",
    "y=jan_axis[\"nav_change\"]\n",
    "plt.bar(x,y,color='royalblue',width=0.72,label=\"Axis NAV\")#royalblue\n",
    "\n",
    "plt.xticks(rotation=90)\n",
    "plt.xlabel(\"Date\")\n",
    "plt.ylabel(\"NAV Change\")\n",
    "plt.title('Axis NAV Changes in January 2022')\n",
    "plt.legend()\n",
    "plt.show()"
   ]
  },
  {
   "cell_type": "code",
   "execution_count": null,
   "id": "562449f8",
   "metadata": {},
   "outputs": [],
   "source": [
    "sns.boxplot(x=jan_axis['nav_change'])"
   ]
  },
  {
   "cell_type": "code",
   "execution_count": null,
   "id": "1461f2e3",
   "metadata": {},
   "outputs": [],
   "source": [
    "sns.boxplot(x=jan_axis['nav_change_in_percent'])"
   ]
  },
  {
   "cell_type": "code",
   "execution_count": null,
   "id": "57c83261",
   "metadata": {},
   "outputs": [],
   "source": [
    "jan_axis['day'].value_counts()"
   ]
  },
  {
   "cell_type": "markdown",
   "id": "0be384a7",
   "metadata": {},
   "source": [
    "#### February 2022 Summary"
   ]
  },
  {
   "cell_type": "code",
   "execution_count": null,
   "id": "617777ff",
   "metadata": {},
   "outputs": [],
   "source": [
    "feb_axis=axis.iloc[31:59]\n",
    "feb_axis.head()"
   ]
  },
  {
   "cell_type": "code",
   "execution_count": null,
   "id": "cf97cd9f",
   "metadata": {},
   "outputs": [],
   "source": [
    "feb_axis.describe()"
   ]
  },
  {
   "cell_type": "code",
   "execution_count": null,
   "id": "223429ff",
   "metadata": {},
   "outputs": [],
   "source": [
    "# Import Libraries\n",
    "import matplotlib.pyplot as plt\n",
    "\n",
    "# Create figure\n",
    "fig = plt.figure()\n",
    "\n",
    "# Figure size\n",
    "fig.set_size_inches(15,8)\n",
    "\n",
    "x=feb_axis[\"date\"]\n",
    "y=feb_axis[\"net_asset_value\"]\n",
    "\n",
    "#plt.style.use('fivethirtyeight')\n",
    "plt.plot(x,y,color='royalblue',linestyle='solid',label=\"Axis\")#marker='o'dashed\n",
    "#'solid', 'dashed', 'dashdot', 'dotted'\n",
    "plt.xticks(rotation=90)\n",
    "plt.xlabel(\"Dates\")\n",
    "plt.ylabel(\"NAV\")\n",
    "plt.title('Axis Overview in February 2022',fontsize=20)\n",
    "#plt.grid()\n",
    "plt.legend()\n",
    "plt.show()"
   ]
  },
  {
   "cell_type": "code",
   "execution_count": null,
   "id": "0ef8b653",
   "metadata": {},
   "outputs": [],
   "source": [
    "# Import Libraries\n",
    "import matplotlib.pyplot as plt\n",
    "\n",
    "# Create figure\n",
    "fig = plt.figure()\n",
    "\n",
    "# Figure size\n",
    "fig.set_size_inches(15,8)\n",
    "\n",
    "x=feb_axis[\"date\"]\n",
    "y=feb_axis[\"nav_change\"]\n",
    "plt.bar(x,y,color='royalblue',width=0.72,label=\"Axis NAV\")\n",
    "\n",
    "plt.xticks(rotation=90)\n",
    "plt.xlabel(\"Date\")\n",
    "plt.ylabel(\"NAV Change\")\n",
    "plt.title('Axis NAV Changes in February 2022')\n",
    "plt.legend()\n",
    "plt.show()"
   ]
  },
  {
   "cell_type": "code",
   "execution_count": null,
   "id": "113389f6",
   "metadata": {},
   "outputs": [],
   "source": [
    "sns.boxplot(x=feb_axis['nav_change'])"
   ]
  },
  {
   "cell_type": "code",
   "execution_count": null,
   "id": "058ca23a",
   "metadata": {},
   "outputs": [],
   "source": [
    "sns.boxplot(x=feb_axis['nav_change_in_percent'])"
   ]
  },
  {
   "cell_type": "code",
   "execution_count": null,
   "id": "58ec6abe",
   "metadata": {},
   "outputs": [],
   "source": [
    "feb_axis['day'].value_counts()"
   ]
  },
  {
   "cell_type": "code",
   "execution_count": null,
   "id": "b41ae5bc",
   "metadata": {},
   "outputs": [],
   "source": [
    "feb_axis.day.value_counts()"
   ]
  },
  {
   "cell_type": "markdown",
   "id": "e0cc5faa",
   "metadata": {},
   "source": [
    "#### March 2022 Summary"
   ]
  },
  {
   "cell_type": "code",
   "execution_count": null,
   "id": "1ebd2b48",
   "metadata": {},
   "outputs": [],
   "source": [
    "march_axis=axis.iloc[59:90]\n",
    "march_axis.head()"
   ]
  },
  {
   "cell_type": "code",
   "execution_count": null,
   "id": "93ccadc5",
   "metadata": {},
   "outputs": [],
   "source": [
    "march_axis.describe()"
   ]
  },
  {
   "cell_type": "code",
   "execution_count": null,
   "id": "318ab1c7",
   "metadata": {},
   "outputs": [],
   "source": [
    "# Import Libraries\n",
    "import matplotlib.pyplot as plt\n",
    "\n",
    "# Create figure\n",
    "fig = plt.figure()\n",
    "\n",
    "# Figure size\n",
    "fig.set_size_inches(15,8)\n",
    "\n",
    "x=march_axis[\"date\"]\n",
    "y=march_axis[\"net_asset_value\"]\n",
    "\n",
    "#plt.style.use('fivethirtyeight')\n",
    "plt.plot(x,y,color='royalblue',linestyle='solid',label=\"Axis\")#marker='o'dashed\n",
    "#'solid', 'dashed', 'dashdot', 'dotted'\n",
    "plt.xticks(rotation=90)\n",
    "plt.xlabel(\"Dates\")\n",
    "plt.ylabel(\"NAV\")\n",
    "plt.title('Axis Overview in March 2022 ',fontsize=20)\n",
    "#plt.grid()\n",
    "plt.legend()\n",
    "plt.show()"
   ]
  },
  {
   "cell_type": "code",
   "execution_count": null,
   "id": "afdd420c",
   "metadata": {},
   "outputs": [],
   "source": [
    "# Import Libraries\n",
    "import matplotlib.pyplot as plt\n",
    "\n",
    "# Create figure\n",
    "fig = plt.figure()\n",
    "\n",
    "# Figure size\n",
    "fig.set_size_inches(15,8)\n",
    "\n",
    "x=march_axis[\"date\"]\n",
    "y=march_axis[\"nav_change\"]\n",
    "plt.bar(x,y,color='royalblue',width=0.72,label=\"Axis NAV\")\n",
    "\n",
    "plt.xticks(rotation=90)\n",
    "plt.xlabel(\"Date\")\n",
    "plt.ylabel(\"NAV Change\")\n",
    "plt.title('Axis NAV Changes in March 2022')\n",
    "plt.legend()\n",
    "plt.show()"
   ]
  },
  {
   "cell_type": "code",
   "execution_count": null,
   "id": "75123bb1",
   "metadata": {},
   "outputs": [],
   "source": [
    "sns.boxplot(x=march_axis['nav_change'])"
   ]
  },
  {
   "cell_type": "code",
   "execution_count": null,
   "id": "25d5d420",
   "metadata": {},
   "outputs": [],
   "source": [
    "sns.boxplot(x=march_axis['nav_change_in_percent'])"
   ]
  },
  {
   "cell_type": "code",
   "execution_count": null,
   "id": "b5750025",
   "metadata": {},
   "outputs": [],
   "source": [
    "march_axis['day'].value_counts()"
   ]
  },
  {
   "cell_type": "markdown",
   "id": "885fa61f",
   "metadata": {},
   "source": [
    "#### April  2022 Summary"
   ]
  },
  {
   "cell_type": "code",
   "execution_count": null,
   "id": "a7f0554b",
   "metadata": {},
   "outputs": [],
   "source": [
    "april_axis=axis.iloc[90:120]\n",
    "april_axis.head()"
   ]
  },
  {
   "cell_type": "code",
   "execution_count": null,
   "id": "e97cfaf4",
   "metadata": {},
   "outputs": [],
   "source": [
    "april_axis.describe()"
   ]
  },
  {
   "cell_type": "code",
   "execution_count": null,
   "id": "eb8aa93b",
   "metadata": {},
   "outputs": [],
   "source": [
    "# Import Libraries\n",
    "import matplotlib.pyplot as plt\n",
    "\n",
    "# Create figure\n",
    "fig = plt.figure()\n",
    "\n",
    "# Figure size\n",
    "fig.set_size_inches(15,8)\n",
    "\n",
    "x=april_axis[\"date\"]\n",
    "y=april_axis[\"net_asset_value\"]\n",
    "\n",
    "#plt.style.use('fivethirtyeight')\n",
    "plt.plot(x,y,color='royalblue',linestyle='solid',label=\"Axis\")#marker='o'dashed\n",
    "#'solid', 'dashed', 'dashdot', 'dotted'\n",
    "plt.xticks(rotation=90)\n",
    "plt.xlabel(\"Dates\")\n",
    "plt.ylabel(\"NAV\")\n",
    "plt.title('Axis Overview in April 2022 ',fontsize=20)\n",
    "#plt.grid()\n",
    "plt.legend()\n",
    "plt.show()"
   ]
  },
  {
   "cell_type": "code",
   "execution_count": null,
   "id": "c7034545",
   "metadata": {},
   "outputs": [],
   "source": [
    "# Import Libraries\n",
    "import matplotlib.pyplot as plt\n",
    "\n",
    "# Create figure\n",
    "fig = plt.figure()\n",
    "\n",
    "# Figure size\n",
    "fig.set_size_inches(15,8)\n",
    "\n",
    "x=april_axis[\"date\"]\n",
    "y=april_axis[\"nav_change\"]\n",
    "plt.bar(x,y,color='royalblue',width=0.72,label=\"Axis NAV\")\n",
    "\n",
    "plt.xticks(rotation=90)\n",
    "plt.xlabel(\"Date\")\n",
    "plt.ylabel(\"NAV Change\")\n",
    "plt.title('Axis NAV Changes in April 2022')\n",
    "plt.legend()\n",
    "plt.show()"
   ]
  },
  {
   "cell_type": "code",
   "execution_count": null,
   "id": "6dfe20f2",
   "metadata": {},
   "outputs": [],
   "source": [
    "sns.boxplot(x=april_axis['nav_change'])"
   ]
  },
  {
   "cell_type": "code",
   "execution_count": null,
   "id": "bceb1901",
   "metadata": {},
   "outputs": [],
   "source": [
    "sns.boxplot(x=april_axis['nav_change_in_percent'])"
   ]
  },
  {
   "cell_type": "code",
   "execution_count": null,
   "id": "f551f954",
   "metadata": {},
   "outputs": [],
   "source": [
    "april_axis['day'].value_counts()"
   ]
  },
  {
   "cell_type": "markdown",
   "id": "a83927a7",
   "metadata": {},
   "source": [
    "#### May 2022 Summary"
   ]
  },
  {
   "cell_type": "code",
   "execution_count": null,
   "id": "3d763dec",
   "metadata": {},
   "outputs": [],
   "source": [
    "may_axis=axis.iloc[120:151]\n",
    "may_axis.head()"
   ]
  },
  {
   "cell_type": "code",
   "execution_count": null,
   "id": "f0786712",
   "metadata": {},
   "outputs": [],
   "source": [
    "may_axis.describe()"
   ]
  },
  {
   "cell_type": "code",
   "execution_count": null,
   "id": "504374b1",
   "metadata": {},
   "outputs": [],
   "source": [
    "# Import Libraries\n",
    "import matplotlib.pyplot as plt\n",
    "\n",
    "# Create figure\n",
    "fig = plt.figure()\n",
    "\n",
    "# Figure size\n",
    "fig.set_size_inches(15,8)\n",
    "\n",
    "x=may_axis[\"date\"]\n",
    "y=may_axis[\"net_asset_value\"]\n",
    "\n",
    "#plt.style.use('fivethirtyeight')\n",
    "plt.plot(x,y,color='royalblue',linestyle='solid',label=\"Axis\")#marker='o'dashed\n",
    "#'solid', 'dashed', 'dashdot', 'dotted'\n",
    "plt.xticks(rotation=90)\n",
    "plt.xlabel(\"Dates\")\n",
    "plt.ylabel(\"NAV\")\n",
    "plt.title('Axis Overview in May 2022',fontsize=20)\n",
    "#plt.grid()\n",
    "plt.legend()\n",
    "plt.show()"
   ]
  },
  {
   "cell_type": "code",
   "execution_count": null,
   "id": "cb5d8a4a",
   "metadata": {},
   "outputs": [],
   "source": [
    "# Import Libraries\n",
    "import matplotlib.pyplot as plt\n",
    "\n",
    "# Create figure\n",
    "fig = plt.figure()\n",
    "\n",
    "# Figure size\n",
    "fig.set_size_inches(15,8)\n",
    "\n",
    "x=may_axis[\"date\"]\n",
    "y=may_axis[\"nav_change\"]\n",
    "plt.bar(x,y,color='royalblue',width=0.72,label=\"Axis NAV\")\n",
    "\n",
    "plt.xticks(rotation=90)\n",
    "plt.xlabel(\"Date\")\n",
    "plt.ylabel(\"NAV Change\")\n",
    "plt.title('Axis NAV Changes in May 2022')\n",
    "plt.legend()\n",
    "plt.show()"
   ]
  },
  {
   "cell_type": "code",
   "execution_count": null,
   "id": "f9f14e75",
   "metadata": {},
   "outputs": [],
   "source": [
    "sns.boxplot(x=may_axis['nav_change'])"
   ]
  },
  {
   "cell_type": "code",
   "execution_count": null,
   "id": "f90dd79f",
   "metadata": {},
   "outputs": [],
   "source": [
    "sns.boxplot(x=may_axis['nav_change_in_percent'])"
   ]
  },
  {
   "cell_type": "code",
   "execution_count": null,
   "id": "d954f38a",
   "metadata": {},
   "outputs": [],
   "source": [
    "may_axis['day'].value_counts()"
   ]
  },
  {
   "cell_type": "markdown",
   "id": "d73f146d",
   "metadata": {},
   "source": [
    "#### June 2022 Summary"
   ]
  },
  {
   "cell_type": "code",
   "execution_count": null,
   "id": "9edee32e",
   "metadata": {},
   "outputs": [],
   "source": [
    "june_axis=axis.iloc[151:181]\n",
    "june_axis.head()"
   ]
  },
  {
   "cell_type": "code",
   "execution_count": null,
   "id": "7b66f742",
   "metadata": {},
   "outputs": [],
   "source": [
    "june_axis.describe()"
   ]
  },
  {
   "cell_type": "code",
   "execution_count": null,
   "id": "a0c52020",
   "metadata": {},
   "outputs": [],
   "source": [
    "# Import Libraries\n",
    "import matplotlib.pyplot as plt\n",
    "\n",
    "# Create figure\n",
    "fig = plt.figure()\n",
    "\n",
    "# Figure size\n",
    "fig.set_size_inches(15,8)\n",
    "\n",
    "x=june_axis[\"date\"]\n",
    "y=june_axis[\"net_asset_value\"]\n",
    "\n",
    "#plt.style.use('fivethirtyeight')\n",
    "plt.plot(x,y,color='royalblue',linestyle='solid',label=\"Axis\")#marker='o'dashed\n",
    "#'solid', 'dashed', 'dashdot', 'dotted'\n",
    "plt.xticks(rotation=90)\n",
    "plt.xlabel(\"Dates\")\n",
    "plt.ylabel(\"NAV\")\n",
    "plt.title('Axis Overview in June 2022',fontsize=20)\n",
    "#plt.grid()\n",
    "plt.legend()\n",
    "plt.show()"
   ]
  },
  {
   "cell_type": "code",
   "execution_count": null,
   "id": "18e9b4d0",
   "metadata": {},
   "outputs": [],
   "source": [
    "# Import Libraries\n",
    "import matplotlib.pyplot as plt\n",
    "\n",
    "# Create figure\n",
    "fig = plt.figure()\n",
    "\n",
    "# Figure size\n",
    "fig.set_size_inches(15,8)\n",
    "\n",
    "x=june_axis[\"date\"]\n",
    "y=june_axis[\"nav_change\"]\n",
    "plt.bar(x,y,color='royalblue',width=0.72,label=\"Axis NAV\")\n",
    "\n",
    "plt.xticks(rotation=90)\n",
    "plt.xlabel(\"Date\")\n",
    "plt.ylabel(\"NAV Change\")\n",
    "plt.title('Axis NAV Changes in June 2022')\n",
    "plt.legend()\n",
    "plt.show()"
   ]
  },
  {
   "cell_type": "code",
   "execution_count": null,
   "id": "9f4b781b",
   "metadata": {},
   "outputs": [],
   "source": [
    "sns.boxplot(x=june_axis['nav_change'])"
   ]
  },
  {
   "cell_type": "code",
   "execution_count": null,
   "id": "8655a8e5",
   "metadata": {},
   "outputs": [],
   "source": [
    "sns.boxplot(x=june_axis['nav_change_in_percent'])"
   ]
  },
  {
   "cell_type": "code",
   "execution_count": null,
   "id": "cb681f46",
   "metadata": {},
   "outputs": [],
   "source": [
    "june_axis['day'].value_counts()"
   ]
  },
  {
   "cell_type": "markdown",
   "id": "a9f237c8",
   "metadata": {},
   "source": [
    "#### July 2022 Summary"
   ]
  },
  {
   "cell_type": "code",
   "execution_count": null,
   "id": "78dd181a",
   "metadata": {},
   "outputs": [],
   "source": [
    "july_axis=axis.iloc[181:212]\n",
    "july_axis.head()"
   ]
  },
  {
   "cell_type": "code",
   "execution_count": null,
   "id": "d92b8811",
   "metadata": {},
   "outputs": [],
   "source": [
    "july_axis.describe()"
   ]
  },
  {
   "cell_type": "code",
   "execution_count": null,
   "id": "0b6fa599",
   "metadata": {},
   "outputs": [],
   "source": [
    "# Import Libraries\n",
    "import matplotlib.pyplot as plt\n",
    "\n",
    "# Create figure\n",
    "fig = plt.figure()\n",
    "\n",
    "# Figure size\n",
    "fig.set_size_inches(15,8)\n",
    "\n",
    "x=july_axis[\"date\"]\n",
    "y=july_axis[\"net_asset_value\"]\n",
    "\n",
    "#plt.style.use('fivethirtyeight')\n",
    "plt.plot(x,y,color='royalblue',linestyle='solid',label=\"Axis\")#marker='o'dashed\n",
    "#'solid', 'dashed', 'dashdot', 'dotted'\n",
    "plt.xticks(rotation=90)\n",
    "plt.xlabel(\"Dates\")\n",
    "plt.ylabel(\"NAV Change\")\n",
    "plt.title('Axis Overview in July 2022',fontsize=20)\n",
    "#plt.grid()\n",
    "plt.legend()\n",
    "plt.show()"
   ]
  },
  {
   "cell_type": "code",
   "execution_count": null,
   "id": "6831deb5",
   "metadata": {},
   "outputs": [],
   "source": [
    "# Import Libraries\n",
    "import matplotlib.pyplot as plt\n",
    "\n",
    "# Create figure\n",
    "fig = plt.figure()\n",
    "\n",
    "# Figure size\n",
    "fig.set_size_inches(15,8)\n",
    "\n",
    "x=july_axis[\"date\"]\n",
    "y=july_axis[\"nav_change\"]\n",
    "plt.bar(x,y,color='royalblue',width=0.72,label=\"Axis NAV\")\n",
    "\n",
    "plt.xticks(rotation=90)\n",
    "plt.xlabel(\"Date\")\n",
    "plt.ylabel(\"NAV Change\")\n",
    "plt.title('Axis NAV Changes in July 2022')\n",
    "plt.legend()\n",
    "plt.show()"
   ]
  },
  {
   "cell_type": "code",
   "execution_count": null,
   "id": "24fdcba9",
   "metadata": {},
   "outputs": [],
   "source": [
    "sns.boxplot(x=july_axis['nav_change'])"
   ]
  },
  {
   "cell_type": "code",
   "execution_count": null,
   "id": "b76e2b02",
   "metadata": {},
   "outputs": [],
   "source": [
    "sns.boxplot(x=july_axis['nav_change_in_percent'])"
   ]
  },
  {
   "cell_type": "code",
   "execution_count": null,
   "id": "bcc36950",
   "metadata": {},
   "outputs": [],
   "source": [
    "july_axis['day'].value_counts()"
   ]
  },
  {
   "cell_type": "markdown",
   "id": "2a5a8cfb",
   "metadata": {},
   "source": []
  },
  {
   "cell_type": "markdown",
   "id": "2c8ae319",
   "metadata": {},
   "source": [
    "#### August 2022 Summary"
   ]
  },
  {
   "cell_type": "code",
   "execution_count": null,
   "id": "1e92cd7f",
   "metadata": {},
   "outputs": [],
   "source": [
    "aug_axis=axis.iloc[212:243]\n",
    "aug_axis.head()"
   ]
  },
  {
   "cell_type": "code",
   "execution_count": null,
   "id": "844f6c06",
   "metadata": {},
   "outputs": [],
   "source": [
    "aug_axis.describe()"
   ]
  },
  {
   "cell_type": "code",
   "execution_count": null,
   "id": "6007d6f3",
   "metadata": {},
   "outputs": [],
   "source": [
    "# Import Libraries\n",
    "import matplotlib.pyplot as plt\n",
    "\n",
    "# Create figure\n",
    "fig = plt.figure()\n",
    "\n",
    "# Figure size\n",
    "fig.set_size_inches(15,8)\n",
    "\n",
    "x=aug_axis[\"date\"]\n",
    "y=aug_axis[\"net_asset_value\"]\n",
    "\n",
    "#plt.style.use('fivethirtyeight')\n",
    "plt.plot(x,y,color='royalblue',linestyle='solid',label=\"Axis\")#marker='o'dashed\n",
    "#'solid', 'dashed', 'dashdot', 'dotted'\n",
    "plt.xticks(rotation=90)\n",
    "plt.xlabel(\"Dates\")\n",
    "plt.ylabel(\"NAV\")\n",
    "plt.title('Axis Overview in August 2022',fontsize=20)\n",
    "#plt.grid()\n",
    "plt.legend()\n",
    "plt.show()"
   ]
  },
  {
   "cell_type": "code",
   "execution_count": null,
   "id": "cb2aafb3",
   "metadata": {},
   "outputs": [],
   "source": [
    "# Import Libraries\n",
    "import matplotlib.pyplot as plt\n",
    "\n",
    "# Create figure\n",
    "fig = plt.figure()\n",
    "\n",
    "# Figure size\n",
    "fig.set_size_inches(15,8)\n",
    "\n",
    "x=aug_axis[\"date\"]\n",
    "y=aug_axis[\"nav_change\"]\n",
    "plt.bar(x,y,color='royalblue',width=0.72,label=\"Axis NAV\")\n",
    "\n",
    "plt.xticks(rotation=90)\n",
    "plt.xlabel(\"Date\")\n",
    "plt.ylabel(\"NAV Change\")\n",
    "plt.title('Axis NAV Changes in August 2022')\n",
    "plt.legend()\n",
    "plt.show()"
   ]
  },
  {
   "cell_type": "code",
   "execution_count": null,
   "id": "54fc4f28",
   "metadata": {},
   "outputs": [],
   "source": [
    "sns.boxplot(x=aug_axis['nav_change'])"
   ]
  },
  {
   "cell_type": "code",
   "execution_count": null,
   "id": "4c30503d",
   "metadata": {},
   "outputs": [],
   "source": [
    "sns.boxplot(x=aug_axis['nav_change_in_percent'])"
   ]
  },
  {
   "cell_type": "code",
   "execution_count": null,
   "id": "84b8bb43",
   "metadata": {},
   "outputs": [],
   "source": [
    "aug_axis['day'].value_counts()"
   ]
  },
  {
   "cell_type": "markdown",
   "id": "5639da9a",
   "metadata": {},
   "source": [
    "#### September 2022 Summary"
   ]
  },
  {
   "cell_type": "code",
   "execution_count": null,
   "id": "db382f7a",
   "metadata": {},
   "outputs": [],
   "source": [
    "sept_axis=axis.iloc[243:273]\n",
    "sept_axis.head()"
   ]
  },
  {
   "cell_type": "code",
   "execution_count": null,
   "id": "08217965",
   "metadata": {},
   "outputs": [],
   "source": [
    "sept_axis.describe()"
   ]
  },
  {
   "cell_type": "code",
   "execution_count": null,
   "id": "d973dcff",
   "metadata": {},
   "outputs": [],
   "source": [
    "# Import Libraries\n",
    "import matplotlib.pyplot as plt\n",
    "\n",
    "# Create figure\n",
    "fig = plt.figure()\n",
    "\n",
    "# Figure size\n",
    "fig.set_size_inches(15,8)\n",
    "\n",
    "x=sept_axis[\"date\"]\n",
    "y=sept_axis[\"net_asset_value\"]\n",
    "\n",
    "#plt.style.use('fivethirtyeight')\n",
    "plt.plot(x,y,color='royalblue',linestyle='solid',label=\"Axis\")#marker='o'dashed\n",
    "#'solid', 'dashed', 'dashdot', 'dotted'\n",
    "plt.xticks(rotation=90)\n",
    "plt.xlabel(\"Dates\")\n",
    "plt.ylabel(\"NAV\")\n",
    "plt.title('Axis Overview in September 2022',fontsize=20)\n",
    "#plt.grid()\n",
    "plt.legend()\n",
    "plt.show()"
   ]
  },
  {
   "cell_type": "code",
   "execution_count": null,
   "id": "29a32786",
   "metadata": {},
   "outputs": [],
   "source": [
    "# Import Libraries\n",
    "import matplotlib.pyplot as plt\n",
    "\n",
    "# Create figure\n",
    "fig = plt.figure()\n",
    "\n",
    "# Figure size\n",
    "fig.set_size_inches(15,8)\n",
    "\n",
    "x=sept_axis[\"date\"]\n",
    "y=sept_axis[\"nav_change\"]\n",
    "plt.bar(x,y,color='royalblue',width=0.72,label=\"Axis NAV\")\n",
    "\n",
    "plt.xticks(rotation=90)\n",
    "plt.xlabel(\"Date\")\n",
    "plt.ylabel(\"NAV Change\")\n",
    "plt.title('Axis NAV Changes in September 2022')\n",
    "plt.legend()\n",
    "plt.show()"
   ]
  },
  {
   "cell_type": "code",
   "execution_count": null,
   "id": "908404a5",
   "metadata": {},
   "outputs": [],
   "source": [
    "sns.boxplot(x=sept_axis['nav_change'])"
   ]
  },
  {
   "cell_type": "code",
   "execution_count": null,
   "id": "fd0f5b49",
   "metadata": {},
   "outputs": [],
   "source": [
    "sns.boxplot(x=sept_axis['nav_change_in_percent'])"
   ]
  },
  {
   "cell_type": "code",
   "execution_count": null,
   "id": "dc8ae3fd",
   "metadata": {},
   "outputs": [],
   "source": [
    "sept_axis['day'].value_counts()"
   ]
  },
  {
   "cell_type": "markdown",
   "id": "61de968b",
   "metadata": {},
   "source": [
    "#### October 2022 Summary"
   ]
  },
  {
   "cell_type": "code",
   "execution_count": null,
   "id": "3af5940c",
   "metadata": {},
   "outputs": [],
   "source": [
    "oct_axis=axis.iloc[273:304]\n",
    "oct_axis.head()"
   ]
  },
  {
   "cell_type": "code",
   "execution_count": null,
   "id": "ad889e16",
   "metadata": {},
   "outputs": [],
   "source": [
    "oct_axis.describe()"
   ]
  },
  {
   "cell_type": "code",
   "execution_count": null,
   "id": "301f268b",
   "metadata": {},
   "outputs": [],
   "source": [
    "# Import Libraries\n",
    "import matplotlib.pyplot as plt\n",
    "\n",
    "# Create figure\n",
    "fig = plt.figure()\n",
    "\n",
    "# Figure size\n",
    "fig.set_size_inches(15,8)\n",
    "\n",
    "x=oct_axis[\"date\"]\n",
    "y=oct_axis[\"net_asset_value\"]\n",
    "\n",
    "#plt.style.use('fivethirtyeight')\n",
    "plt.plot(x,y,color='royalblue',linestyle='solid',label=\"Axis\")#marker='o'dashed\n",
    "#'solid', 'dashed', 'dashdot', 'dotted'\n",
    "plt.xticks(rotation=90)\n",
    "plt.xlabel(\"Dates\")\n",
    "plt.ylabel(\"NAV\")\n",
    "plt.title('Axis Overview in October 2022',fontsize=20)\n",
    "#plt.grid()\n",
    "plt.legend()\n",
    "plt.show()"
   ]
  },
  {
   "cell_type": "code",
   "execution_count": null,
   "id": "7e4d3497",
   "metadata": {},
   "outputs": [],
   "source": [
    "# Import Libraries\n",
    "import matplotlib.pyplot as plt\n",
    "\n",
    "# Create figure\n",
    "fig = plt.figure()\n",
    "\n",
    "# Figure size\n",
    "fig.set_size_inches(15,8)\n",
    "\n",
    "x=oct_axis[\"date\"]\n",
    "y=oct_axis[\"nav_change\"]\n",
    "plt.bar(x,y,color='royalblue',width=0.72,label=\"Axis NAV\")\n",
    "\n",
    "plt.xticks(rotation=90)\n",
    "plt.xlabel(\"Date\")\n",
    "plt.ylabel(\"NAV Change\")\n",
    "plt.title('Axis NAV Changes in October 2022')\n",
    "plt.legend()\n",
    "plt.show()"
   ]
  },
  {
   "cell_type": "code",
   "execution_count": null,
   "id": "4be89ba5",
   "metadata": {},
   "outputs": [],
   "source": [
    "sns.boxplot(x=oct_axis['nav_change'])"
   ]
  },
  {
   "cell_type": "code",
   "execution_count": null,
   "id": "1a57b750",
   "metadata": {},
   "outputs": [],
   "source": [
    "sns.boxplot(x=oct_axis['nav_change_in_percent'])"
   ]
  },
  {
   "cell_type": "code",
   "execution_count": null,
   "id": "23cce0f5",
   "metadata": {},
   "outputs": [],
   "source": [
    "oct_axis['day'].value_counts()"
   ]
  },
  {
   "cell_type": "markdown",
   "id": "5a17307a",
   "metadata": {},
   "source": [
    "#### November 2022 Summary"
   ]
  },
  {
   "cell_type": "code",
   "execution_count": null,
   "id": "20b09be0",
   "metadata": {},
   "outputs": [],
   "source": [
    "nov_axis=axis.iloc[304:334]\n",
    "nov_axis.head()"
   ]
  },
  {
   "cell_type": "code",
   "execution_count": null,
   "id": "3f60b8e7",
   "metadata": {
    "scrolled": true
   },
   "outputs": [],
   "source": [
    "nov_axis.describe()"
   ]
  },
  {
   "cell_type": "code",
   "execution_count": null,
   "id": "c2f17b69",
   "metadata": {},
   "outputs": [],
   "source": [
    "# Import Libraries\n",
    "import matplotlib.pyplot as plt\n",
    "\n",
    "# Create figure\n",
    "fig = plt.figure()\n",
    "\n",
    "# Figure size\n",
    "fig.set_size_inches(15,8)\n",
    "\n",
    "x=nov_axis[\"date\"]\n",
    "y=nov_axis[\"net_asset_value\"]\n",
    "\n",
    "#plt.style.use('fivethirtyeight')\n",
    "plt.plot(x,y,color='royalblue',linestyle='solid',label=\"Axis\")#marker='o'dashed\n",
    "#'solid', 'dashed', 'dashdot', 'dotted'\n",
    "plt.xticks(rotation=90)\n",
    "plt.xlabel(\"Dates\")\n",
    "plt.ylabel(\"NAV\")\n",
    "plt.title('Axis Overview in November 2022',fontsize=20)\n",
    "#plt.grid()\n",
    "plt.legend()\n",
    "plt.show()"
   ]
  },
  {
   "cell_type": "code",
   "execution_count": null,
   "id": "334bdd54",
   "metadata": {},
   "outputs": [],
   "source": [
    "# Import Libraries\n",
    "import matplotlib.pyplot as plt\n",
    "\n",
    "# Create figure\n",
    "fig = plt.figure()\n",
    "\n",
    "# Figure size\n",
    "fig.set_size_inches(15,8)\n",
    "\n",
    "x=nov_axis[\"date\"]\n",
    "y=nov_axis[\"nav_change\"]\n",
    "plt.bar(x,y,color='royalblue',width=0.72,label=\"Axis NAV\")\n",
    "\n",
    "plt.xticks(rotation=90)\n",
    "plt.xlabel(\"Date\")\n",
    "plt.ylabel(\"NAV Change\")\n",
    "plt.title('Axis NAV Changes in November')\n",
    "plt.legend()\n",
    "plt.show()"
   ]
  },
  {
   "cell_type": "code",
   "execution_count": null,
   "id": "f8c8e4d3",
   "metadata": {},
   "outputs": [],
   "source": [
    "sns.boxplot(x=nov_axis['nav_change'])"
   ]
  },
  {
   "cell_type": "code",
   "execution_count": null,
   "id": "477ee69b",
   "metadata": {},
   "outputs": [],
   "source": [
    "sns.boxplot(x=nov_axis['nav_change_in_percent'])"
   ]
  },
  {
   "cell_type": "code",
   "execution_count": null,
   "id": "bd024cac",
   "metadata": {},
   "outputs": [],
   "source": [
    "nov_axis['day'].value_counts()"
   ]
  },
  {
   "cell_type": "code",
   "execution_count": null,
   "id": "af4a519e",
   "metadata": {},
   "outputs": [],
   "source": [
    "nov_axis.day.value_counts()"
   ]
  },
  {
   "cell_type": "markdown",
   "id": "b0555731",
   "metadata": {},
   "source": [
    "#### December 2022 Summary"
   ]
  },
  {
   "cell_type": "code",
   "execution_count": null,
   "id": "9c04bd69",
   "metadata": {},
   "outputs": [],
   "source": [
    "dec_axis=axis.iloc[334:]\n",
    "dec_axis.head()"
   ]
  },
  {
   "cell_type": "code",
   "execution_count": null,
   "id": "fa35bbfb",
   "metadata": {},
   "outputs": [],
   "source": [
    "dec_axis.describe()"
   ]
  },
  {
   "cell_type": "code",
   "execution_count": null,
   "id": "5148b72d",
   "metadata": {},
   "outputs": [],
   "source": [
    "# Import Libraries\n",
    "import matplotlib.pyplot as plt\n",
    "\n",
    "# Create figure\n",
    "fig = plt.figure()\n",
    "\n",
    "# Figure size\n",
    "fig.set_size_inches(15,8)\n",
    "\n",
    "x=dec_axis[\"date\"]\n",
    "y=dec_axis[\"net_asset_value\"]\n",
    "\n",
    "#plt.style.use('fivethirtyeight')\n",
    "plt.plot(x,y,color='royalblue',linestyle='solid',label=\"Axis\")#marker='o'dashed\n",
    "#'solid', 'dashed', 'dashdot', 'dotted'\n",
    "plt.xticks(rotation=90)\n",
    "plt.xlabel(\"Dates\")\n",
    "plt.ylabel(\"NAV\")\n",
    "plt.title('Axis Overview in December 2022 ',fontsize=20)\n",
    "#plt.grid()\n",
    "plt.legend()\n",
    "plt.show()"
   ]
  },
  {
   "cell_type": "code",
   "execution_count": null,
   "id": "06a0ccca",
   "metadata": {},
   "outputs": [],
   "source": [
    "# Import Libraries\n",
    "import matplotlib.pyplot as plt\n",
    "\n",
    "# Create figure\n",
    "fig = plt.figure()\n",
    "\n",
    "# Figure size\n",
    "fig.set_size_inches(15,8)\n",
    "\n",
    "x=dec_axis[\"date\"]\n",
    "y=dec_axis[\"nav_change\"]\n",
    "plt.bar(x,y,color='royalblue',width=0.72,label=\"Axis NAV\")\n",
    "\n",
    "plt.xticks(rotation=90)\n",
    "plt.xlabel(\"Date\")\n",
    "plt.ylabel(\"NAV Change\")\n",
    "plt.title('Axis NAV Changes in December')\n",
    "plt.legend()\n",
    "plt.show()"
   ]
  },
  {
   "cell_type": "code",
   "execution_count": null,
   "id": "f961042f",
   "metadata": {},
   "outputs": [],
   "source": [
    "sns.boxplot(x=dec_axis['nav_change'])"
   ]
  },
  {
   "cell_type": "code",
   "execution_count": null,
   "id": "d6577e3b",
   "metadata": {},
   "outputs": [],
   "source": [
    "sns.boxplot(x=dec_axis['nav_change_in_percent'])"
   ]
  },
  {
   "cell_type": "code",
   "execution_count": null,
   "id": "ca3f12dd",
   "metadata": {},
   "outputs": [],
   "source": [
    "dec_axis['day'].value_counts()"
   ]
  },
  {
   "cell_type": "code",
   "execution_count": null,
   "id": "df2ad866",
   "metadata": {},
   "outputs": [],
   "source": [
    "dec_axis.day.value_counts()"
   ]
  },
  {
   "cell_type": "markdown",
   "id": "9bbf1818",
   "metadata": {},
   "source": [
    "#### Trading Days (Stock Market working days)"
   ]
  },
  {
   "cell_type": "code",
   "execution_count": null,
   "id": "7c871d8c",
   "metadata": {},
   "outputs": [],
   "source": [
    "axis_working = axis[(axis['nav_change']!=0)]\n",
    "axis_working"
   ]
  },
  {
   "cell_type": "code",
   "execution_count": null,
   "id": "273c4aba",
   "metadata": {},
   "outputs": [],
   "source": [
    "axis_working.shape"
   ]
  },
  {
   "cell_type": "code",
   "execution_count": null,
   "id": "f46fc219",
   "metadata": {},
   "outputs": [],
   "source": [
    "axis_working.count()"
   ]
  },
  {
   "cell_type": "code",
   "execution_count": null,
   "id": "14c37a6d",
   "metadata": {},
   "outputs": [],
   "source": [
    "axis_working.describe()"
   ]
  },
  {
   "cell_type": "code",
   "execution_count": null,
   "id": "aa942560",
   "metadata": {},
   "outputs": [],
   "source": [
    "axis_working['day'].value_counts()"
   ]
  },
  {
   "cell_type": "code",
   "execution_count": null,
   "id": "b043639f",
   "metadata": {},
   "outputs": [],
   "source": [
    "sns.boxplot(x=axis_working['nav_change'])"
   ]
  },
  {
   "cell_type": "code",
   "execution_count": null,
   "id": "72570a22",
   "metadata": {},
   "outputs": [],
   "source": [
    "sns.boxplot(x=axis_working['nav_change_in_percent'])"
   ]
  },
  {
   "cell_type": "markdown",
   "id": "5f96fa3c",
   "metadata": {},
   "source": [
    "#### Positive NAV Changes"
   ]
  },
  {
   "cell_type": "code",
   "execution_count": null,
   "id": "c8f2c870",
   "metadata": {},
   "outputs": [],
   "source": [
    "axis_plus=axis[(axis['nav_change']>0)]"
   ]
  },
  {
   "cell_type": "code",
   "execution_count": null,
   "id": "51dc518f",
   "metadata": {},
   "outputs": [],
   "source": [
    "axis_plus.head()"
   ]
  },
  {
   "cell_type": "code",
   "execution_count": null,
   "id": "d011e09d",
   "metadata": {},
   "outputs": [],
   "source": [
    "axis_plus.shape"
   ]
  },
  {
   "cell_type": "code",
   "execution_count": null,
   "id": "bf9f9004",
   "metadata": {},
   "outputs": [],
   "source": [
    "# Import Libraries\n",
    "import matplotlib.pyplot as plt\n",
    "\n",
    "# Create figure\n",
    "fig = plt.figure()\n",
    "\n",
    "# Figure size\n",
    "fig.set_size_inches(20,8)\n",
    "\n",
    "x=axis_plus[\"date\"]\n",
    "y=axis_plus[\"nav_change\"]\n",
    "plt.bar(x,y,color='green',width=0.72,label=\"Axis NAV\")\n",
    "\n",
    "plt.xticks(rotation=90)\n",
    "plt.xlabel(\"Date\")\n",
    "plt.ylabel(\"NAV Change\")\n",
    "plt.title('Axis NAV Changes of All Positive')\n",
    "plt.legend()\n",
    "plt.show()"
   ]
  },
  {
   "cell_type": "code",
   "execution_count": null,
   "id": "7f06f52a",
   "metadata": {},
   "outputs": [],
   "source": [
    "axis_plus.count()"
   ]
  },
  {
   "cell_type": "code",
   "execution_count": null,
   "id": "990afd26",
   "metadata": {},
   "outputs": [],
   "source": [
    "axis_plus.describe()"
   ]
  },
  {
   "cell_type": "code",
   "execution_count": null,
   "id": "667d4cf0",
   "metadata": {},
   "outputs": [],
   "source": [
    "sns.boxplot(x=axis_plus['nav_change'])"
   ]
  },
  {
   "cell_type": "code",
   "execution_count": null,
   "id": "41bdd2cc",
   "metadata": {},
   "outputs": [],
   "source": [
    "sns.boxplot(x=axis_plus['nav_change_in_percent'])"
   ]
  },
  {
   "cell_type": "code",
   "execution_count": null,
   "id": "aeec3046",
   "metadata": {},
   "outputs": [],
   "source": [
    "axis_plus['day'].value_counts()"
   ]
  },
  {
   "cell_type": "code",
   "execution_count": null,
   "id": "3e74f2ce",
   "metadata": {},
   "outputs": [],
   "source": [
    "plus_a=0\n",
    "plus_b=0\n",
    "plus_c=0\n",
    "plus_d=0\n",
    "\n",
    "for i in axis_plus.index:\n",
    "    \n",
    "    if ((axis_plus.nav_change[i] > 0) & (axis_plus.nav_change[i] <= 1)):\n",
    "        plus_c=plus_c+1\n",
    "        \n",
    "    elif ((axis_plus.nav_change[i] > 1) & (axis_plus.nav_change[i] <= 2)):\n",
    "        plus_b=plus_b+1\n",
    "    \n",
    "    else:\n",
    "        plus_a=plus_a+1\n",
    "        \n",
    "print(\"Fact: Axis NAV has risen between 0 and 1 about %d times in the last %d weeks.\"%(plus_c,week_num))\n",
    "print(\"\")\n",
    "print(\"Fact: Axis NAV has risen between 1 and 2 about %d times in the last %d weeks.\"%(plus_b,week_num))\n",
    "print(\"\")\n",
    "print(\"Fact: Axis NAV has risen between 2 and above about %d times in the last %d weeks.\"%(plus_a,week_num))"
   ]
  },
  {
   "cell_type": "markdown",
   "id": "bf6c6628",
   "metadata": {},
   "source": [
    "#### Negative NAV Changes"
   ]
  },
  {
   "cell_type": "code",
   "execution_count": null,
   "id": "f8bec5e9",
   "metadata": {},
   "outputs": [],
   "source": [
    "axis_minus=axis[(axis['nav_change']<0)]"
   ]
  },
  {
   "cell_type": "code",
   "execution_count": null,
   "id": "b854ae46",
   "metadata": {},
   "outputs": [],
   "source": [
    "axis_minus.head()"
   ]
  },
  {
   "cell_type": "code",
   "execution_count": null,
   "id": "ec8428d9",
   "metadata": {},
   "outputs": [],
   "source": [
    "axis_minus.count()"
   ]
  },
  {
   "cell_type": "code",
   "execution_count": null,
   "id": "9a2774a1",
   "metadata": {},
   "outputs": [],
   "source": [
    "axis_minus.describe()"
   ]
  },
  {
   "cell_type": "code",
   "execution_count": null,
   "id": "95cca28b",
   "metadata": {},
   "outputs": [],
   "source": [
    "# Import Libraries\n",
    "import matplotlib.pyplot as plt\n",
    "\n",
    "# Create figure\n",
    "fig = plt.figure()\n",
    "\n",
    "# Figure size\n",
    "fig.set_size_inches(18,8)\n",
    "\n",
    "x=axis_minus[\"date\"]\n",
    "y=axis_minus[\"nav_change\"]\n",
    "plt.bar(x,y,color='red',width=0.72,label=\"Axis NAV\")\n",
    "\n",
    "plt.xticks(rotation=90)\n",
    "plt.xlabel(\"Date\")\n",
    "plt.ylabel(\"NAV Change\")\n",
    "plt.title('Axis NAV Changes of All Positive')\n",
    "plt.legend()\n",
    "plt.show()"
   ]
  },
  {
   "cell_type": "code",
   "execution_count": null,
   "id": "df5c69eb",
   "metadata": {},
   "outputs": [],
   "source": [
    "sns.boxplot(x=axis_minus['nav_change'])"
   ]
  },
  {
   "cell_type": "code",
   "execution_count": null,
   "id": "35a80e04",
   "metadata": {},
   "outputs": [],
   "source": [
    "axis_minus['day'].value_counts()"
   ]
  },
  {
   "cell_type": "code",
   "execution_count": null,
   "id": "43372688",
   "metadata": {},
   "outputs": [],
   "source": [
    "minus_a=0\n",
    "minus_b=0\n",
    "minus_c=0\n",
    "minus_d=0\n",
    "\n",
    "for i in axis_minus.index:\n",
    "    \n",
    "    if ((axis_minus.nav_change[i] < 0) & (axis_minus.nav_change[i] >= -1)):\n",
    "        minus_a=minus_a+1\n",
    "        \n",
    "    elif ((axis_minus.nav_change[i] < -1) & (axis_minus.nav_change[i] >= -2)):\n",
    "        minus_c=minus_c+1\n",
    "        \n",
    "    elif ((axis_minus.nav_change[i] < -2) & (axis_minus.nav_change[i] >= 3)):\n",
    "        plus_c=plus_c+1\n",
    "    \n",
    "    else:\n",
    "        minus_d=minus_d+1\n",
    "        \n",
    "print(\"Fact: Axis NAV has fallen between 0 and 1 about %d times in the last %d weeks.\"%(minus_a,week_num))\n",
    "print(\"\")\n",
    "print(\"Fact: Axis NAV has fallen between 1 and 2 about %d times in the last %d weeks.\"%(minus_b,week_num))\n",
    "print(\"\")\n",
    "print(\"Fact: Axis NAV has fallen between 2 and 3 about %d times in the last %d weeks.\"%(minus_c,week_num))\n",
    "print(\"\")\n",
    "print(\"Fact: Axis NAV has fallen between 3 and above about %d times in the last %d weeks.\"%(minus_d,week_num))\n"
   ]
  },
  {
   "cell_type": "markdown",
   "id": "8ca3a3ca",
   "metadata": {},
   "source": [
    "#### Neutral Market (Stock Market Holidays)"
   ]
  },
  {
   "cell_type": "code",
   "execution_count": null,
   "id": "434a9ea0",
   "metadata": {},
   "outputs": [],
   "source": [
    "axis_neutral = axis[(axis['nav_change']==0)]"
   ]
  },
  {
   "cell_type": "code",
   "execution_count": null,
   "id": "6f749007",
   "metadata": {},
   "outputs": [],
   "source": [
    "axis_neutral.head()"
   ]
  },
  {
   "cell_type": "code",
   "execution_count": null,
   "id": "260922ee",
   "metadata": {},
   "outputs": [],
   "source": [
    "axis_neutral.shape"
   ]
  },
  {
   "cell_type": "code",
   "execution_count": null,
   "id": "04af3f94",
   "metadata": {},
   "outputs": [],
   "source": [
    "axis_neutral.count()"
   ]
  },
  {
   "cell_type": "code",
   "execution_count": null,
   "id": "a2e2794c",
   "metadata": {},
   "outputs": [],
   "source": [
    "axis_neutral['day'].value_counts()"
   ]
  },
  {
   "cell_type": "code",
   "execution_count": null,
   "id": "b4c67b5f",
   "metadata": {},
   "outputs": [],
   "source": [
    "import plotly.graph_objects as go\n",
    "\n",
    "labels = ['Total','Trading','Positive','Negative','Neutral']\n",
    "values = [axis.day.count(),axis_working.day.count(),axis_plus.day.count(),axis_minus.day.count(),axis_neutral.day.count()]\n",
    "fig = go.Figure()\n",
    "fig.add_trace(go.Bar(\n",
    "    x=labels,\n",
    "    y=values,\n",
    "    width=[0.7, 0.7, 0.7, 0.7, 0.7], # customize width here\n",
    "    name='Primary Product',\n",
    "    marker_color='royalblue'\n",
    "))\n",
    "\n",
    "# Here we modify the tickangle of the xaxis, resulting in rotated labels.\n",
    "fig.update_layout(barmode='group', xaxis_tickangle=-30)\n",
    "\n",
    "fig.update_layout(\n",
    "    title_font_family=\"Times New Roman\",\n",
    "    title_font_color=\"black\"\n",
    ")\n",
    "\n",
    "fig.update_layout(title_text='Axis performance 2022')\n",
    "annotations = []\n",
    "# Source\n",
    "annotations.append(dict(xref='paper', yref='paper', x=0.5, y=-0.1,\n",
    "                              xanchor='center', yanchor='top',\n",
    "                              text='Axis Long Term Equity Direct Plan',\n",
    "                              font=dict(family='Arial',\n",
    "                                        size=16,\n",
    "                                        color='rgb(20, 20, 19)'),\n",
    "                              showarrow=False))\n",
    "\n",
    "fig.update_layout(annotations=annotations)\n",
    "\n",
    "fig.show()"
   ]
  },
  {
   "cell_type": "markdown",
   "id": "39aaf9fc",
   "metadata": {},
   "source": [
    "### Day-Wise Stats\n",
    "#### Saturday "
   ]
  },
  {
   "cell_type": "code",
   "execution_count": null,
   "id": "d317d1ef",
   "metadata": {},
   "outputs": [],
   "source": [
    "saturday=axis[axis.day=='Saturday']\n",
    "saturday.head()"
   ]
  },
  {
   "cell_type": "code",
   "execution_count": null,
   "id": "456daeb3",
   "metadata": {},
   "outputs": [],
   "source": [
    "saturday.shape"
   ]
  },
  {
   "cell_type": "code",
   "execution_count": null,
   "id": "f0b0f00a",
   "metadata": {},
   "outputs": [],
   "source": [
    "saturday.count()"
   ]
  },
  {
   "cell_type": "code",
   "execution_count": null,
   "id": "b48c03a1",
   "metadata": {},
   "outputs": [],
   "source": [
    "saturday.describe()"
   ]
  },
  {
   "cell_type": "markdown",
   "id": "5a6d66da",
   "metadata": {},
   "source": [
    "#### Sunday"
   ]
  },
  {
   "cell_type": "code",
   "execution_count": null,
   "id": "a68959f4",
   "metadata": {},
   "outputs": [],
   "source": [
    "sunday=axis[axis.day=='Sunday']\n",
    "sunday.head()"
   ]
  },
  {
   "cell_type": "code",
   "execution_count": null,
   "id": "554b6ff4",
   "metadata": {},
   "outputs": [],
   "source": [
    "sunday.shape"
   ]
  },
  {
   "cell_type": "code",
   "execution_count": null,
   "id": "9ce17c26",
   "metadata": {},
   "outputs": [],
   "source": [
    "sunday.count()"
   ]
  },
  {
   "cell_type": "code",
   "execution_count": null,
   "id": "03576ba4",
   "metadata": {},
   "outputs": [],
   "source": [
    "sunday.describe()"
   ]
  },
  {
   "cell_type": "markdown",
   "id": "63281b27",
   "metadata": {},
   "source": [
    "#### Monday"
   ]
  },
  {
   "cell_type": "code",
   "execution_count": null,
   "id": "86fa8983",
   "metadata": {},
   "outputs": [],
   "source": [
    "monday=axis_working[axis_working.day=='Monday']\n",
    "monday.head()"
   ]
  },
  {
   "cell_type": "code",
   "execution_count": null,
   "id": "f3f848cd",
   "metadata": {},
   "outputs": [],
   "source": [
    "monday.shape"
   ]
  },
  {
   "cell_type": "code",
   "execution_count": null,
   "id": "050fe9d5",
   "metadata": {},
   "outputs": [],
   "source": [
    "monday.count()"
   ]
  },
  {
   "cell_type": "code",
   "execution_count": null,
   "id": "351c5a88",
   "metadata": {},
   "outputs": [],
   "source": [
    "# Import Libraries\n",
    "import matplotlib.pyplot as plt\n",
    "\n",
    "# Create figure\n",
    "fig = plt.figure()\n",
    "\n",
    "# Figure size\n",
    "fig.set_size_inches(15,8)\n",
    "\n",
    "x=monday[\"date\"]\n",
    "y=monday[\"nav_change\"]\n",
    "plt.bar(x,y,color='royalblue',width=0.72,label=\"Monday\")\n",
    "\n",
    "plt.xticks(rotation=90)\n",
    "plt.xlabel(\"Date\")\n",
    "plt.ylabel(\"NAV Value Change\")\n",
    "plt.title('Overview of Changes on Monday')\n",
    "plt.legend()\n",
    "plt.show()"
   ]
  },
  {
   "cell_type": "code",
   "execution_count": null,
   "id": "3373bc47",
   "metadata": {},
   "outputs": [],
   "source": [
    "monday.describe()"
   ]
  },
  {
   "cell_type": "code",
   "execution_count": null,
   "id": "ebc46981",
   "metadata": {},
   "outputs": [],
   "source": [
    "mon=round(monday[('nav_change_in_percent')].mean(), 2)\n",
    "mon"
   ]
  },
  {
   "cell_type": "markdown",
   "id": "ef1cfcd6",
   "metadata": {},
   "source": [
    "#### Tuesday"
   ]
  },
  {
   "cell_type": "code",
   "execution_count": null,
   "id": "0cbaa71a",
   "metadata": {},
   "outputs": [],
   "source": [
    "tuesday=axis_working[axis_working.day=='Tuesday']\n",
    "tuesday.head()"
   ]
  },
  {
   "cell_type": "code",
   "execution_count": null,
   "id": "51d12a37",
   "metadata": {},
   "outputs": [],
   "source": [
    "tuesday.shape"
   ]
  },
  {
   "cell_type": "code",
   "execution_count": null,
   "id": "dd96373d",
   "metadata": {},
   "outputs": [],
   "source": [
    "tuesday.count()"
   ]
  },
  {
   "cell_type": "code",
   "execution_count": null,
   "id": "5e62d854",
   "metadata": {},
   "outputs": [],
   "source": [
    "# Import Libraries\n",
    "import matplotlib.pyplot as plt\n",
    "\n",
    "# Create figure\n",
    "fig = plt.figure()\n",
    "\n",
    "# Figure size\n",
    "fig.set_size_inches(15,8)\n",
    "\n",
    "x=tuesday[\"date\"]\n",
    "y=tuesday[\"nav_change\"]\n",
    "plt.bar(x,y,color='royalblue',width=0.72,label=\"Tuesday\")\n",
    "\n",
    "plt.xticks(rotation=90)\n",
    "plt.xlabel(\"Date\")\n",
    "plt.ylabel(\"NAV Value Change\")\n",
    "plt.title('Overview of Changes on Tuesday')\n",
    "plt.legend()\n",
    "plt.show()"
   ]
  },
  {
   "cell_type": "code",
   "execution_count": null,
   "id": "f50a4095",
   "metadata": {},
   "outputs": [],
   "source": [
    "tuesday.describe()"
   ]
  },
  {
   "cell_type": "code",
   "execution_count": null,
   "id": "91558109",
   "metadata": {},
   "outputs": [],
   "source": [
    "tue=round(tuesday[('nav_change_in_percent')].mean(), 2)\n",
    "tue"
   ]
  },
  {
   "cell_type": "markdown",
   "id": "a1647dff",
   "metadata": {},
   "source": [
    "#### Wednesday"
   ]
  },
  {
   "cell_type": "code",
   "execution_count": null,
   "id": "f10e4608",
   "metadata": {},
   "outputs": [],
   "source": [
    "wednesday=axis_working[axis_working.day=='Wednesday']\n",
    "wednesday.head()"
   ]
  },
  {
   "cell_type": "code",
   "execution_count": null,
   "id": "b3325987",
   "metadata": {},
   "outputs": [],
   "source": [
    "wednesday.shape"
   ]
  },
  {
   "cell_type": "code",
   "execution_count": null,
   "id": "5c5f2bd7",
   "metadata": {},
   "outputs": [],
   "source": [
    "wednesday.count()"
   ]
  },
  {
   "cell_type": "code",
   "execution_count": null,
   "id": "6c8916e4",
   "metadata": {},
   "outputs": [],
   "source": [
    "# Import Libraries\n",
    "import matplotlib.pyplot as plt\n",
    "\n",
    "# Create figure\n",
    "fig = plt.figure()\n",
    "\n",
    "# Figure size\n",
    "fig.set_size_inches(15,8)\n",
    "\n",
    "x=wednesday[\"date\"]\n",
    "y=wednesday[\"nav_change\"]\n",
    "plt.bar(x,y,color='royalblue',width=0.72,label=\"Wednesday\")\n",
    "\n",
    "plt.xticks(rotation=90)\n",
    "plt.xlabel(\"Date\")\n",
    "plt.ylabel(\"NAV Value Change\")\n",
    "plt.title('Overview of Changes on Wednesday')\n",
    "plt.legend()\n",
    "plt.show()"
   ]
  },
  {
   "cell_type": "code",
   "execution_count": null,
   "id": "60ca178b",
   "metadata": {},
   "outputs": [],
   "source": [
    "wednesday.describe()"
   ]
  },
  {
   "cell_type": "code",
   "execution_count": null,
   "id": "148df36c",
   "metadata": {},
   "outputs": [],
   "source": [
    "wed=round(wednesday[('nav_change_in_percent')].mean(), 2)\n",
    "wed"
   ]
  },
  {
   "cell_type": "markdown",
   "id": "d251efc3",
   "metadata": {},
   "source": [
    "#### Thursday"
   ]
  },
  {
   "cell_type": "code",
   "execution_count": null,
   "id": "ca418bc1",
   "metadata": {},
   "outputs": [],
   "source": [
    "thursday=axis_working[axis_working.day=='Thursday']\n",
    "thursday.head()"
   ]
  },
  {
   "cell_type": "code",
   "execution_count": null,
   "id": "70c59f85",
   "metadata": {},
   "outputs": [],
   "source": [
    "thursday.shape"
   ]
  },
  {
   "cell_type": "code",
   "execution_count": null,
   "id": "f86f1115",
   "metadata": {},
   "outputs": [],
   "source": [
    "thursday.count()"
   ]
  },
  {
   "cell_type": "code",
   "execution_count": null,
   "id": "eb51945f",
   "metadata": {},
   "outputs": [],
   "source": [
    "# Import Libraries\n",
    "import matplotlib.pyplot as plt\n",
    "\n",
    "# Create figure\n",
    "fig = plt.figure()\n",
    "\n",
    "# Figure size\n",
    "fig.set_size_inches(15,8)\n",
    "\n",
    "x=thursday[\"date\"]\n",
    "y=thursday[\"nav_change\"]\n",
    "plt.bar(x,y,color='royalblue',width=0.72,label=\"Thursday\")\n",
    "\n",
    "plt.xticks(rotation=90)\n",
    "plt.xlabel(\"Date\")\n",
    "plt.ylabel(\"NAV Value Change\")\n",
    "plt.title('Overview of Changes on Thursday')\n",
    "plt.legend()\n",
    "plt.show()"
   ]
  },
  {
   "cell_type": "code",
   "execution_count": null,
   "id": "2c9c1cc2",
   "metadata": {},
   "outputs": [],
   "source": [
    "thursday.describe()"
   ]
  },
  {
   "cell_type": "code",
   "execution_count": null,
   "id": "58ce0441",
   "metadata": {},
   "outputs": [],
   "source": [
    "thur=round(thursday[('nav_change_in_percent')].mean(), 2)\n",
    "thur"
   ]
  },
  {
   "cell_type": "markdown",
   "id": "dc45fa52",
   "metadata": {},
   "source": [
    "#### Friday"
   ]
  },
  {
   "cell_type": "code",
   "execution_count": null,
   "id": "f6bfe8f2",
   "metadata": {},
   "outputs": [],
   "source": [
    "friday=axis_working[axis_working.day=='Friday']\n",
    "friday.head()"
   ]
  },
  {
   "cell_type": "code",
   "execution_count": null,
   "id": "266e5baa",
   "metadata": {},
   "outputs": [],
   "source": [
    "friday.shape"
   ]
  },
  {
   "cell_type": "code",
   "execution_count": null,
   "id": "aeefb5a5",
   "metadata": {},
   "outputs": [],
   "source": [
    "friday.count()"
   ]
  },
  {
   "cell_type": "code",
   "execution_count": null,
   "id": "a8a150c1",
   "metadata": {},
   "outputs": [],
   "source": [
    "# Import Libraries\n",
    "import matplotlib.pyplot as plt\n",
    "\n",
    "# Create figure\n",
    "fig = plt.figure()\n",
    "\n",
    "# Figure size\n",
    "fig.set_size_inches(15,8)\n",
    "\n",
    "x=friday[\"date\"]\n",
    "y=friday[\"nav_change\"]\n",
    "plt.bar(x,y,color='royalblue',width=0.72,label=\"Friday\")\n",
    "\n",
    "plt.xticks(rotation=90)\n",
    "plt.xlabel(\"Date\")\n",
    "plt.ylabel(\"NAV Value Change\")\n",
    "plt.title('Overview of Changes on Friday')\n",
    "plt.legend()\n",
    "plt.show()"
   ]
  },
  {
   "cell_type": "code",
   "execution_count": null,
   "id": "1d51c6ac",
   "metadata": {},
   "outputs": [],
   "source": [
    "friday.describe()"
   ]
  },
  {
   "cell_type": "code",
   "execution_count": null,
   "id": "724f2c2e",
   "metadata": {},
   "outputs": [],
   "source": [
    "fri=round(friday[('nav_change_in_percent')].mean(), 2)\n",
    "fri"
   ]
  },
  {
   "cell_type": "code",
   "execution_count": null,
   "id": "ddd0efc7",
   "metadata": {},
   "outputs": [],
   "source": [
    "# Import Libraries\n",
    "import matplotlib.pyplot as plt\n",
    "\n",
    "# Create figure\n",
    "fig = plt.figure()\n",
    "\n",
    "# Figure size\n",
    "fig.set_size_inches(15,8)\n",
    "\n",
    "labels = ['Monday','Tuesday','Wednesday','Thursday','Friday']\n",
    "values = [mon,tue,wed,thur,fri]\n",
    "\n",
    "plt.bar(labels,values,color='royalblue',width=0.72,label=\"mean\")\n",
    "\n",
    "plt.xlabel(\"Days\")\n",
    "plt.ylabel(\"Mean\")\n",
    "plt.title('Day vs Mean')\n",
    "plt.legend()\n",
    "plt.show()"
   ]
  },
  {
   "cell_type": "markdown",
   "id": "33f01eed",
   "metadata": {},
   "source": [
    "### Profit Percentage Probability\n",
    "#### Monday  Profit %"
   ]
  },
  {
   "cell_type": "code",
   "execution_count": null,
   "id": "6174c9e0",
   "metadata": {},
   "outputs": [],
   "source": [
    "monday_plus=len(axis_plus[axis_plus.day=='Monday'])\n",
    "print(monday_plus)\n",
    "\n",
    "total_monday=len(axis_working[axis_working.day=='Monday'])\n",
    "print(total_monday)"
   ]
  },
  {
   "cell_type": "code",
   "execution_count": null,
   "id": "b27c6844",
   "metadata": {},
   "outputs": [],
   "source": [
    "Monday_Profit_Percentage=round((monday_plus/total_monday)*100,2)\n",
    "Monday_Profit_Percentage"
   ]
  },
  {
   "cell_type": "markdown",
   "id": "53c92219",
   "metadata": {},
   "source": [
    "#### Tuesday  Profit %"
   ]
  },
  {
   "cell_type": "code",
   "execution_count": null,
   "id": "7b8b0c68",
   "metadata": {},
   "outputs": [],
   "source": [
    "tuesday_plus=len(axis_plus[axis_plus.day=='Tuesday'])\n",
    "print(tuesday_plus)\n",
    "\n",
    "total_tuesday=len(axis_working[axis_working.day=='Tuesday'])\n",
    "print(total_tuesday)"
   ]
  },
  {
   "cell_type": "code",
   "execution_count": null,
   "id": "40425218",
   "metadata": {},
   "outputs": [],
   "source": [
    "Tuesday_Profit_Percentage=round((tuesday_plus/total_tuesday)*100,2)\n",
    "Tuesday_Profit_Percentage"
   ]
  },
  {
   "cell_type": "markdown",
   "id": "5a20e01e",
   "metadata": {},
   "source": [
    "#### Wednesday Profit %"
   ]
  },
  {
   "cell_type": "code",
   "execution_count": null,
   "id": "2c069022",
   "metadata": {},
   "outputs": [],
   "source": [
    "wednesday_plus=len(axis_plus[axis_plus.day=='Wednesday'])\n",
    "print(wednesday_plus)\n",
    "\n",
    "total_wednesday=len(axis_working[axis_working.day=='Wednesday'])\n",
    "print(total_wednesday)"
   ]
  },
  {
   "cell_type": "code",
   "execution_count": null,
   "id": "eb238061",
   "metadata": {},
   "outputs": [],
   "source": [
    "Wednesday_Profit_Percentage=round((wednesday_plus/total_wednesday)*100,2)\n",
    "Wednesday_Profit_Percentage"
   ]
  },
  {
   "cell_type": "markdown",
   "id": "28f674a8",
   "metadata": {},
   "source": [
    "#### Thursday Profit %"
   ]
  },
  {
   "cell_type": "code",
   "execution_count": null,
   "id": "858bd3bf",
   "metadata": {},
   "outputs": [],
   "source": [
    "thursday_plus=len(axis_plus[axis_plus.day=='Thursday'])\n",
    "print(thursday_plus)\n",
    "\n",
    "total_thursday=len(axis_working[axis_working.day=='Thursday'])\n",
    "print(total_thursday)"
   ]
  },
  {
   "cell_type": "code",
   "execution_count": null,
   "id": "05ad7dd7",
   "metadata": {},
   "outputs": [],
   "source": [
    "Thursday_Profit_Percentage=round((thursday_plus/total_thursday)*100,2)\n",
    "Thursday_Profit_Percentage"
   ]
  },
  {
   "cell_type": "markdown",
   "id": "ccecf13e",
   "metadata": {},
   "source": [
    "#### Friday Profit %"
   ]
  },
  {
   "cell_type": "code",
   "execution_count": null,
   "id": "7f1b69e7",
   "metadata": {},
   "outputs": [],
   "source": [
    "friday_plus=len(axis_plus[axis_plus.day=='Friday'])\n",
    "print(friday_plus)\n",
    "\n",
    "total_friday=len(axis_working[axis_working.day=='Friday'])\n",
    "print(total_friday)"
   ]
  },
  {
   "cell_type": "code",
   "execution_count": null,
   "id": "ff9c077a",
   "metadata": {},
   "outputs": [],
   "source": [
    "Friday_Profit_Percentage=round((friday_plus/total_friday)*100,2)\n",
    "Friday_Profit_Percentage"
   ]
  },
  {
   "cell_type": "code",
   "execution_count": null,
   "id": "818eb2b5",
   "metadata": {},
   "outputs": [],
   "source": [
    "# Import Libraries\n",
    "import matplotlib.pyplot as plt\n",
    "\n",
    "# Create figure\n",
    "fig = plt.figure()\n",
    "\n",
    "# Figure size\n",
    "fig.set_size_inches(16,10)\n",
    "\n",
    "labels = ['Monday','Tuesday','Wednesday','Thursday','Friday']\n",
    "values = [Monday_Profit_Percentage,Tuesday_Profit_Percentage,Wednesday_Profit_Percentage,\n",
    "          Thursday_Profit_Percentage,Friday_Profit_Percentage]\n",
    "\n",
    "plt.bar(labels,values,color='green',width=0.72,label=\"Profit\")\n",
    "\n",
    "plt.xlabel(\"Day\")\n",
    "plt.ylabel(\"Profit Percentage\")\n",
    "plt.title('Profit Percentage Probability')\n",
    "plt.legend()\n",
    "plt.show()"
   ]
  },
  {
   "cell_type": "code",
   "execution_count": null,
   "id": "65e2be48",
   "metadata": {},
   "outputs": [],
   "source": [
    "import plotly.graph_objects as go\n",
    "labels = ['Monday','Tuesday','Wednesday','Thursday','Friday']\n",
    "values = [Monday_Profit_Percentage,Tuesday_Profit_Percentage,Wednesday_Profit_Percentage,\n",
    "          Thursday_Profit_Percentage,Friday_Profit_Percentage]\n",
    "fig = go.Figure()\n",
    "fig.add_trace(go.Bar(\n",
    "    x=labels,\n",
    "    y=values,\n",
    "    width=[0.6, 0.6, 0.6, 0.6, 0.6], # customize width here\n",
    "    name='Primary Product',\n",
    "    marker_color='green'\n",
    "))\n",
    "\n",
    "# Here we modify the tickangle of the xaxis, resulting in rotated labels.\n",
    "fig.update_layout(barmode='group', xaxis_tickangle=-25)\n",
    "\n",
    "fig.update_layout(\n",
    "    title_font_family=\"Times New Roman\",\n",
    "    title_font_color=\"black\"\n",
    ")\n",
    "\n",
    "fig.update_layout(title_text='Axis Long Term Equity Direct Plan')\n",
    "annotations = []\n",
    "# Source\n",
    "annotations.append(dict(xref='paper', yref='paper', x=0.5, y=-0.1,\n",
    "                              xanchor='center', yanchor='top',\n",
    "                              text='Axis Profit Percentage Probability',\n",
    "                              font=dict(family='Arial',\n",
    "                                        size=16,\n",
    "                                        color='rgb(20, 20, 19)'),\n",
    "                              showarrow=False))\n",
    "\n",
    "fig.update_layout(annotations=annotations)\n",
    "\n",
    "fig.show()"
   ]
  },
  {
   "cell_type": "code",
   "execution_count": null,
   "id": "cd970ad7",
   "metadata": {},
   "outputs": [],
   "source": [
    "import plotly.graph_objects as go\n",
    "\n",
    "labels = ['Monday','Tuesday','Wednesday','Thursday','Friday']\n",
    "values = [Monday_Profit_Percentage,Tuesday_Profit_Percentage,Wednesday_Profit_Percentage,\n",
    "          Thursday_Profit_Percentage,Friday_Profit_Percentage]\n",
    "\n",
    "fig = go.Figure(data=[go.Pie(labels=labels, values=values)])\n",
    "fig.update_layout(\n",
    "    title_font_family=\"Times New Roman\",\n",
    "    title_font_color=\"black\"\n",
    ")\n",
    "\n",
    "fig.update_layout(title_text='Axis Long Term Equity Direct Plan')\n",
    "annotations = []\n",
    "# Source\n",
    "annotations.append(dict(xref='paper', yref='paper', x=0.5, y=-0.1,\n",
    "                              xanchor='center', yanchor='top',\n",
    "                              text='Axis Profit Percentage Probability',\n",
    "                              font=dict(family='Arial',\n",
    "                                        size=16,\n",
    "                                        color='rgb(20, 20, 19)'),\n",
    "                              showarrow=False))\n",
    "\n",
    "fig.update_layout(annotations=annotations)\n",
    "\n",
    "\n",
    "fig.show()"
   ]
  },
  {
   "cell_type": "markdown",
   "id": "4826f192",
   "metadata": {},
   "source": [
    "### Loss Percentage Probability\n",
    "\n",
    "#### Monday  Loss %"
   ]
  },
  {
   "cell_type": "code",
   "execution_count": null,
   "id": "62ac6d64",
   "metadata": {},
   "outputs": [],
   "source": [
    "#axis_minus\n",
    "monday_minus=len(axis_minus[axis_minus.day=='Monday'])\n",
    "print(monday_minus)\n",
    "\n",
    "total_monday=len(axis_working[axis_working.day=='Monday'])\n",
    "print(total_monday)"
   ]
  },
  {
   "cell_type": "code",
   "execution_count": null,
   "id": "a369371e",
   "metadata": {},
   "outputs": [],
   "source": [
    "Monday_Loss_Percentage=round((monday_minus/total_monday)*100,2)\n",
    "Monday_Loss_Percentage"
   ]
  },
  {
   "cell_type": "markdown",
   "id": "84eb6a4b",
   "metadata": {},
   "source": [
    "#### Tuesday  Loss %"
   ]
  },
  {
   "cell_type": "code",
   "execution_count": null,
   "id": "5b019139",
   "metadata": {},
   "outputs": [],
   "source": [
    "tuesday_minus=len(axis_minus[axis_minus.day=='Tuesday'])\n",
    "print(tuesday_minus)\n",
    "\n",
    "total_tuesday=len(axis_working[axis_working.day=='Tuesday'])\n",
    "print(total_tuesday)"
   ]
  },
  {
   "cell_type": "code",
   "execution_count": null,
   "id": "2d1faab6",
   "metadata": {},
   "outputs": [],
   "source": [
    "Tuesday_Loss_Percentage=round((tuesday_minus/total_tuesday)*100,2)\n",
    "Tuesday_Loss_Percentage"
   ]
  },
  {
   "cell_type": "markdown",
   "id": "10e21203",
   "metadata": {},
   "source": [
    "#### Wednesday Loss %"
   ]
  },
  {
   "cell_type": "code",
   "execution_count": null,
   "id": "3670bde9",
   "metadata": {},
   "outputs": [],
   "source": [
    "wednesday_minus=len(axis_minus[axis_minus.day=='Wednesday'])\n",
    "print(wednesday_minus)\n",
    "\n",
    "total_wednesday=len(axis_working[axis_working.day=='Wednesday'])\n",
    "print(total_wednesday)"
   ]
  },
  {
   "cell_type": "code",
   "execution_count": null,
   "id": "979c4a4d",
   "metadata": {},
   "outputs": [],
   "source": [
    "Wednesday_Loss_Percentage=round((wednesday_minus/total_wednesday)*100,2)\n",
    "Wednesday_Loss_Percentage"
   ]
  },
  {
   "cell_type": "markdown",
   "id": "a31bc85f",
   "metadata": {},
   "source": [
    "#### Thursday Loss %"
   ]
  },
  {
   "cell_type": "code",
   "execution_count": null,
   "id": "9a31b0d4",
   "metadata": {},
   "outputs": [],
   "source": [
    "thursday_minus=len(axis_minus[axis_minus.day=='Thursday'])\n",
    "print(thursday_minus)\n",
    "\n",
    "total_thursday=len(axis_working[axis_working.day=='Thursday'])\n",
    "print(total_thursday)"
   ]
  },
  {
   "cell_type": "code",
   "execution_count": null,
   "id": "5be2189c",
   "metadata": {},
   "outputs": [],
   "source": [
    "Thursday_Loss_Percentage=round((thursday_minus/total_thursday)*100,2)\n",
    "Thursday_Loss_Percentage"
   ]
  },
  {
   "cell_type": "markdown",
   "id": "e869bb9e",
   "metadata": {},
   "source": [
    "#### Friday Loss %"
   ]
  },
  {
   "cell_type": "code",
   "execution_count": null,
   "id": "1d1c6bcb",
   "metadata": {},
   "outputs": [],
   "source": [
    "friday_minus=len(axis_minus[axis_minus.day=='Friday'])\n",
    "print(friday_minus)\n",
    "\n",
    "total_friday=len(axis_working[axis_working.day=='Friday'])\n",
    "print(total_friday)"
   ]
  },
  {
   "cell_type": "code",
   "execution_count": null,
   "id": "d1c471f5",
   "metadata": {},
   "outputs": [],
   "source": [
    "Friday_Loss_Percentage=round((friday_minus/total_friday)*100,2)\n",
    "Friday_Loss_Percentage"
   ]
  },
  {
   "cell_type": "code",
   "execution_count": null,
   "id": "f0b06181",
   "metadata": {
    "scrolled": true
   },
   "outputs": [],
   "source": [
    "# Import Libraries\n",
    "import matplotlib.pyplot as plt\n",
    "\n",
    "# Create figure\n",
    "fig = plt.figure()\n",
    "\n",
    "# Figure size\n",
    "fig.set_size_inches(15,8)\n",
    "\n",
    "labels = ['Monday','Tuesday','Wednesday','Thursday','Friday']\n",
    "values = [Monday_Loss_Percentage,Tuesday_Loss_Percentage,Wednesday_Loss_Percentage,\n",
    "          Thursday_Loss_Percentage,Friday_Loss_Percentage]\n",
    "\n",
    "plt.bar(labels,values,color='red',width=0.72,label=\"Loss\")\n",
    "\n",
    "plt.xlabel(\"Days\")\n",
    "plt.ylabel(\"Loss Percentage\")\n",
    "plt.title('Loss Percentage Probability')\n",
    "plt.legend()\n",
    "plt.show()"
   ]
  },
  {
   "cell_type": "code",
   "execution_count": null,
   "id": "f2cce479",
   "metadata": {
    "scrolled": true
   },
   "outputs": [],
   "source": [
    "import plotly.graph_objects as go\n",
    "labels = ['Monday','Tuesday','Wednesday','Thursday','Friday']\n",
    "values = [Monday_Loss_Percentage,Tuesday_Loss_Percentage,Wednesday_Loss_Percentage,\n",
    "          Thursday_Loss_Percentage,Friday_Loss_Percentage]\n",
    "fig = go.Figure()\n",
    "fig.add_trace(go.Bar(\n",
    "    x=labels,\n",
    "    y=values,\n",
    "    width=[0.6, 0.6, 0.6, 0.6, 0.6], # customize width here\n",
    "    name='Primary Product',\n",
    "    marker_color='red'\n",
    "))\n",
    "\n",
    "# Here we modify the tickangle of the xaxis, resulting in rotated labels.\n",
    "fig.update_layout(barmode='group', xaxis_tickangle=-25)\n",
    "\n",
    "fig.update_layout(\n",
    "    title_font_family=\"Times New Roman\",\n",
    "    title_font_color=\"black\"\n",
    ")\n",
    "\n",
    "fig.update_layout(title_text='Axis Long Term Equity Direct Plan')\n",
    "annotations = []\n",
    "# Source\n",
    "annotations.append(dict(xref='paper', yref='paper', x=0.5, y=-0.1,\n",
    "                              xanchor='center', yanchor='top',\n",
    "                              text='Axis Loss Percentage Probability',\n",
    "                              font=dict(family='Arial',\n",
    "                                        size=16,\n",
    "                                        color='rgb(20, 20, 19)'),\n",
    "                              showarrow=False))\n",
    "\n",
    "fig.update_layout(annotations=annotations)\n",
    "\n",
    "fig.show()"
   ]
  },
  {
   "cell_type": "code",
   "execution_count": null,
   "id": "52660b52",
   "metadata": {},
   "outputs": [],
   "source": [
    "import plotly.graph_objects as go\n",
    "\n",
    "labels = ['Monday','Tuesday','Wednesday','Thursday','Friday']\n",
    "values = [Monday_Loss_Percentage,Tuesday_Loss_Percentage,Wednesday_Loss_Percentage,\n",
    "          Thursday_Loss_Percentage,Friday_Loss_Percentage]\n",
    "\n",
    "fig = go.Figure(data=[go.Pie(labels=labels, values=values)])\n",
    "fig.update_layout(\n",
    "    title_font_family=\"Times New Roman\",\n",
    "    title_font_color=\"black\"\n",
    ")\n",
    "\n",
    "fig.update_layout(title_text='Axis Long Term Equity Direct Plan')\n",
    "annotations = []\n",
    "# Source\n",
    "annotations.append(dict(xref='paper', yref='paper', x=0.5, y=-0.1,\n",
    "                              xanchor='center', yanchor='top',\n",
    "                              text='Axis Loss Percentage Probability',\n",
    "                              font=dict(family='Arial',\n",
    "                                        size=16,\n",
    "                                        color='rgb(20, 20, 19)'),\n",
    "                              showarrow=False))\n",
    "\n",
    "fig.update_layout(annotations=annotations)\n",
    "\n",
    "\n",
    "fig.show()"
   ]
  },
  {
   "cell_type": "code",
   "execution_count": null,
   "id": "eb38b490",
   "metadata": {},
   "outputs": [],
   "source": [
    "import plotly.graph_objects as go\n",
    "\n",
    "labels = ['Monday','Tuesday','Wednesday','Thursday','Friday']\n",
    "profit_values = [Monday_Profit_Percentage,Tuesday_Profit_Percentage,Wednesday_Profit_Percentage,\n",
    "          Thursday_Profit_Percentage,Friday_Profit_Percentage]\n",
    "loss_values = [Monday_Loss_Percentage,Tuesday_Loss_Percentage,Wednesday_Loss_Percentage,\n",
    "          Thursday_Loss_Percentage,Friday_Loss_Percentage]\n",
    "fig = go.Figure()\n",
    "fig.add_trace(go.Bar(\n",
    "    x=labels,\n",
    "    y=profit_values,\n",
    "    name='Profit',\n",
    "    marker_color='green'\n",
    "))\n",
    "\n",
    "fig.add_trace(go.Bar(\n",
    "    x=labels,\n",
    "    y=loss_values,\n",
    "    name='Loss',\n",
    "    marker_color='red'\n",
    "))\n",
    "\n",
    "# Here we modify the tickangle of the xaxis, resulting in rotated labels.\n",
    "fig.update_layout(barmode='group', xaxis_tickangle=-20)\n",
    "\n",
    "fig.update_layout(\n",
    "    title_font_family=\"Times New Roman\",\n",
    "    title_font_color=\"black\"\n",
    ")\n",
    "\n",
    "fig.update_layout(title_text='Axis Long Term Equity Direct Plan')\n",
    "annotations = []\n",
    "# Source\n",
    "annotations.append(dict(xref='paper', yref='paper', x=0.5, y=-0.1,\n",
    "                              xanchor='center', yanchor='top',\n",
    "                              text='Day Wise Performance of Axis',\n",
    "                              font=dict(family='Arial',\n",
    "                                        size=16,\n",
    "                                        color='rgb(20, 20, 19)'),\n",
    "                              showarrow=False))\n",
    "\n",
    "fig.update_layout(annotations=annotations)\n",
    "\n",
    "\n",
    "fig.show()\n"
   ]
  },
  {
   "cell_type": "code",
   "execution_count": null,
   "id": "303c3e91",
   "metadata": {},
   "outputs": [],
   "source": []
  }
 ],
 "metadata": {
  "kernelspec": {
   "display_name": "Python 3 (ipykernel)",
   "language": "python",
   "name": "python3"
  },
  "language_info": {
   "codemirror_mode": {
    "name": "ipython",
    "version": 3
   },
   "file_extension": ".py",
   "mimetype": "text/x-python",
   "name": "python",
   "nbconvert_exporter": "python",
   "pygments_lexer": "ipython3",
   "version": "3.10.5"
  }
 },
 "nbformat": 4,
 "nbformat_minor": 5
}
