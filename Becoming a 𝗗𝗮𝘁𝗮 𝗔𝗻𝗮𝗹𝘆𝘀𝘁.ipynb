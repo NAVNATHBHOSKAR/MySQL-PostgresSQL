{
 "cells": [
  {
   "cell_type": "code",
   "execution_count": 1,
   "id": "f2d84def",
   "metadata": {},
   "outputs": [
    {
     "name": "stdout",
     "output_type": "stream",
     "text": [
      "\n",
      "𝟭 - 𝗘𝘅𝗰𝗲𝗹: Start with Excel, Analyzing Data in Excel empowers you to understand data through detailed visual summaries, trends, and patterns.\n",
      "\n",
      "- 𝗘𝘅𝗰𝗲𝗹 𝗥𝗲𝘀𝗼𝘂𝗿𝗰𝗲: https://bit.ly/3BOIiZ5\n",
      "\n",
      "\n",
      "𝟮 - (𝗶) 𝗣𝗿𝗼𝗴𝗿𝗮𝗺𝗺𝗶𝗻𝗴 𝗟𝗮𝗻𝗴𝘂𝗮𝗴𝗲: Choose 'Python' or ' R ', any one language for your journey, Python may be the ideal choice if you want to transition to machine learning.\n",
      "\n",
      "- 𝗣𝘆𝘁𝗵𝗼𝗻 𝗥𝗲𝘀𝗼𝘂𝗿𝗰𝗲: https://lnkd.in/d7YTEXM7\n",
      "\n",
      "(𝗶𝗶) 𝗥 𝗳𝗼𝗿 𝗗𝗮𝘁𝗮 𝗔𝗻𝗮𝗹𝘆𝘀𝗶𝘀: If you're passionate about the statistical computation and data visualization aspects of data analysis, R could be a good fit for you.\n",
      "\n",
      "- '𝗥' 𝗥𝗲𝘀𝗼𝘂𝗿𝗰𝗲: https://lnkd.in/dx6DEk35\n",
      "\n",
      "𝟯 - 𝗗𝗮𝘁𝗮𝗯𝗮𝘀𝗲𝘀: Learn both SQL & No SQL databases\n",
      "\n",
      "- MySQL Resources: https://lnkd.in/dPZuDM57\n",
      "\n",
      "- Mongo DB: https://lnkd.in/dQ325DHB\n",
      "\n",
      "𝟰- 𝗦𝘁𝗮𝘁𝗶𝘀𝘁𝗶𝗰𝘀 & 𝗣𝗿𝗼𝗯𝗮𝗯𝗶𝗹𝗶𝘁𝘆: Master the concepts of Descriptive Statistics and Inferential Statistics\n",
      "\n",
      "- 𝗥𝗲𝘀𝗼𝘂𝗿𝗰𝗲: https://lnkd.in/dtr7YSzz\n",
      "\n",
      "𝟱 - 𝗜𝗻𝘁𝗲𝗿𝗮𝗰𝘁𝗶𝘃𝗲 𝗗𝗮𝘁𝗮 𝗩𝗶𝘀𝘂𝗮𝗹𝗶𝘀𝗮𝘁𝗶𝗼𝗻 𝗧𝗼𝗼𝗹𝘀: Learn Tableau or Power BI\n",
      "- [Power BI] Resource: https://lnkd.in/dAds5Jfa\n",
      "\n",
      "- [Tableau] Resource: https://lnkd.in/duCEUZKZ\n",
      "\n",
      "Moreover, here is the quarter-wise roadmap to become a Data Scientist in 2023: https://lnkd.in/dX-epQqd\n",
      "\n"
     ]
    }
   ],
   "source": [
    "print('''\n",
    "𝟭 - 𝗘𝘅𝗰𝗲𝗹: Start with Excel, Analyzing Data in Excel empowers you to understand \n",
    "data through detailed visual summaries, trends, and patterns.\n",
    "\n",
    "- 𝗘𝘅𝗰𝗲𝗹 𝗥𝗲𝘀𝗼𝘂𝗿𝗰𝗲: https://bit.ly/3BOIiZ5\n",
    "\n",
    "\n",
    "𝟮 - (𝗶) 𝗣𝗿𝗼𝗴𝗿𝗮𝗺𝗺𝗶𝗻𝗴 𝗟𝗮𝗻𝗴𝘂𝗮𝗴𝗲: Choose 'Python' or ' R ', any one language for your journey, Python may \n",
    "be the ideal choice if you want to transition to machine learning.\n",
    "\n",
    "- 𝗣𝘆𝘁𝗵𝗼𝗻 𝗥𝗲𝘀𝗼𝘂𝗿𝗰𝗲: https://lnkd.in/d7YTEXM7\n",
    "\n",
    "(𝗶𝗶) 𝗥 𝗳𝗼𝗿 𝗗𝗮𝘁𝗮 𝗔𝗻𝗮𝗹𝘆𝘀𝗶𝘀: If you're passionate about the statistical computation and data visualization \n",
    "aspects of data analysis, R could be a good fit for you.\n",
    "\n",
    "- '𝗥' 𝗥𝗲𝘀𝗼𝘂𝗿𝗰𝗲: https://lnkd.in/dx6DEk35\n",
    "\n",
    "𝟯 - 𝗗𝗮𝘁𝗮𝗯𝗮𝘀𝗲𝘀: Learn both SQL & No SQL databases\n",
    "\n",
    "- MySQL Resources: https://lnkd.in/dPZuDM57\n",
    "\n",
    "- Mongo DB: https://lnkd.in/dQ325DHB\n",
    "\n",
    "𝟰- 𝗦𝘁𝗮𝘁𝗶𝘀𝘁𝗶𝗰𝘀 & 𝗣𝗿𝗼𝗯𝗮𝗯𝗶𝗹𝗶𝘁𝘆: Master the concepts of Descriptive Statistics and Inferential Statistics\n",
    "\n",
    "- 𝗥𝗲𝘀𝗼𝘂𝗿𝗰𝗲: https://lnkd.in/dtr7YSzz\n",
    "\n",
    "𝟱 - 𝗜𝗻𝘁𝗲𝗿𝗮𝗰𝘁𝗶𝘃𝗲 𝗗𝗮𝘁𝗮 𝗩𝗶𝘀𝘂𝗮𝗹𝗶𝘀𝗮𝘁𝗶𝗼𝗻 𝗧𝗼𝗼𝗹𝘀: Learn Tableau or Power BI\n",
    "- [Power BI] Resource: https://lnkd.in/dAds5Jfa\n",
    "\n",
    "- [Tableau] Resource: https://lnkd.in/duCEUZKZ\n",
    "\n",
    "Moreover, here is the quarter-wise roadmap to become a Data Scientist in 2023: \n",
    "https://lnkd.in/dX-epQqd\n",
    "''')"
   ]
  },
  {
   "cell_type": "code",
   "execution_count": null,
   "id": "a5826c3e",
   "metadata": {},
   "outputs": [],
   "source": []
  }
 ],
 "metadata": {
  "kernelspec": {
   "display_name": "Python 3 (ipykernel)",
   "language": "python",
   "name": "python3"
  },
  "language_info": {
   "codemirror_mode": {
    "name": "ipython",
    "version": 3
   },
   "file_extension": ".py",
   "mimetype": "text/x-python",
   "name": "python",
   "nbconvert_exporter": "python",
   "pygments_lexer": "ipython3",
   "version": "3.10.5"
  }
 },
 "nbformat": 4,
 "nbformat_minor": 5
}
