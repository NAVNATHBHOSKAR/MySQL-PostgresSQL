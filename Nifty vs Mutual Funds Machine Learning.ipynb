{
 "cells": [
  {
   "cell_type": "markdown",
   "id": "681d9579",
   "metadata": {},
   "source": [
    "### Importing the Libraries"
   ]
  },
  {
   "cell_type": "code",
   "execution_count": 1,
   "id": "9acdeb7c",
   "metadata": {},
   "outputs": [],
   "source": [
    "import numpy as np\n",
    "import pandas as pd\n",
    "import matplotlib.pyplot as plt"
   ]
  },
  {
   "cell_type": "markdown",
   "id": "aefa42dc",
   "metadata": {},
   "source": [
    "### Import Dataset"
   ]
  },
  {
   "cell_type": "code",
   "execution_count": 2,
   "id": "508f4167",
   "metadata": {},
   "outputs": [
    {
     "data": {
      "text/html": [
       "<div>\n",
       "<style scoped>\n",
       "    .dataframe tbody tr th:only-of-type {\n",
       "        vertical-align: middle;\n",
       "    }\n",
       "\n",
       "    .dataframe tbody tr th {\n",
       "        vertical-align: top;\n",
       "    }\n",
       "\n",
       "    .dataframe thead th {\n",
       "        text-align: right;\n",
       "    }\n",
       "</style>\n",
       "<table border=\"1\" class=\"dataframe\">\n",
       "  <thead>\n",
       "    <tr style=\"text-align: right;\">\n",
       "      <th></th>\n",
       "      <th>Nifty 50 Change</th>\n",
       "      <th>Mutual Funds Changes</th>\n",
       "    </tr>\n",
       "  </thead>\n",
       "  <tbody>\n",
       "    <tr>\n",
       "      <th>0</th>\n",
       "      <td>0.00</td>\n",
       "      <td>0.00</td>\n",
       "    </tr>\n",
       "    <tr>\n",
       "      <th>1</th>\n",
       "      <td>0.00</td>\n",
       "      <td>0.00</td>\n",
       "    </tr>\n",
       "    <tr>\n",
       "      <th>2</th>\n",
       "      <td>271.65</td>\n",
       "      <td>237.16</td>\n",
       "    </tr>\n",
       "    <tr>\n",
       "      <th>3</th>\n",
       "      <td>179.55</td>\n",
       "      <td>89.12</td>\n",
       "    </tr>\n",
       "    <tr>\n",
       "      <th>4</th>\n",
       "      <td>120.60</td>\n",
       "      <td>128.29</td>\n",
       "    </tr>\n",
       "    <tr>\n",
       "      <th>...</th>\n",
       "      <td>...</td>\n",
       "      <td>...</td>\n",
       "    </tr>\n",
       "    <tr>\n",
       "      <th>312</th>\n",
       "      <td>-45.80</td>\n",
       "      <td>9.14</td>\n",
       "    </tr>\n",
       "    <tr>\n",
       "      <th>313</th>\n",
       "      <td>-128.80</td>\n",
       "      <td>-326.54</td>\n",
       "    </tr>\n",
       "    <tr>\n",
       "      <th>314</th>\n",
       "      <td>321.50</td>\n",
       "      <td>194.85</td>\n",
       "    </tr>\n",
       "    <tr>\n",
       "      <th>315</th>\n",
       "      <td>0.00</td>\n",
       "      <td>0.00</td>\n",
       "    </tr>\n",
       "    <tr>\n",
       "      <th>316</th>\n",
       "      <td>0.00</td>\n",
       "      <td>0.00</td>\n",
       "    </tr>\n",
       "  </tbody>\n",
       "</table>\n",
       "<p>317 rows × 2 columns</p>\n",
       "</div>"
      ],
      "text/plain": [
       "     Nifty 50 Change  Mutual Funds Changes\n",
       "0               0.00                  0.00\n",
       "1               0.00                  0.00\n",
       "2             271.65                237.16\n",
       "3             179.55                 89.12\n",
       "4             120.60                128.29\n",
       "..               ...                   ...\n",
       "312           -45.80                  9.14\n",
       "313          -128.80               -326.54\n",
       "314           321.50                194.85\n",
       "315             0.00                  0.00\n",
       "316             0.00                  0.00\n",
       "\n",
       "[317 rows x 2 columns]"
      ]
     },
     "execution_count": 2,
     "metadata": {},
     "output_type": "execute_result"
    }
   ],
   "source": [
    "dataset=pd.read_csv('Nifty_vs_Mutual_Funds.csv')\n",
    "dataset"
   ]
  },
  {
   "cell_type": "markdown",
   "id": "5955ccb5",
   "metadata": {},
   "source": [
    "#### How big is the dataset? (Rows and columns)"
   ]
  },
  {
   "cell_type": "code",
   "execution_count": 3,
   "id": "0e771fe4",
   "metadata": {},
   "outputs": [
    {
     "data": {
      "text/plain": [
       "(317, 2)"
      ]
     },
     "execution_count": 3,
     "metadata": {},
     "output_type": "execute_result"
    }
   ],
   "source": [
    "dataset.shape"
   ]
  },
  {
   "cell_type": "code",
   "execution_count": 4,
   "id": "f63b7e66",
   "metadata": {},
   "outputs": [
    {
     "name": "stdout",
     "output_type": "stream",
     "text": [
      "<class 'pandas.core.frame.DataFrame'>\n",
      "RangeIndex: 317 entries, 0 to 316\n",
      "Data columns (total 2 columns):\n",
      " #   Column                Non-Null Count  Dtype  \n",
      "---  ------                --------------  -----  \n",
      " 0   Nifty 50 Change       317 non-null    float64\n",
      " 1   Mutual Funds Changes  317 non-null    float64\n",
      "dtypes: float64(2)\n",
      "memory usage: 5.1 KB\n"
     ]
    }
   ],
   "source": [
    "dataset.info()"
   ]
  },
  {
   "cell_type": "markdown",
   "id": "9a95dd92",
   "metadata": {},
   "source": [
    "#### Data Pre-processing: Finding out NaN values"
   ]
  },
  {
   "cell_type": "code",
   "execution_count": 5,
   "id": "7dcbd6f7",
   "metadata": {},
   "outputs": [
    {
     "data": {
      "text/plain": [
       "Nifty 50 Change         False\n",
       "Mutual Funds Changes    False\n",
       "dtype: bool"
      ]
     },
     "execution_count": 5,
     "metadata": {},
     "output_type": "execute_result"
    }
   ],
   "source": [
    "dataset.isna().any()"
   ]
  },
  {
   "cell_type": "markdown",
   "id": "059339a5",
   "metadata": {},
   "source": [
    "#### Rename specific columns"
   ]
  },
  {
   "cell_type": "code",
   "execution_count": 6,
   "id": "15f48822",
   "metadata": {},
   "outputs": [],
   "source": [
    "dataset.rename(columns = {'Nifty 50 Change':'nifty_50_change','Mutual Funds Changes':'mutual_funds_changes'},inplace = True)"
   ]
  },
  {
   "cell_type": "code",
   "execution_count": 7,
   "id": "c9036714",
   "metadata": {},
   "outputs": [
    {
     "data": {
      "text/html": [
       "<div>\n",
       "<style scoped>\n",
       "    .dataframe tbody tr th:only-of-type {\n",
       "        vertical-align: middle;\n",
       "    }\n",
       "\n",
       "    .dataframe tbody tr th {\n",
       "        vertical-align: top;\n",
       "    }\n",
       "\n",
       "    .dataframe thead th {\n",
       "        text-align: right;\n",
       "    }\n",
       "</style>\n",
       "<table border=\"1\" class=\"dataframe\">\n",
       "  <thead>\n",
       "    <tr style=\"text-align: right;\">\n",
       "      <th></th>\n",
       "      <th>nifty_50_change</th>\n",
       "      <th>mutual_funds_changes</th>\n",
       "    </tr>\n",
       "  </thead>\n",
       "  <tbody>\n",
       "    <tr>\n",
       "      <th>0</th>\n",
       "      <td>0.00</td>\n",
       "      <td>0.00</td>\n",
       "    </tr>\n",
       "    <tr>\n",
       "      <th>1</th>\n",
       "      <td>0.00</td>\n",
       "      <td>0.00</td>\n",
       "    </tr>\n",
       "    <tr>\n",
       "      <th>2</th>\n",
       "      <td>271.65</td>\n",
       "      <td>237.16</td>\n",
       "    </tr>\n",
       "    <tr>\n",
       "      <th>3</th>\n",
       "      <td>179.55</td>\n",
       "      <td>89.12</td>\n",
       "    </tr>\n",
       "    <tr>\n",
       "      <th>4</th>\n",
       "      <td>120.60</td>\n",
       "      <td>128.29</td>\n",
       "    </tr>\n",
       "  </tbody>\n",
       "</table>\n",
       "</div>"
      ],
      "text/plain": [
       "   nifty_50_change  mutual_funds_changes\n",
       "0             0.00                  0.00\n",
       "1             0.00                  0.00\n",
       "2           271.65                237.16\n",
       "3           179.55                 89.12\n",
       "4           120.60                128.29"
      ]
     },
     "execution_count": 7,
     "metadata": {},
     "output_type": "execute_result"
    }
   ],
   "source": [
    "#having a glance at the first five records of the dataset\n",
    "dataset.head()"
   ]
  },
  {
   "cell_type": "markdown",
   "id": "dd3fe49f",
   "metadata": {},
   "source": [
    "### Importing the ML Libraries"
   ]
  },
  {
   "cell_type": "code",
   "execution_count": 8,
   "id": "330299b5",
   "metadata": {},
   "outputs": [],
   "source": [
    "import sklearn\n",
    "from sklearn.preprocessing import StandardScaler\n",
    "from sklearn.pipeline import Pipeline"
   ]
  },
  {
   "cell_type": "code",
   "execution_count": 9,
   "id": "9c2ba8fe",
   "metadata": {},
   "outputs": [
    {
     "data": {
      "text/html": [
       "<div>\n",
       "<style scoped>\n",
       "    .dataframe tbody tr th:only-of-type {\n",
       "        vertical-align: middle;\n",
       "    }\n",
       "\n",
       "    .dataframe tbody tr th {\n",
       "        vertical-align: top;\n",
       "    }\n",
       "\n",
       "    .dataframe thead th {\n",
       "        text-align: right;\n",
       "    }\n",
       "</style>\n",
       "<table border=\"1\" class=\"dataframe\">\n",
       "  <thead>\n",
       "    <tr style=\"text-align: right;\">\n",
       "      <th></th>\n",
       "      <th>nifty_50_change</th>\n",
       "      <th>mutual_funds_changes</th>\n",
       "    </tr>\n",
       "  </thead>\n",
       "  <tbody>\n",
       "    <tr>\n",
       "      <th>0</th>\n",
       "      <td>0.00</td>\n",
       "      <td>0.00</td>\n",
       "    </tr>\n",
       "    <tr>\n",
       "      <th>1</th>\n",
       "      <td>0.00</td>\n",
       "      <td>0.00</td>\n",
       "    </tr>\n",
       "    <tr>\n",
       "      <th>2</th>\n",
       "      <td>271.65</td>\n",
       "      <td>237.16</td>\n",
       "    </tr>\n",
       "    <tr>\n",
       "      <th>3</th>\n",
       "      <td>179.55</td>\n",
       "      <td>89.12</td>\n",
       "    </tr>\n",
       "    <tr>\n",
       "      <th>4</th>\n",
       "      <td>120.60</td>\n",
       "      <td>128.29</td>\n",
       "    </tr>\n",
       "    <tr>\n",
       "      <th>...</th>\n",
       "      <td>...</td>\n",
       "      <td>...</td>\n",
       "    </tr>\n",
       "    <tr>\n",
       "      <th>312</th>\n",
       "      <td>-45.80</td>\n",
       "      <td>9.14</td>\n",
       "    </tr>\n",
       "    <tr>\n",
       "      <th>313</th>\n",
       "      <td>-128.80</td>\n",
       "      <td>-326.54</td>\n",
       "    </tr>\n",
       "    <tr>\n",
       "      <th>314</th>\n",
       "      <td>321.50</td>\n",
       "      <td>194.85</td>\n",
       "    </tr>\n",
       "    <tr>\n",
       "      <th>315</th>\n",
       "      <td>0.00</td>\n",
       "      <td>0.00</td>\n",
       "    </tr>\n",
       "    <tr>\n",
       "      <th>316</th>\n",
       "      <td>0.00</td>\n",
       "      <td>0.00</td>\n",
       "    </tr>\n",
       "  </tbody>\n",
       "</table>\n",
       "<p>317 rows × 2 columns</p>\n",
       "</div>"
      ],
      "text/plain": [
       "     nifty_50_change  mutual_funds_changes\n",
       "0               0.00                  0.00\n",
       "1               0.00                  0.00\n",
       "2             271.65                237.16\n",
       "3             179.55                 89.12\n",
       "4             120.60                128.29\n",
       "..               ...                   ...\n",
       "312           -45.80                  9.14\n",
       "313          -128.80               -326.54\n",
       "314           321.50                194.85\n",
       "315             0.00                  0.00\n",
       "316             0.00                  0.00\n",
       "\n",
       "[317 rows x 2 columns]"
      ]
     },
     "execution_count": 9,
     "metadata": {},
     "output_type": "execute_result"
    }
   ],
   "source": [
    "dataset"
   ]
  },
  {
   "cell_type": "code",
   "execution_count": 10,
   "id": "cbba530f",
   "metadata": {},
   "outputs": [
    {
     "data": {
      "text/plain": [
       "(317, 2)"
      ]
     },
     "execution_count": 10,
     "metadata": {},
     "output_type": "execute_result"
    }
   ],
   "source": [
    "dataset.shape"
   ]
  },
  {
   "cell_type": "code",
   "execution_count": 11,
   "id": "656c5088",
   "metadata": {},
   "outputs": [],
   "source": [
    "#Independent Variable\n",
    "X=dataset.iloc[:,:-1].values\n",
    "\n",
    "#Dependent Variable\n",
    "y=dataset.iloc[:,-1].values"
   ]
  },
  {
   "cell_type": "code",
   "execution_count": 12,
   "id": "43aa6d2e",
   "metadata": {},
   "outputs": [
    {
     "data": {
      "text/plain": [
       "array([[   0.  ],\n",
       "       [   0.  ],\n",
       "       [ 271.65],\n",
       "       [ 179.55],\n",
       "       [ 120.6 ],\n",
       "       [-179.38],\n",
       "       [  66.8 ],\n",
       "       [   0.  ],\n",
       "       [   0.  ],\n",
       "       [ 190.6 ],\n",
       "       [  52.45],\n",
       "       [ 156.6 ],\n",
       "       [  45.45],\n",
       "       [  -2.05],\n",
       "       [   0.  ],\n",
       "       [   0.  ],\n",
       "       [  52.35],\n",
       "       [-195.05],\n",
       "       [-174.65],\n",
       "       [-181.4 ],\n",
       "       [-139.85],\n",
       "       [   0.  ],\n",
       "       [   0.  ],\n",
       "       [-468.05],\n",
       "       [ 128.85],\n",
       "       [   0.  ],\n",
       "       [-167.8 ],\n",
       "       [  -8.2 ],\n",
       "       [   0.  ],\n",
       "       [   0.  ],\n",
       "       [ 237.9 ],\n",
       "       [ 237.  ],\n",
       "       [ 203.15],\n",
       "       [-219.8 ],\n",
       "       [ -43.9 ],\n",
       "       [   0.  ],\n",
       "       [   0.  ],\n",
       "       [-302.7 ],\n",
       "       [  53.15],\n",
       "       [ 197.05],\n",
       "       [ 142.05],\n",
       "       [-231.1 ],\n",
       "       [   0.  ],\n",
       "       [   0.  ],\n",
       "       [-531.95],\n",
       "       [ 509.95],\n",
       "       [ -30.25],\n",
       "       [ -17.6 ],\n",
       "       [ -28.3 ],\n",
       "       [   0.  ],\n",
       "       [   0.  ],\n",
       "       [ -69.65],\n",
       "       [-114.45],\n",
       "       [ -28.95],\n",
       "       [-815.3 ],\n",
       "       [ 410.45],\n",
       "       [   0.  ],\n",
       "       [   0.  ],\n",
       "       [ 135.5 ],\n",
       "       [   0.  ],\n",
       "       [-187.95],\n",
       "       [-107.9 ],\n",
       "       [-252.7 ],\n",
       "       [   0.  ],\n",
       "       [   0.  ],\n",
       "       [-382.2 ],\n",
       "       [ 150.3 ],\n",
       "       [ 331.9 ],\n",
       "       [ 249.55],\n",
       "       [  35.55],\n",
       "       [   0.  ],\n",
       "       [   0.  ],\n",
       "       [ 240.85],\n",
       "       [-208.3 ],\n",
       "       [ 312.35],\n",
       "       [ 311.7 ],\n",
       "       [   0.  ],\n",
       "       [   0.  ],\n",
       "       [   0.  ],\n",
       "       [-169.45],\n",
       "       [ 197.9 ],\n",
       "       [ -69.85],\n",
       "       [ -22.9 ],\n",
       "       [ -69.75],\n",
       "       [   0.  ],\n",
       "       [   0.  ],\n",
       "       [  60.75],\n",
       "       [ 103.3 ],\n",
       "       [ 172.95],\n",
       "       [ -33.5 ],\n",
       "       [ 205.7 ],\n",
       "       [   0.  ],\n",
       "       [   0.  ],\n",
       "       [ 382.95],\n",
       "       [ -96.  ],\n",
       "       [-149.75],\n",
       "       [-168.1 ],\n",
       "       [ 144.8 ],\n",
       "       [   0.  ],\n",
       "       [   0.  ],\n",
       "       [-109.4 ],\n",
       "       [-144.65],\n",
       "       [ -54.65],\n",
       "       [   0.  ],\n",
       "       [   0.  ],\n",
       "       [   0.  ],\n",
       "       [   0.  ],\n",
       "       [-302.  ],\n",
       "       [-215.  ],\n",
       "       [ 177.9 ],\n",
       "       [ 258.55],\n",
       "       [-220.65],\n",
       "       [   0.  ],\n",
       "       [   0.  ],\n",
       "       [-218.  ],\n",
       "       [ 246.85],\n",
       "       [-162.4 ],\n",
       "       [ 206.65],\n",
       "       [-142.5 ],\n",
       "       [   0.  ],\n",
       "       [   0.  ],\n",
       "       [ -33.45],\n",
       "       [   0.  ],\n",
       "       [-391.5 ],\n",
       "       [   5.05],\n",
       "       [-271.4 ],\n",
       "       [   0.  ],\n",
       "       [   0.  ],\n",
       "       [-109.4 ],\n",
       "       [ -61.8 ],\n",
       "       [ -72.95],\n",
       "       [-359.1 ],\n",
       "       [ -25.85],\n",
       "       [   0.  ],\n",
       "       [   0.  ],\n",
       "       [  60.15],\n",
       "       [ 417.  ],\n",
       "       [ -19.  ],\n",
       "       [-430.9 ],\n",
       "       [ 456.75],\n",
       "       [   0.  ],\n",
       "       [   0.  ],\n",
       "       [ -51.45],\n",
       "       [ -89.55],\n",
       "       [ -94.6 ],\n",
       "       [ 144.35],\n",
       "       [ 182.3 ],\n",
       "       [   0.  ],\n",
       "       [   0.  ],\n",
       "       [ 308.95],\n",
       "       [ -76.85],\n",
       "       [ -61.8 ],\n",
       "       [ 105.25],\n",
       "       [ -43.7 ],\n",
       "       [   0.  ],\n",
       "       [   0.  ],\n",
       "       [ -14.75],\n",
       "       [-153.2 ],\n",
       "       [ -60.1 ],\n",
       "       [ 126.  ],\n",
       "       [-276.3 ],\n",
       "       [   0.  ],\n",
       "       [   0.  ],\n",
       "       [-427.4 ],\n",
       "       [ -42.3 ],\n",
       "       [ -39.95],\n",
       "       [-331.55],\n",
       "       [ -67.1 ],\n",
       "       [   0.  ],\n",
       "       [   0.  ],\n",
       "       [  56.65],\n",
       "       [ 288.65],\n",
       "       [-225.5 ],\n",
       "       [ 143.35],\n",
       "       [ 142.6 ],\n",
       "       [   0.  ],\n",
       "       [   0.  ],\n",
       "       [ 132.8 ],\n",
       "       [  18.15],\n",
       "       [ -51.1 ],\n",
       "       [ -18.85],\n",
       "       [ -28.2 ],\n",
       "       [   0.  ],\n",
       "       [   0.  ],\n",
       "       [  83.3 ],\n",
       "       [ -24.5 ],\n",
       "       [ 178.95],\n",
       "       [ 143.1 ],\n",
       "       [  87.7 ],\n",
       "       [   0.  ],\n",
       "       [   0.  ],\n",
       "       [  -4.6 ],\n",
       "       [-157.7 ],\n",
       "       [ -91.65],\n",
       "       [ -28.  ],\n",
       "       [ 110.55],\n",
       "       [   0.  ],\n",
       "       [   0.  ],\n",
       "       [ 229.3 ],\n",
       "       [  62.05],\n",
       "       [ 180.3 ],\n",
       "       [  84.4 ],\n",
       "       [ 114.2 ],\n",
       "       [   0.  ],\n",
       "       [   0.  ],\n",
       "       [ -88.45],\n",
       "       [-147.15],\n",
       "       [ 158.6 ],\n",
       "       [ 287.8 ],\n",
       "       [ 228.65],\n",
       "       [   0.  ],\n",
       "       [   0.  ],\n",
       "       [ 181.8 ],\n",
       "       [   5.4 ],\n",
       "       [  42.7 ],\n",
       "       [  -6.15],\n",
       "       [  15.5 ],\n",
       "       [   0.  ],\n",
       "       [   0.  ],\n",
       "       [ 127.6 ],\n",
       "       [   0.  ],\n",
       "       [   9.65],\n",
       "       [ 124.25],\n",
       "       [  39.15],\n",
       "       [   0.  ],\n",
       "       [   0.  ],\n",
       "       [   0.  ],\n",
       "       [ 127.1 ],\n",
       "       [ 119.  ],\n",
       "       [  12.25],\n",
       "       [-198.05],\n",
       "       [   0.  ],\n",
       "       [   0.  ],\n",
       "       [-267.75],\n",
       "       [  86.8 ],\n",
       "       [  27.45],\n",
       "       [ -82.5 ],\n",
       "       [  36.45],\n",
       "       [   0.  ],\n",
       "       [   0.  ],\n",
       "       [-246.  ],\n",
       "       [ 342.2 ],\n",
       "       [   0.  ],\n",
       "       [-216.5 ],\n",
       "       [  -3.35],\n",
       "       [   0.  ],\n",
       "       [   0.  ],\n",
       "       [ 126.35],\n",
       "       [ -10.2 ],\n",
       "       [ -31.2 ],\n",
       "       [ 174.35],\n",
       "       [  34.6 ],\n",
       "       [   0.  ],\n",
       "       [   0.  ],\n",
       "       [ 103.  ],\n",
       "       [ 133.7 ],\n",
       "       [ -66.3 ],\n",
       "       [-126.35],\n",
       "       [-287.8 ],\n",
       "       [   0.  ],\n",
       "       [   0.  ],\n",
       "       [  91.4 ],\n",
       "       [ 194.  ],\n",
       "       [ -97.9 ],\n",
       "       [ -88.55],\n",
       "       [-302.45],\n",
       "       [   0.  ],\n",
       "       [   0.  ],\n",
       "       [-311.05],\n",
       "       [  -8.9 ],\n",
       "       [-148.8 ],\n",
       "       [ -58.3 ],\n",
       "       [ 279.95],\n",
       "       [   0.  ],\n",
       "       [   0.  ],\n",
       "       [-207.  ],\n",
       "       [ 386.95],\n",
       "       [   0.  ],\n",
       "       [  57.5 ],\n",
       "       [ -17.15],\n",
       "       [   0.  ],\n",
       "       [   0.  ],\n",
       "       [-158.9 ],\n",
       "       [-226.5 ],\n",
       "       [ 140.05],\n",
       "       [-109.25],\n",
       "       [ 171.35],\n",
       "       [   0.  ],\n",
       "       [   0.  ],\n",
       "       [ 126.1 ],\n",
       "       [ 175.15],\n",
       "       [  25.3 ],\n",
       "       [  51.7 ],\n",
       "       [  12.35],\n",
       "       [   0.  ],\n",
       "       [   0.  ],\n",
       "       [ 154.45],\n",
       "       [ -74.4 ],\n",
       "       [   0.  ],\n",
       "       [  80.6 ],\n",
       "       [  49.85],\n",
       "       [   0.  ],\n",
       "       [   0.  ],\n",
       "       [ 225.4 ],\n",
       "       [ 133.2 ],\n",
       "       [ -62.55],\n",
       "       [ -30.15],\n",
       "       [  64.45],\n",
       "       [   0.  ],\n",
       "       [   0.  ],\n",
       "       [  85.65],\n",
       "       [   0.  ],\n",
       "       [ -45.8 ],\n",
       "       [-128.8 ],\n",
       "       [ 321.5 ],\n",
       "       [   0.  ],\n",
       "       [   0.  ]])"
      ]
     },
     "execution_count": 12,
     "metadata": {},
     "output_type": "execute_result"
    }
   ],
   "source": [
    "X"
   ]
  },
  {
   "cell_type": "code",
   "execution_count": 13,
   "id": "c843fec5",
   "metadata": {},
   "outputs": [
    {
     "data": {
      "text/plain": [
       "array([ 0.0000e+00,  0.0000e+00,  2.3716e+02,  8.9120e+01,  1.2829e+02,\n",
       "       -5.8980e+01,  6.9670e+01,  0.0000e+00,  0.0000e+00,  1.0670e+02,\n",
       "        3.8180e+01,  2.6180e+01,  5.3780e+01,  1.0344e+02,  0.0000e+00,\n",
       "        0.0000e+00,  5.5350e+01, -2.8192e+02, -1.4408e+02, -7.7900e+01,\n",
       "       -2.7101e+02,  0.0000e+00,  0.0000e+00, -6.5590e+02,  1.7650e+02,\n",
       "        0.0000e+00, -1.8704e+02,  6.6990e+01,  0.0000e+00,  0.0000e+00,\n",
       "        2.2014e+02,  2.7296e+02,  2.5161e+02, -1.2348e+02,  3.1900e+00,\n",
       "        0.0000e+00,  0.0000e+00, -2.4645e+02, -9.9600e+01,  2.0361e+02,\n",
       "        8.6830e+01, -2.8760e+02,  0.0000e+00,  0.0000e+00, -6.2791e+02,\n",
       "        4.5264e+02, -3.1810e+01, -7.0900e+01, -1.3501e+02,  0.0000e+00,\n",
       "        0.0000e+00, -2.2793e+02, -1.6272e+02,  5.9710e+01, -9.2659e+02,\n",
       "        6.3164e+02,  0.0000e+00,  0.0000e+00,  1.9384e+02,  0.0000e+00,\n",
       "       -1.0937e+02, -4.4360e+01, -3.8122e+02,  0.0000e+00,  0.0000e+00,\n",
       "       -4.3464e+02,  2.2024e+02,  3.7477e+02,  2.6861e+02,  4.6390e+01,\n",
       "        0.0000e+00,  0.0000e+00,  1.0171e+02, -1.4604e+02,  3.3710e+02,\n",
       "        3.3153e+02,  0.0000e+00,  0.0000e+00,  0.0000e+00, -1.2095e+02,\n",
       "        1.2276e+02, -3.5080e+01,  1.5188e+02, -2.4980e+01,  0.0000e+00,\n",
       "        0.0000e+00,  2.4820e+01,  2.0769e+02,  2.0106e+02,  1.6210e+01,\n",
       "        2.5906e+02,  0.0000e+00,  0.0000e+00,  3.2765e+02,  2.7500e+01,\n",
       "       -3.5760e+01, -1.3771e+02,  2.9441e+02,  0.0000e+00,  0.0000e+00,\n",
       "        3.3660e+01, -2.7166e+02,  1.0380e+01,  0.0000e+00,  0.0000e+00,\n",
       "        0.0000e+00,  0.0000e+00, -1.9603e+02, -2.8973e+02,  6.2630e+01,\n",
       "        3.0636e+02, -2.0392e+02,  0.0000e+00,  0.0000e+00, -3.6767e+02,\n",
       "        3.8023e+02, -2.3378e+02,  1.3332e+02, -1.8656e+02,  0.0000e+00,\n",
       "        0.0000e+00, -2.6390e+01,  0.0000e+00, -6.6891e+02,  6.9160e+01,\n",
       "       -4.6891e+02,  0.0000e+00,  0.0000e+00, -2.8136e+02, -3.5482e+02,\n",
       "       -2.9834e+02, -4.1062e+02, -4.8000e+00,  0.0000e+00,  0.0000e+00,\n",
       "        2.6761e+02,  5.9080e+02,  1.8750e+01, -4.8938e+02,  4.6399e+02,\n",
       "        0.0000e+00,  0.0000e+00, -1.1913e+02, -1.7223e+02, -3.2104e+02,\n",
       "        2.2629e+02,  2.2154e+02,  0.0000e+00,  0.0000e+00,  4.0756e+02,\n",
       "        9.2610e+01, -4.7720e+01,  1.0797e+02, -2.2252e+02,  0.0000e+00,\n",
       "        0.0000e+00, -9.5950e+01, -1.8582e+02, -1.8120e+01,  1.0155e+02,\n",
       "       -2.4223e+02,  0.0000e+00,  0.0000e+00, -6.2666e+02,  3.1780e+01,\n",
       "        6.6580e+01, -4.8124e+02, -1.7518e+02,  0.0000e+00,  0.0000e+00,\n",
       "       -1.6645e+02,  4.6360e+02, -3.1814e+02,  2.1670e+02,  2.7928e+02,\n",
       "        0.0000e+00,  0.0000e+00,  1.8511e+02,  5.2650e+01, -1.0241e+02,\n",
       "       -1.2980e+02,  8.7650e+01,  0.0000e+00,  0.0000e+00,  1.5969e+02,\n",
       "       -1.8420e+01,  2.9374e+02,  2.0889e+02,  1.0202e+02,  0.0000e+00,\n",
       "        0.0000e+00,  1.2125e+02, -1.6665e+02, -1.1820e+01, -4.3030e+01,\n",
       "        1.5413e+02,  0.0000e+00,  0.0000e+00,  3.4121e+02,  9.5410e+01,\n",
       "        9.2330e+01,  2.5542e+02,  5.2100e+01,  0.0000e+00,  0.0000e+00,\n",
       "       -3.1330e+01, -1.8298e+02,  2.5038e+02,  3.7397e+02,  2.6727e+02,\n",
       "        0.0000e+00,  0.0000e+00,  3.2417e+02,  5.8610e+01, -4.9060e+01,\n",
       "       -7.2200e+00,  1.2864e+02,  0.0000e+00,  0.0000e+00,  1.7304e+02,\n",
       "        0.0000e+00, -9.3150e+01,  2.0508e+02,  6.1070e+01,  0.0000e+00,\n",
       "        0.0000e+00,  0.0000e+00,  1.9630e+02,  1.9912e+02,  8.0590e+01,\n",
       "       -1.6235e+02,  0.0000e+00,  0.0000e+00, -4.7095e+02,  1.4584e+02,\n",
       "        1.6966e+02, -1.0620e+02,  1.7404e+02,  0.0000e+00,  0.0000e+00,\n",
       "       -2.4110e+02,  5.5240e+02,  0.0000e+00, -4.8600e+01,  1.7348e+02,\n",
       "        0.0000e+00,  0.0000e+00,  1.6544e+02, -3.5640e+01,  1.1837e+02,\n",
       "        2.2929e+02,  2.6470e+01,  0.0000e+00,  0.0000e+00,  1.8372e+02,\n",
       "        1.7090e+02,  1.4467e+02,  4.3940e+01, -7.2234e+02,  0.0000e+00,\n",
       "        0.0000e+00,  2.6988e+02,  2.8166e+02, -2.5440e+02,  1.5840e+01,\n",
       "       -4.7768e+02,  0.0000e+00,  0.0000e+00, -7.2439e+02, -2.2810e+01,\n",
       "       -2.3814e+02, -9.0000e-01,  3.7303e+02,  0.0000e+00,  0.0000e+00,\n",
       "       -4.1856e+02,  6.2029e+02,  0.0000e+00,  1.6087e+02, -1.0050e+01,\n",
       "        0.0000e+00,  0.0000e+00, -1.8071e+02, -4.7523e+02,  2.2608e+02,\n",
       "       -2.3444e+02,  1.2990e+02,  0.0000e+00,  0.0000e+00,  2.2442e+02,\n",
       "        2.3001e+02,  2.4700e+00,  1.6983e+02, -2.2773e+02,  0.0000e+00,\n",
       "        0.0000e+00,  0.0000e+00,  1.1202e+02,  0.0000e+00,  9.4230e+01,\n",
       "       -2.5770e+01,  0.0000e+00,  0.0000e+00,  2.8860e+02,  2.4265e+02,\n",
       "       -5.9270e+01, -2.4780e+01,  1.6688e+02,  0.0000e+00,  0.0000e+00,\n",
       "        5.1350e+01,  5.1350e+01,  9.1400e+00, -3.2654e+02,  1.9485e+02,\n",
       "        0.0000e+00,  0.0000e+00])"
      ]
     },
     "execution_count": 13,
     "metadata": {},
     "output_type": "execute_result"
    }
   ],
   "source": [
    "y"
   ]
  },
  {
   "cell_type": "markdown",
   "id": "8574ca3c",
   "metadata": {},
   "source": [
    "### Splitting the dataset (Training and Testing)"
   ]
  },
  {
   "cell_type": "code",
   "execution_count": 14,
   "id": "92955b4e",
   "metadata": {},
   "outputs": [],
   "source": [
    "from sklearn.model_selection import train_test_split\n",
    "X_train, X_test, y_train,y_test =train_test_split(X,y,test_size=1/3, random_state=0)"
   ]
  },
  {
   "cell_type": "code",
   "execution_count": 15,
   "id": "a04d39a3",
   "metadata": {},
   "outputs": [
    {
     "data": {
      "text/plain": [
       "array([[  49.85],\n",
       "       [   0.  ],\n",
       "       [ -14.75],\n",
       "       [   5.4 ],\n",
       "       [   0.  ],\n",
       "       [ -54.65],\n",
       "       [   0.  ],\n",
       "       [   0.  ],\n",
       "       [-331.55],\n",
       "       [   0.  ],\n",
       "       [   0.  ],\n",
       "       [  -4.6 ],\n",
       "       [   0.  ],\n",
       "       [   0.  ],\n",
       "       [-531.95],\n",
       "       [  36.45],\n",
       "       [ -60.1 ],\n",
       "       [   0.  ],\n",
       "       [ -19.  ],\n",
       "       [ 127.6 ],\n",
       "       [-220.65],\n",
       "       [   0.  ],\n",
       "       [   0.  ],\n",
       "       [   0.  ],\n",
       "       [-174.65],\n",
       "       [   0.  ],\n",
       "       [-169.45],\n",
       "       [   0.  ],\n",
       "       [ 229.3 ],\n",
       "       [   0.  ],\n",
       "       [ 133.2 ],\n",
       "       [ -51.45],\n",
       "       [-207.  ],\n",
       "       [ -69.75],\n",
       "       [ -82.5 ],\n",
       "       [-142.5 ],\n",
       "       [   0.  ],\n",
       "       [ 154.45],\n",
       "       [ 258.55],\n",
       "       [  52.35],\n",
       "       [ 311.7 ],\n",
       "       [ 177.9 ],\n",
       "       [ 181.8 ],\n",
       "       [-226.5 ],\n",
       "       [ 456.75],\n",
       "       [ 120.6 ],\n",
       "       [-168.1 ],\n",
       "       [   0.  ],\n",
       "       [-107.9 ],\n",
       "       [ 331.9 ],\n",
       "       [   0.  ],\n",
       "       [-276.3 ],\n",
       "       [ 119.  ],\n",
       "       [   0.  ],\n",
       "       [   0.  ],\n",
       "       [ 142.05],\n",
       "       [  42.7 ],\n",
       "       [  -2.05],\n",
       "       [-302.  ],\n",
       "       [   0.  ],\n",
       "       [ 179.55],\n",
       "       [ -28.2 ],\n",
       "       [-271.4 ],\n",
       "       [ 128.85],\n",
       "       [ 237.9 ],\n",
       "       [   0.  ],\n",
       "       [  12.35],\n",
       "       [  15.5 ],\n",
       "       [ -28.  ],\n",
       "       [-181.4 ],\n",
       "       [-148.8 ],\n",
       "       [ 279.95],\n",
       "       [   0.  ],\n",
       "       [ 197.9 ],\n",
       "       [ -69.65],\n",
       "       [ 271.65],\n",
       "       [ 156.6 ],\n",
       "       [   0.  ],\n",
       "       [   0.  ],\n",
       "       [  60.75],\n",
       "       [  52.45],\n",
       "       [ 124.25],\n",
       "       [ 135.5 ],\n",
       "       [-231.1 ],\n",
       "       [   0.  ],\n",
       "       [   0.  ],\n",
       "       [   0.  ],\n",
       "       [  64.45],\n",
       "       [  80.6 ],\n",
       "       [ 194.  ],\n",
       "       [   0.  ],\n",
       "       [-391.5 ],\n",
       "       [-198.05],\n",
       "       [-252.7 ],\n",
       "       [   0.  ],\n",
       "       [-287.8 ],\n",
       "       [ -72.95],\n",
       "       [ 143.1 ],\n",
       "       [   0.  ],\n",
       "       [   0.  ],\n",
       "       [-246.  ],\n",
       "       [   0.  ],\n",
       "       [-218.  ],\n",
       "       [-430.9 ],\n",
       "       [   0.  ],\n",
       "       [ -45.8 ],\n",
       "       [  84.4 ],\n",
       "       [ 308.95],\n",
       "       [   0.  ],\n",
       "       [ -88.45],\n",
       "       [   0.  ],\n",
       "       [   0.  ],\n",
       "       [ -31.2 ],\n",
       "       [ 382.95],\n",
       "       [  86.8 ],\n",
       "       [   0.  ],\n",
       "       [   0.  ],\n",
       "       [  18.15],\n",
       "       [   0.  ],\n",
       "       [   0.  ],\n",
       "       [ -96.  ],\n",
       "       [  25.3 ],\n",
       "       [-149.75],\n",
       "       [-128.8 ],\n",
       "       [ 386.95],\n",
       "       [   0.  ],\n",
       "       [  35.55],\n",
       "       [   0.  ],\n",
       "       [ -28.3 ],\n",
       "       [   0.  ],\n",
       "       [ 321.5 ],\n",
       "       [   0.  ],\n",
       "       [ 158.6 ],\n",
       "       [-468.05],\n",
       "       [ 178.95],\n",
       "       [ 127.1 ],\n",
       "       [   0.  ],\n",
       "       [ -89.55],\n",
       "       [   0.  ],\n",
       "       [   0.  ],\n",
       "       [ -18.85],\n",
       "       [-109.4 ],\n",
       "       [   0.  ],\n",
       "       [-359.1 ],\n",
       "       [  -8.9 ],\n",
       "       [-158.9 ],\n",
       "       [   0.  ],\n",
       "       [   0.  ],\n",
       "       [  66.8 ],\n",
       "       [ 249.55],\n",
       "       [   0.  ],\n",
       "       [   0.  ],\n",
       "       [ -33.45],\n",
       "       [ -58.3 ],\n",
       "       [ 175.15],\n",
       "       [   0.  ],\n",
       "       [ -22.9 ],\n",
       "       [   0.  ],\n",
       "       [   0.  ],\n",
       "       [-126.35],\n",
       "       [   0.  ],\n",
       "       [   0.  ],\n",
       "       [   0.  ],\n",
       "       [  57.5 ],\n",
       "       [  53.15],\n",
       "       [ -28.95],\n",
       "       [   0.  ],\n",
       "       [-109.4 ],\n",
       "       [   0.  ],\n",
       "       [   0.  ],\n",
       "       [-427.4 ],\n",
       "       [ -61.8 ],\n",
       "       [  -3.35],\n",
       "       [ 114.2 ],\n",
       "       [ 237.  ],\n",
       "       [ 203.15],\n",
       "       [   0.  ],\n",
       "       [ -24.5 ],\n",
       "       [   0.  ],\n",
       "       [ 171.35],\n",
       "       [   0.  ],\n",
       "       [-109.25],\n",
       "       [ -30.15],\n",
       "       [ 132.8 ],\n",
       "       [   0.  ],\n",
       "       [   0.  ],\n",
       "       [-216.5 ],\n",
       "       [ 246.85],\n",
       "       [-302.45],\n",
       "       [ 240.85],\n",
       "       [   0.  ],\n",
       "       [ -39.95],\n",
       "       [ 225.4 ],\n",
       "       [ 142.6 ],\n",
       "       [ -62.55],\n",
       "       [ 197.05],\n",
       "       [ -91.65],\n",
       "       [ 172.95],\n",
       "       [   0.  ],\n",
       "       [ 103.3 ],\n",
       "       [  51.7 ],\n",
       "       [   0.  ],\n",
       "       [   0.  ],\n",
       "       [   0.  ],\n",
       "       [ 190.6 ],\n",
       "       [ 110.55],\n",
       "       [  34.6 ],\n",
       "       [-157.7 ],\n",
       "       [ 206.65],\n",
       "       [ -17.6 ],\n",
       "       [-225.5 ]])"
      ]
     },
     "execution_count": 15,
     "metadata": {},
     "output_type": "execute_result"
    }
   ],
   "source": [
    "X_train"
   ]
  },
  {
   "cell_type": "markdown",
   "id": "699103c4",
   "metadata": {},
   "source": [
    "### Training the Simple Regression Model"
   ]
  },
  {
   "cell_type": "code",
   "execution_count": 16,
   "id": "527c0c43",
   "metadata": {},
   "outputs": [
    {
     "data": {
      "text/html": [
       "<style>#sk-container-id-1 {color: black;background-color: white;}#sk-container-id-1 pre{padding: 0;}#sk-container-id-1 div.sk-toggleable {background-color: white;}#sk-container-id-1 label.sk-toggleable__label {cursor: pointer;display: block;width: 100%;margin-bottom: 0;padding: 0.3em;box-sizing: border-box;text-align: center;}#sk-container-id-1 label.sk-toggleable__label-arrow:before {content: \"▸\";float: left;margin-right: 0.25em;color: #696969;}#sk-container-id-1 label.sk-toggleable__label-arrow:hover:before {color: black;}#sk-container-id-1 div.sk-estimator:hover label.sk-toggleable__label-arrow:before {color: black;}#sk-container-id-1 div.sk-toggleable__content {max-height: 0;max-width: 0;overflow: hidden;text-align: left;background-color: #f0f8ff;}#sk-container-id-1 div.sk-toggleable__content pre {margin: 0.2em;color: black;border-radius: 0.25em;background-color: #f0f8ff;}#sk-container-id-1 input.sk-toggleable__control:checked~div.sk-toggleable__content {max-height: 200px;max-width: 100%;overflow: auto;}#sk-container-id-1 input.sk-toggleable__control:checked~label.sk-toggleable__label-arrow:before {content: \"▾\";}#sk-container-id-1 div.sk-estimator input.sk-toggleable__control:checked~label.sk-toggleable__label {background-color: #d4ebff;}#sk-container-id-1 div.sk-label input.sk-toggleable__control:checked~label.sk-toggleable__label {background-color: #d4ebff;}#sk-container-id-1 input.sk-hidden--visually {border: 0;clip: rect(1px 1px 1px 1px);clip: rect(1px, 1px, 1px, 1px);height: 1px;margin: -1px;overflow: hidden;padding: 0;position: absolute;width: 1px;}#sk-container-id-1 div.sk-estimator {font-family: monospace;background-color: #f0f8ff;border: 1px dotted black;border-radius: 0.25em;box-sizing: border-box;margin-bottom: 0.5em;}#sk-container-id-1 div.sk-estimator:hover {background-color: #d4ebff;}#sk-container-id-1 div.sk-parallel-item::after {content: \"\";width: 100%;border-bottom: 1px solid gray;flex-grow: 1;}#sk-container-id-1 div.sk-label:hover label.sk-toggleable__label {background-color: #d4ebff;}#sk-container-id-1 div.sk-serial::before {content: \"\";position: absolute;border-left: 1px solid gray;box-sizing: border-box;top: 0;bottom: 0;left: 50%;z-index: 0;}#sk-container-id-1 div.sk-serial {display: flex;flex-direction: column;align-items: center;background-color: white;padding-right: 0.2em;padding-left: 0.2em;position: relative;}#sk-container-id-1 div.sk-item {position: relative;z-index: 1;}#sk-container-id-1 div.sk-parallel {display: flex;align-items: stretch;justify-content: center;background-color: white;position: relative;}#sk-container-id-1 div.sk-item::before, #sk-container-id-1 div.sk-parallel-item::before {content: \"\";position: absolute;border-left: 1px solid gray;box-sizing: border-box;top: 0;bottom: 0;left: 50%;z-index: -1;}#sk-container-id-1 div.sk-parallel-item {display: flex;flex-direction: column;z-index: 1;position: relative;background-color: white;}#sk-container-id-1 div.sk-parallel-item:first-child::after {align-self: flex-end;width: 50%;}#sk-container-id-1 div.sk-parallel-item:last-child::after {align-self: flex-start;width: 50%;}#sk-container-id-1 div.sk-parallel-item:only-child::after {width: 0;}#sk-container-id-1 div.sk-dashed-wrapped {border: 1px dashed gray;margin: 0 0.4em 0.5em 0.4em;box-sizing: border-box;padding-bottom: 0.4em;background-color: white;}#sk-container-id-1 div.sk-label label {font-family: monospace;font-weight: bold;display: inline-block;line-height: 1.2em;}#sk-container-id-1 div.sk-label-container {text-align: center;}#sk-container-id-1 div.sk-container {/* jupyter's `normalize.less` sets `[hidden] { display: none; }` but bootstrap.min.css set `[hidden] { display: none !important; }` so we also need the `!important` here to be able to override the default hidden behavior on the sphinx rendered scikit-learn.org. See: https://github.com/scikit-learn/scikit-learn/issues/21755 */display: inline-block !important;position: relative;}#sk-container-id-1 div.sk-text-repr-fallback {display: none;}</style><div id=\"sk-container-id-1\" class=\"sk-top-container\"><div class=\"sk-text-repr-fallback\"><pre>LinearRegression()</pre><b>In a Jupyter environment, please rerun this cell to show the HTML representation or trust the notebook. <br />On GitHub, the HTML representation is unable to render, please try loading this page with nbviewer.org.</b></div><div class=\"sk-container\" hidden><div class=\"sk-item\"><div class=\"sk-estimator sk-toggleable\"><input class=\"sk-toggleable__control sk-hidden--visually\" id=\"sk-estimator-id-1\" type=\"checkbox\" checked><label for=\"sk-estimator-id-1\" class=\"sk-toggleable__label sk-toggleable__label-arrow\">LinearRegression</label><div class=\"sk-toggleable__content\"><pre>LinearRegression()</pre></div></div></div></div></div>"
      ],
      "text/plain": [
       "LinearRegression()"
      ]
     },
     "execution_count": 16,
     "metadata": {},
     "output_type": "execute_result"
    }
   ],
   "source": [
    "from sklearn.linear_model import LinearRegression\n",
    "reg=LinearRegression()\n",
    "reg.fit(X_train, y_train)"
   ]
  },
  {
   "cell_type": "markdown",
   "id": "5d9dd366",
   "metadata": {},
   "source": [
    "### Prediction of Testing dataset"
   ]
  },
  {
   "cell_type": "code",
   "execution_count": 17,
   "id": "70da11f7",
   "metadata": {},
   "outputs": [],
   "source": [
    "y_pred=reg.predict(X_test)"
   ]
  },
  {
   "cell_type": "code",
   "execution_count": 18,
   "id": "20942483",
   "metadata": {},
   "outputs": [
    {
     "data": {
      "text/plain": [
       "array([  -1.20742225,  208.16047443,  491.68075207,  159.34599207,\n",
       "         -1.20742225,  -85.08667423, -196.22518204,    4.85686154,\n",
       "         -1.20742225,   -1.20742225,  -62.57076908,  150.51975725,\n",
       "         -1.20742225,   -1.20742225,   -1.20742225,  273.36653574,\n",
       "        -52.00330426,  217.70721821,  -53.68449185,  373.87753633,\n",
       "       -202.70976273,  150.09946035,  215.30552166, -322.73454777,\n",
       "         -8.59263914,  122.47995004,   -1.20742225,   -1.20742225,\n",
       "       -226.90685546, -374.73127806,   -1.20742225,   -1.20742225,\n",
       "        345.41743222, -138.64450728,   53.37113183,  104.10697144,\n",
       "        172.67540792,  -90.55053388,  170.93417792, -107.54253696,\n",
       "        -21.80197016, -460.1716328 ,   -1.20742225,   66.82063251,\n",
       "        108.55011005,  499.54630826,   10.3807636 ,   -1.20742225,\n",
       "         73.30521319,   -1.20742225, -185.17737792,   31.75586289,\n",
       "         -1.20742225, -235.43287821,  409.72285732,   -1.20742225,\n",
       "        172.13502619, -118.77046833,   -1.20742225,  179.28007343,\n",
       "         -1.20742225,   -1.20742225,  -80.82366285,  -75.41984562,\n",
       "       -216.61558575, -265.15387301,   -1.20742225,  -53.9246615 ,\n",
       "         -1.20742225, -259.38980129,   -1.20742225,  611.16515539,\n",
       "        125.18185866, -174.91012517,   -1.20742225,   71.02360147,\n",
       "        -32.24935015,   13.50296912,  245.80706784,  344.39671119,\n",
       "         -1.20742225,   -1.20742225, -251.34411785,  101.64523247,\n",
       "         -1.20742225, -114.80766903,   -1.20742225,   -1.20742225,\n",
       "         -1.20742225, -169.14605345,  -37.53308255,   -1.20742225,\n",
       "         -1.20742225,  -13.45607465,  -41.43583945,  -93.49261215,\n",
       "        -11.0543781 ,  -81.78434147,   -1.20742225, -364.70419497,\n",
       "       -980.25902054, -177.91224586,  166.97137861,  150.21954518,\n",
       "         45.8057877 ,   98.82323903])"
      ]
     },
     "execution_count": 18,
     "metadata": {},
     "output_type": "execute_result"
    }
   ],
   "source": [
    "y_pred"
   ]
  },
  {
   "cell_type": "markdown",
   "id": "cce732ec",
   "metadata": {},
   "source": [
    "### Visualising the results"
   ]
  },
  {
   "cell_type": "code",
   "execution_count": 19,
   "id": "230f28ea",
   "metadata": {},
   "outputs": [
    {
     "data": {
      "text/plain": [
       "[<matplotlib.lines.Line2D at 0x1a99f364580>]"
      ]
     },
     "execution_count": 19,
     "metadata": {},
     "output_type": "execute_result"
    },
    {
     "data": {
      "image/png": "[encoded data removed]",
      "text/plain": [
       "<Figure size 432x288 with 1 Axes>"
      ]
     },
     "metadata": {
      "needs_background": "light"
     },
     "output_type": "display_data"
    }
   ],
   "source": [
    "plt.scatter(X_train,y_train,color='red')\n",
    "plt.plot(X_train, reg.predict(X_train), color='blue')"
   ]
  },
  {
   "cell_type": "code",
   "execution_count": 20,
   "id": "64c91973",
   "metadata": {},
   "outputs": [
    {
     "data": {
      "text/plain": [
       "[<matplotlib.lines.Line2D at 0x1a99f45d0f0>]"
      ]
     },
     "execution_count": 20,
     "metadata": {},
     "output_type": "execute_result"
    },
    {
     "data": {
      "image/png": "[encoded data removed]",
      "text/plain": [
       "<Figure size 432x288 with 1 Axes>"
      ]
     },
     "metadata": {
      "needs_background": "light"
     },
     "output_type": "display_data"
    }
   ],
   "source": [
    "plt.scatter(X_test,y_test,color='red')\n",
    "plt.plot(X_train, reg.predict(X_train), color='blue')"
   ]
  },
  {
   "cell_type": "code",
   "execution_count": 21,
   "id": "bc63ddd7",
   "metadata": {},
   "outputs": [],
   "source": [
    "#Coefficient\n",
    "b=reg.coef_"
   ]
  },
  {
   "cell_type": "code",
   "execution_count": 22,
   "id": "e5395c4c",
   "metadata": {},
   "outputs": [
    {
     "data": {
      "text/plain": [
       "array([1.20084827])"
      ]
     },
     "execution_count": 22,
     "metadata": {},
     "output_type": "execute_result"
    }
   ],
   "source": [
    "b"
   ]
  },
  {
   "cell_type": "code",
   "execution_count": 23,
   "id": "159bfdaf",
   "metadata": {},
   "outputs": [],
   "source": [
    "#Intercept\n",
    "a=reg.intercept_"
   ]
  },
  {
   "cell_type": "code",
   "execution_count": 24,
   "id": "e49b0e47",
   "metadata": {},
   "outputs": [
    {
     "data": {
      "text/plain": [
       "-1.2074222470348488"
      ]
     },
     "execution_count": 24,
     "metadata": {},
     "output_type": "execute_result"
    }
   ],
   "source": [
    "a"
   ]
  },
  {
   "cell_type": "code",
   "execution_count": 28,
   "id": "d37609b2",
   "metadata": {},
   "outputs": [
    {
     "data": {
      "text/plain": [
       "array([-228.88825511])"
      ]
     },
     "execution_count": 28,
     "metadata": {},
     "output_type": "execute_result"
    }
   ],
   "source": [
    "reg.predict([[-189.60]])"
   ]
  },
  {
   "cell_type": "code",
   "execution_count": 26,
   "id": "ab17f7e3",
   "metadata": {},
   "outputs": [
    {
     "data": {
      "text/plain": [
       "185.12364760432766"
      ]
     },
     "execution_count": 26,
     "metadata": {},
     "output_type": "execute_result"
    }
   ],
   "source": [
    "((22.03+25.88)/25.88)*100"
   ]
  },
  {
   "cell_type": "code",
   "execution_count": 27,
   "id": "9056fdb6",
   "metadata": {},
   "outputs": [
    {
     "data": {
      "text/plain": [
       "2.5"
      ]
     },
     "execution_count": 27,
     "metadata": {},
     "output_type": "execute_result"
    }
   ],
   "source": [
    "2.50"
   ]
  }
 ],
 "metadata": {
  "kernelspec": {
   "display_name": "Python 3 (ipykernel)",
   "language": "python",
   "name": "python3"
  },
  "language_info": {
   "codemirror_mode": {
    "name": "ipython",
    "version": 3
   },
   "file_extension": ".py",
   "mimetype": "text/x-python",
   "name": "python",
   "nbconvert_exporter": "python",
   "pygments_lexer": "ipython3",
   "version": "3.10.5"
  }
 },
 "nbformat": 4,
 "nbformat_minor": 5
}
