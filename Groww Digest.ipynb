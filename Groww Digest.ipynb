{
 "cells": [
  {
   "cell_type": "code",
   "execution_count": 1,
   "id": "e41ae961",
   "metadata": {},
   "outputs": [
    {
     "name": "stdout",
     "output_type": "stream",
     "text": [
      "Groww Digest Daily\n"
     ]
    }
   ],
   "source": [
    "print(\"Groww Digest Daily\")"
   ]
  },
  {
   "cell_type": "code",
   "execution_count": 12,
   "id": "63e47b43",
   "metadata": {},
   "outputs": [
    {
     "name": "stdout",
     "output_type": "stream",
     "text": [
      "18 Oct 2022\n",
      "Sensex 58960.60 ▲ 0.94%\n"
     ]
    }
   ],
   "source": [
    "print(\"18 Oct 2022\")\n",
    "print(\"Sensex 58960.60 ▲ 0.94%\")"
   ]
  },
  {
   "cell_type": "code",
   "execution_count": 13,
   "id": "03a51158",
   "metadata": {},
   "outputs": [
    {
     "name": "stdout",
     "output_type": "stream",
     "text": [
      "18 Oct 2022\n",
      "Nifty 17486.95 ▲ 1.01%\n"
     ]
    }
   ],
   "source": [
    "print(\"18 Oct 2022\")\n",
    "print(\"Nifty 17486.95 ▲ 1.01%\")"
   ]
  },
  {
   "cell_type": "code",
   "execution_count": 14,
   "id": "07bc34c6",
   "metadata": {},
   "outputs": [
    {
     "name": "stdout",
     "output_type": "stream",
     "text": [
      "18 Oct 2022\n",
      " Fact: Nifty has risen between 1 and 2% about 139 times in the last 5 years.\n"
     ]
    }
   ],
   "source": [
    "print(\"18 Oct 2022\")\n",
    "print(\" Fact: Nifty has risen between 1 and 2% about 139 times in the last 5 years.\")"
   ]
  },
  {
   "cell_type": "code",
   "execution_count": 7,
   "id": "dae1a7bf",
   "metadata": {},
   "outputs": [
    {
     "name": "stdout",
     "output_type": "stream",
     "text": [
      "19 Oct 2022\n",
      "Sensex 59107.19 ▲ 0.25%\n"
     ]
    }
   ],
   "source": [
    "print(\"19 Oct 2022\")\n",
    "print(\"Sensex 59107.19 ▲ 0.25%\")"
   ]
  },
  {
   "cell_type": "code",
   "execution_count": 8,
   "id": "b3bedcff",
   "metadata": {},
   "outputs": [
    {
     "name": "stdout",
     "output_type": "stream",
     "text": [
      "19 Oct 2022\n",
      "Nifty 17512.25 ▲ 0.14%\n"
     ]
    }
   ],
   "source": [
    "print(\"19 Oct 2022\")\n",
    "print(\"Nifty 17512.25 ▲ 0.14%\")"
   ]
  },
  {
   "cell_type": "code",
   "execution_count": 9,
   "id": "64f76de6",
   "metadata": {},
   "outputs": [
    {
     "name": "stdout",
     "output_type": "stream",
     "text": [
      "19 Oct 2022\n",
      "Fact: Nifty has risen between 0 and 1% about 502 times in the last 5 years.\n"
     ]
    }
   ],
   "source": [
    "print(\"19 Oct 2022\")\n",
    "print(\"Fact: Nifty has risen between 0 and 1% about 502 times in the last 5 years.\")"
   ]
  },
  {
   "cell_type": "code",
   "execution_count": 1,
   "id": "0a71bddb",
   "metadata": {},
   "outputs": [
    {
     "name": "stdout",
     "output_type": "stream",
     "text": [
      " 20 Oct 2022\n",
      " Fact: Nifty has risen between 0% and 1% about 502 times in the last 5 years.\n"
     ]
    }
   ],
   "source": [
    "print(\" 20 Oct 2022\")\n",
    "print(\" Fact: Nifty has risen between 0% and 1% about 502 times in the last 5 years.\")"
   ]
  },
  {
   "cell_type": "code",
   "execution_count": 2,
   "id": "196668fa",
   "metadata": {},
   "outputs": [
    {
     "name": "stdout",
     "output_type": "stream",
     "text": [
      " 21 Oct 2022\n",
      "  Fact: Nifty has risen between 0% and 1% about 503 times in the last 5 years.\n"
     ]
    }
   ],
   "source": [
    "print(\" 21 Oct 2022\")\n",
    "print(\"  Fact: Nifty has risen between 0% and 1% about 503 times in the last 5 years.\")"
   ]
  },
  {
   "cell_type": "code",
   "execution_count": 10,
   "id": "313d292a",
   "metadata": {},
   "outputs": [
    {
     "name": "stdout",
     "output_type": "stream",
     "text": [
      "Mutual Fund investments are subject to market risks, read all scheme related documents carefully.\n"
     ]
    }
   ],
   "source": [
    "print(\"Mutual Fund investments are subject to market risks, read all scheme related documents carefully.\")"
   ]
  },
  {
   "cell_type": "code",
   "execution_count": 11,
   "id": "d4eebaff",
   "metadata": {},
   "outputs": [
    {
     "name": "stdout",
     "output_type": "stream",
     "text": [
      "Past performance of the schemes is neither an indicator nor a guarantee of future performance\n"
     ]
    }
   ],
   "source": [
    "print(\"Past performance of the schemes is neither an indicator nor a guarantee of future performance\")"
   ]
  },
  {
   "cell_type": "code",
   "execution_count": null,
   "id": "b779810f",
   "metadata": {},
   "outputs": [],
   "source": []
  }
 ],
 "metadata": {
  "kernelspec": {
   "display_name": "Python 3 (ipykernel)",
   "language": "python",
   "name": "python3"
  },
  "language_info": {
   "codemirror_mode": {
    "name": "ipython",
    "version": 3
   },
   "file_extension": ".py",
   "mimetype": "text/x-python",
   "name": "python",
   "nbconvert_exporter": "python",
   "pygments_lexer": "ipython3",
   "version": "3.10.5"
  }
 },
 "nbformat": 4,
 "nbformat_minor": 5
}
