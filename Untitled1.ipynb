{
 "cells": [
  {
   "cell_type": "code",
   "execution_count": 18,
   "id": "7e0a21a1",
   "metadata": {},
   "outputs": [],
   "source": [
    "import requests\n",
    "from bs4 import BeautifulSoup"
   ]
  },
  {
   "cell_type": "code",
   "execution_count": null,
   "id": "3ee93764",
   "metadata": {},
   "outputs": [],
   "source": [
    "\n",
    "import requests\n",
    " \n",
    "# Making a GET request\n",
    "r = requests.get('https://www.nseindia.com/get-quotes/equity?symbol=TATAMOTORS')\n",
    " \n",
    "# check status code for response received\n",
    "# success code - 200\n",
    "print(r)\n",
    " \n",
    "# print content of request\n",
    "print(r.content)"
   ]
  },
  {
   "cell_type": "code",
   "execution_count": null,
   "id": "5ab2113c",
   "metadata": {},
   "outputs": [],
   "source": [
    "soup = BeautifulSoup(page.text, 'html.parser')"
   ]
  },
  {
   "cell_type": "code",
   "execution_count": null,
   "id": "9e3c3a30",
   "metadata": {},
   "outputs": [],
   "source": [
    "company = soup.find('h1', {'class': 'text-2xl font-semibold instrument-header_title__GTWDv mobile:mb-2'}).text\n",
    "price = soup.find('div', {'class': 'instrument-price_instrument-price__3uw25 flex items-end flex-wrap font-bold'}).find_all('span')[0].text\n",
    "change = soup.find('div', {'class': 'instrument-price_instrument-price__3uw25 flex items-end flex-wrap font-bold'}).find_all('span')[2].text"
   ]
  },
  {
   "cell_type": "code",
   "execution_count": null,
   "id": "d5b52ca5",
   "metadata": {},
   "outputs": [],
   "source": [
    "print('Loading: ', url)\n",
    "\n",
    "print(company, price, change)"
   ]
  },
  {
   "cell_type": "code",
   "execution_count": null,
   "id": "96963726",
   "metadata": {},
   "outputs": [],
   "source": []
  },
  {
   "cell_type": "code",
   "execution_count": null,
   "id": "5f5974f7",
   "metadata": {},
   "outputs": [],
   "source": []
  },
  {
   "cell_type": "code",
   "execution_count": null,
   "id": "edf9318d",
   "metadata": {},
   "outputs": [],
   "source": [
    "from bs4 import BeautifulSoup\n",
    "! pip3 install urllib.request\n",
    "import urllib2\n",
    "url=\"https://www.seedrs.com/tanorganic\"\n",
    "page = urllib2.urlopen(url)\n",
    "soup = BeautifulSoup(page.read(), \"html.parser\")\n",
    "target = soup.find(\"dl\", class_=\"investment_sought\")\n",
    "print (target.text)"
   ]
  },
  {
   "cell_type": "code",
   "execution_count": null,
   "id": "9a2afa45",
   "metadata": {},
   "outputs": [],
   "source": []
  }
 ],
 "metadata": {
  "kernelspec": {
   "display_name": "Python 3 (ipykernel)",
   "language": "python",
   "name": "python3"
  },
  "language_info": {
   "codemirror_mode": {
    "name": "ipython",
    "version": 3
   },
   "file_extension": ".py",
   "mimetype": "text/x-python",
   "name": "python",
   "nbconvert_exporter": "python",
   "pygments_lexer": "ipython3",
   "version": "3.10.5"
  }
 },
 "nbformat": 4,
 "nbformat_minor": 5
}
